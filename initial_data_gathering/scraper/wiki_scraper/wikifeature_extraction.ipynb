{
 "cells": [
  {
   "cell_type": "code",
   "execution_count": 1,
   "id": "dab7a8cd-6e84-4fe9-8180-15f530f32f0e",
   "metadata": {},
   "outputs": [],
   "source": [
    "import re\n",
    "import pandas as pd\n",
    "from bs4 import BeautifulSoup\n",
    "import os\n",
    "from lxml import etree\n",
    "import lxml"
   ]
  },
  {
   "cell_type": "code",
   "execution_count": 2,
   "id": "b4cadd3e-e8a7-4d31-ad05-71a17a880c5c",
   "metadata": {},
   "outputs": [],
   "source": [
    "df = pd.read_csv(\"wikipages_eng_it_full.csv\", sep=\";\")"
   ]
  },
  {
   "cell_type": "code",
   "execution_count": 25,
   "id": "59f12c16-850e-4227-a19c-b4e4648dc391",
   "metadata": {},
   "outputs": [],
   "source": [
    "paths = {\n",
    "    \"it\" : \"wiki_ita/artist_pages\",\n",
    "    \"en\" : \"wiki_eng/artist_pages\"\n",
    "}\n",
    "parser = etree.HTMLParser()"
   ]
  },
  {
   "cell_type": "code",
   "execution_count": null,
   "id": "4041bd0d-6e40-458d-bd10-7a845f341c7d",
   "metadata": {},
   "outputs": [],
   "source": []
  },
  {
   "cell_type": "code",
   "execution_count": 75,
   "id": "17d565ae-51c0-425b-b428-d75a8bb35259",
   "metadata": {},
   "outputs": [],
   "source": [
    "def extract_artist_features(html_file, wikilang):\n",
    "    filename = os.path.join(paths[wikilang], html_file)\n",
    "    tree = etree.parse(filename, parser)\n",
    "    if tree.getroot() is None:\n",
    "        return None\n",
    "    matching_nodes = tree.xpath('//table[@class=\"sinottico\"]//text()')\n",
    "    return len(matching_nodes) > 0"
   ]
  },
  {
   "cell_type": "code",
   "execution_count": 76,
   "id": "b80438f3-740d-4b1f-b567-62594f2b4b7a",
   "metadata": {},
   "outputs": [
    {
     "data": {
      "text/plain": [
       "True"
      ]
     },
     "execution_count": 76,
     "metadata": {},
     "output_type": "execute_result"
    }
   ],
   "source": [
    "extract_artist_features('Disclosure (gruppo musicale).html',\"it\")"
   ]
  },
  {
   "cell_type": "code",
   "execution_count": 77,
   "id": "bb4f2e79-f78d-472d-9ec6-72acc269b708",
   "metadata": {},
   "outputs": [],
   "source": [
    "itfiles = os.listdir(paths[\"it\"])"
   ]
  },
  {
   "cell_type": "code",
   "execution_count": 81,
   "id": "5730c6b5-8159-431d-93bb-80f5abd218b1",
   "metadata": {},
   "outputs": [],
   "source": [
    "for i in itfiles:\n",
    "    count = 0\n",
    "    if extract_artist_features(i, \"it\") is True:\n",
    "        count += 1"
   ]
  },
  {
   "cell_type": "code",
   "execution_count": 82,
   "id": "ee5a7fa2-49d2-4528-a13a-16c7cb5888c7",
   "metadata": {},
   "outputs": [
    {
     "data": {
      "text/plain": [
       "0"
      ]
     },
     "execution_count": 82,
     "metadata": {},
     "output_type": "execute_result"
    }
   ],
   "source": [
    "count"
   ]
  },
  {
   "cell_type": "code",
   "execution_count": null,
   "id": "adf8551f-e1d0-4993-8a0a-88057b965c51",
   "metadata": {},
   "outputs": [],
   "source": []
  }
 ],
 "metadata": {
  "kernelspec": {
   "display_name": "Python 3",
   "language": "python",
   "name": "python3"
  },
  "language_info": {
   "codemirror_mode": {
    "name": "ipython",
    "version": 3
   },
   "file_extension": ".py",
   "mimetype": "text/x-python",
   "name": "python",
   "nbconvert_exporter": "python",
   "pygments_lexer": "ipython3",
   "version": "3.8.8"
  }
 },
 "nbformat": 4,
 "nbformat_minor": 5
}
