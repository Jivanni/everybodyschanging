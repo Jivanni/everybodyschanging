{
 "cells": [
  {
   "cell_type": "code",
   "execution_count": 1,
   "id": "dab7a8cd-6e84-4fe9-8180-15f530f32f0e",
   "metadata": {},
   "outputs": [],
   "source": [
    "import re\n",
    "import pandas as pd\n",
    "from bs4 import BeautifulSoup\n",
    "import os\n",
    "from lxml import etree\n",
    "import lxml"
   ]
  },
  {
   "cell_type": "code",
   "execution_count": 2,
   "id": "b4cadd3e-e8a7-4d31-ad05-71a17a880c5c",
   "metadata": {},
   "outputs": [],
   "source": [
    "df = pd.read_csv(\"wikipages_eng_it_finale.csv\", sep=\";\")"
   ]
  },
  {
   "cell_type": "code",
   "execution_count": 3,
   "id": "35de1bfc-e2c2-4bc8-9a58-9c39fd235540",
   "metadata": {},
   "outputs": [],
   "source": [
    "regexpNS = \"http://exslt.org/regular-expressions\""
   ]
  },
  {
   "cell_type": "code",
   "execution_count": 4,
   "id": "59f12c16-850e-4227-a19c-b4e4648dc391",
   "metadata": {},
   "outputs": [],
   "source": [
    "paths = {\n",
    "    \"it\" : \"wiki_it/artist_pages\",\n",
    "    \"en\" : \"wiki_eng/artist_pages\"\n",
    "}\n",
    "parser = etree.HTMLParser()"
   ]
  },
  {
   "cell_type": "code",
   "execution_count": 5,
   "id": "4041bd0d-6e40-458d-bd10-7a845f341c7d",
   "metadata": {},
   "outputs": [],
   "source": [
    "it_keywords = {\n",
    "    \"country\":r\"(paese|nazion)\",\n",
    "    \"datereg\" : r\"\\d{1,2}\\s+[a-z]+(o|re)\\s+\\d{4}\"\n",
    "}\n",
    "en_keywords = {\n",
    "    \"country\": r\"(country|born)\",\n",
    "    \"datereg\" : r\"\\d{1,2}\\s+[a-z]+(y|h|l|e|st|er)\\s+\\d{4}\"\n",
    "}"
   ]
  },
  {
   "cell_type": "code",
   "execution_count": 6,
   "id": "17d565ae-51c0-425b-b428-d75a8bb35259",
   "metadata": {},
   "outputs": [],
   "source": [
    "def extract_table_rows(html_file, wikilang):\n",
    "    filename = os.path.join(paths[wikilang], html_file)\n",
    "    tree = etree.parse(filename, parser)\n",
    "    if tree.getroot() is None:\n",
    "        return (None, None)\n",
    "    table = tree.xpath('//table[@class=\"sinottico\"]')\n",
    "    body = tree.xpath('//div[@id=\"bodyContent\"]//text()')\n",
    "    return (table, body)"
   ]
  },
  {
   "cell_type": "code",
   "execution_count": 7,
   "id": "b80438f3-740d-4b1f-b567-62594f2b4b7a",
   "metadata": {},
   "outputs": [],
   "source": [
    "test = extract_table_rows('Dj Lhasa.html',\"it\")\n",
    "string = \" \".join(test[1])"
   ]
  },
  {
   "cell_type": "code",
   "execution_count": null,
   "id": "5bb975fe-7c99-4b27-97c9-c73971f0e04d",
   "metadata": {},
   "outputs": [],
   "source": [
    "def get_artist_features(page_feats, wikilang):\n",
    "    keyword_dict = None\n",
    "    if wikilang == \"it\":\n",
    "        keyword_dict = it_keywords\n",
    "    elif wikilang == \"en\":\n",
    "        keyword_dict == en_keywords\n",
    "    \n",
    "    if len(page_feats) == 0:\n",
    "        return (None, None)\n",
    "    table_rows = None\n",
    "    birthdate = None\n",
    "    \n",
    "    if page_feats[0] != None:\n",
    "        table = page_feats[0]\n",
    "        if table:\n",
    "            table_rows = table[0].xpath(f'//tr[re:test(th//text(),\"{keyword_dict[\"country\"]}\",\"i\")]/td//text()',namespaces={'re':regexpNS})\n",
    "    if page_feats[1] != None:\n",
    "        body = page_feats[1]\n",
    "        if body:\n",
    "            birthdate = re.search(keyword_dict[\"datereg\"], \" \".join(body), flags=re.I)\n",
    "    \n",
    "    return (table_rows, birthdate)"
   ]
  },
  {
   "cell_type": "code",
   "execution_count": null,
   "id": "e3185753-0115-468e-96b3-a24349bc415f",
   "metadata": {},
   "outputs": [],
   "source": [
    "get_artist_features(test,\"it\")"
   ]
  },
  {
   "cell_type": "code",
   "execution_count": null,
   "id": "bb4f2e79-f78d-472d-9ec6-72acc269b708",
   "metadata": {},
   "outputs": [],
   "source": []
  },
  {
   "cell_type": "code",
   "execution_count": null,
   "id": "bc9d1ea4-81ef-4665-a22c-a946da91654d",
   "metadata": {},
   "outputs": [],
   "source": []
  },
  {
   "cell_type": "code",
   "execution_count": null,
   "id": "5730c6b5-8159-431d-93bb-80f5abd218b1",
   "metadata": {},
   "outputs": [],
   "source": [
    "count = 0\n",
    "lang = \"en\"\n",
    "itfiles = os.listdir(paths[lang])\n",
    "for i in itfiles:\n",
    "    page_feats = extract_table_rows(i, lang)\n",
    "    print(get_artist_features(page_feats, lang))\n",
    "print(count)"
   ]
  },
  {
   "cell_type": "code",
   "execution_count": 147,
   "id": "ee5a7fa2-49d2-4528-a13a-16c7cb5888c7",
   "metadata": {},
   "outputs": [
    {
     "data": {
      "text/plain": [
       "0"
      ]
     },
     "execution_count": 147,
     "metadata": {},
     "output_type": "execute_result"
    }
   ],
   "source": [
    "count"
   ]
  },
  {
   "cell_type": "code",
   "execution_count": null,
   "id": "adf8551f-e1d0-4993-8a0a-88057b965c51",
   "metadata": {},
   "outputs": [],
   "source": []
  }
 ],
 "metadata": {
  "kernelspec": {
   "display_name": "Python 3",
   "language": "python",
   "name": "python3"
  },
  "language_info": {
   "codemirror_mode": {
    "name": "ipython",
    "version": 3
   },
   "file_extension": ".py",
   "mimetype": "text/x-python",
   "name": "python",
   "nbconvert_exporter": "python",
   "pygments_lexer": "ipython3",
   "version": "3.8.10"
  }
 },
 "nbformat": 4,
 "nbformat_minor": 5
}
