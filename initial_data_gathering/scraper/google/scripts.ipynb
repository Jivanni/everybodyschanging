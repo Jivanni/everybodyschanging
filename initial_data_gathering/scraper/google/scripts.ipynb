{
 "cells": [
  {
   "cell_type": "code",
   "execution_count": 4,
   "id": "2ee0212c-0cad-4133-bbad-0424f577dd43",
   "metadata": {},
   "outputs": [],
   "source": [
    "import pandas as pd\n",
    "import re\n",
    "import os"
   ]
  },
  {
   "cell_type": "code",
   "execution_count": 5,
   "id": "516e5a3e-c8f9-4105-a678-d72c42c359e7",
   "metadata": {},
   "outputs": [],
   "source": [
    "df = pd.read_csv(\"defective_cluster.csv\", delimiter=\";\")"
   ]
  },
  {
   "cell_type": "code",
   "execution_count": 6,
   "id": "bc11fc4b-9926-438f-9546-69bef5921f16",
   "metadata": {},
   "outputs": [],
   "source": [
    "def unpack_artist_list(str_repr):\n",
    "    output = []\n",
    "    try:\n",
    "        output.extend(eval(str_repr))\n",
    "    except:\n",
    "        output.append(str_repr)\n",
    "    finally:\n",
    "        return output"
   ]
  },
  {
   "cell_type": "code",
   "execution_count": 7,
   "id": "6cf28578-ec77-4383-8cf8-bf529ec02a16",
   "metadata": {},
   "outputs": [],
   "source": [
    "files = os.listdir(\"lyrics\")"
   ]
  },
  {
   "cell_type": "code",
   "execution_count": 8,
   "id": "4d411f6f-085b-4929-a0bb-606eb8478184",
   "metadata": {},
   "outputs": [],
   "source": [
    "out = []"
   ]
  },
  {
   "cell_type": "code",
   "execution_count": 9,
   "id": "a255ae23-3a61-41d1-b3fb-6f2e3f8ae7d5",
   "metadata": {},
   "outputs": [
    {
     "name": "stdout",
     "output_type": "stream",
     "text": [
      "Index(['id', 'song_name', 'artists_names', 'song_name_less'], dtype='object')\n"
     ]
    }
   ],
   "source": [
    "print(df.columns)"
   ]
  },
  {
   "cell_type": "code",
   "execution_count": 10,
   "id": "c5eb62bc-a227-430d-b1da-0aa9a036fd33",
   "metadata": {},
   "outputs": [],
   "source": [
    "for id_, song_name, artists_names in df[[\"id\", \"song_name\", \"artists_names\"]].itertuples(index=False):\n",
    "    artists = unpack_artist_list(artists_names)\n",
    "    clean_filename = re.sub(r\"[><:\\\"?*|\\\\/]\", \"\", f\"{song_name}_{artists[0]}.txt\")\n",
    "    if os.path.isfile(\"lyrics/\"+clean_filename):\n",
    "        out.append(clean_filename)\n",
    "    else:\n",
    "        out.append(None)"
   ]
  },
  {
   "cell_type": "code",
   "execution_count": 11,
   "id": "6f36553a-64e2-406a-8d40-b25a74432e21",
   "metadata": {},
   "outputs": [],
   "source": [
    "df['filename'] = out"
   ]
  },
  {
   "cell_type": "code",
   "execution_count": 12,
   "id": "78a94103-5867-4053-bce8-76f635b33e96",
   "metadata": {},
   "outputs": [
    {
     "data": {
      "text/plain": [
       "33"
      ]
     },
     "execution_count": 12,
     "metadata": {},
     "output_type": "execute_result"
    }
   ],
   "source": [
    "df['filename'].isna().sum()"
   ]
  },
  {
   "cell_type": "code",
   "execution_count": 13,
   "id": "aa16702e-87df-44fc-bda1-7180d1d40ee8",
   "metadata": {},
   "outputs": [
    {
     "name": "stderr",
     "output_type": "stream",
     "text": [
      "<ipython-input-13-b8abe9352637>:3: FutureWarning: The default value of regex will change from True to False in a future version.\n",
      "  rows_withna[\"song_name_less\"] = rows_withna[\"song_name\"].str.replace(r\"(-.+|\\(.+\\))\", \"\")\n"
     ]
    }
   ],
   "source": [
    "rows_withna = df[df['filename'].isna()]\n",
    "rows_withna = rows_withna[[\"id\", \"song_name\", \"artists_names\"]]\n",
    "rows_withna[\"song_name_less\"] = rows_withna[\"song_name\"].str.replace(r\"(-.+|\\(.+\\))\", \"\")"
   ]
  },
  {
   "cell_type": "code",
   "execution_count": 15,
   "id": "ee8110e3-ef9d-4d5a-aae0-56729d4e2a38",
   "metadata": {},
   "outputs": [],
   "source": [
    "rows_withna.to_csv(\"relookup.csv\", index=False, sep=\";\")"
   ]
  },
  {
   "cell_type": "code",
   "execution_count": null,
   "id": "db805782-4df2-4103-b75c-ab31bdd95233",
   "metadata": {},
   "outputs": [],
   "source": []
  },
  {
   "cell_type": "code",
   "execution_count": null,
   "id": "1b6a6324-ea77-4824-af72-4e75bb7a9453",
   "metadata": {},
   "outputs": [],
   "source": []
  }
 ],
 "metadata": {
  "kernelspec": {
   "display_name": "Python 3",
   "language": "python",
   "name": "python3"
  },
  "language_info": {
   "codemirror_mode": {
    "name": "ipython",
    "version": 3
   },
   "file_extension": ".py",
   "mimetype": "text/x-python",
   "name": "python",
   "nbconvert_exporter": "python",
   "pygments_lexer": "ipython3",
   "version": "3.8.10"
  }
 },
 "nbformat": 4,
 "nbformat_minor": 5
}
