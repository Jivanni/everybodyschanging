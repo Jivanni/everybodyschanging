{
 "cells": [
  {
   "cell_type": "code",
   "execution_count": 1,
   "id": "4fbcd458",
   "metadata": {},
   "outputs": [],
   "source": [
    "import os\n",
    "import csv\n",
    "\n",
    "import numpy as np\n",
    "\n",
    "import tensorflow as tf\n",
    "from tensorflow.keras.models import load_model\n",
    "\n",
    "from tqdm import tqdm\n",
    "\n",
    "DATA_PATH = \"./preprocessed_data/\""
   ]
  },
  {
   "cell_type": "code",
   "execution_count": 2,
   "id": "b4ef80b4",
   "metadata": {},
   "outputs": [],
   "source": [
    "encoder = load_model(\"outputs/encoder.h5\")"
   ]
  },
  {
   "cell_type": "code",
   "execution_count": 3,
   "id": "e0bc2829",
   "metadata": {},
   "outputs": [],
   "source": [
    "file_names = os.listdir(DATA_PATH)"
   ]
  },
  {
   "cell_type": "code",
   "execution_count": 4,
   "id": "b479a16c",
   "metadata": {},
   "outputs": [
    {
     "name": "stderr",
     "output_type": "stream",
     "text": [
      "100%|██████████| 7086/7086 [07:04<00:00, 16.71it/s]\n"
     ]
    }
   ],
   "source": [
    "with open(\"flattened_representations.csv\", \"w\", encoding=\"utf8\") as repr_csv:\n",
    "    repr_csv_writer = csv.writer(repr_csv, delimiter=\",\")\n",
    "    \n",
    "    for file_name in tqdm(file_names):\n",
    "        \n",
    "        snippet_path = os.path.join(DATA_PATH, file_name)\n",
    "        data = np.load(snippet_path).transpose()\n",
    "        if data.shape[0] != 431:\n",
    "            continue\n",
    "        data = data[np.newaxis, :]\n",
    "        prediction = encoder.predict(data)\n",
    "        samples_n, steps, channels = prediction.shape\n",
    "        prediction = prediction.reshape(samples_n, steps*channels).ravel()\n",
    "        \n",
    "        prediction = list(prediction)\n",
    "        file_name = file_name[:-4]\n",
    "        \n",
    "        repr_csv_writer.writerow([file_name]+prediction)"
   ]
  },
  {
   "cell_type": "code",
   "execution_count": null,
   "id": "49422a07",
   "metadata": {},
   "outputs": [],
   "source": []
  }
 ],
 "metadata": {
  "kernelspec": {
   "display_name": "Python 3",
   "language": "python",
   "name": "python3"
  },
  "language_info": {
   "codemirror_mode": {
    "name": "ipython",
    "version": 3
   },
   "file_extension": ".py",
   "mimetype": "text/x-python",
   "name": "python",
   "nbconvert_exporter": "python",
   "pygments_lexer": "ipython3",
   "version": "3.8.10"
  }
 },
 "nbformat": 4,
 "nbformat_minor": 5
}
