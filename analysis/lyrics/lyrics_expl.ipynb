{
 "cells": [
  {
   "cell_type": "code",
   "execution_count": 1,
   "id": "fd69750b-39e9-4433-bb87-328980f4c64e",
   "metadata": {},
   "outputs": [],
   "source": [
    "import os\n",
    "import pandas as pd\n",
    "import csv\n",
    "import re\n",
    "\n",
    "import nltk\n",
    "#nltk.download('punkt')\n",
    "from nltk import word_tokenize\n",
    "from nltk import sent_tokenize\n",
    "from gensim.models.doc2vec import TaggedDocument"
   ]
  },
  {
   "cell_type": "code",
   "execution_count": 2,
   "id": "e7db39a7-5251-41a3-90f9-0a3178aa6087",
   "metadata": {},
   "outputs": [],
   "source": [
    "import logging\n",
    "logging.basicConfig(format='%(asctime)s : %(levelname)s : %(message)s', level=logging.INFO)"
   ]
  },
  {
   "cell_type": "markdown",
   "id": "2ab2610d-b243-4be2-b508-e80f0a7cd9ed",
   "metadata": {},
   "source": [
    "## Loading files and removing NaNs"
   ]
  },
  {
   "cell_type": "code",
   "execution_count": 3,
   "id": "c704474e-2946-452f-9ad3-42f6baf27298",
   "metadata": {},
   "outputs": [],
   "source": [
    "df = pd.read_csv(\"songs_with_filenames_and_feats.csv\", delimiter=\";\")\n",
    "df = df[df['filename'].notna()]"
   ]
  },
  {
   "cell_type": "code",
   "execution_count": 4,
   "id": "7d1c9ad9-307c-430c-9eba-fd5554458b62",
   "metadata": {},
   "outputs": [],
   "source": [
    "DATA = \"songlyrics/lyrics\""
   ]
  },
  {
   "cell_type": "code",
   "execution_count": 5,
   "id": "823c202c-59c6-414c-a5df-0a1adc8a2904",
   "metadata": {},
   "outputs": [],
   "source": [
    "songs = os.listdir(DATA)"
   ]
  },
  {
   "cell_type": "code",
   "execution_count": 6,
   "id": "080dc7d2-40fd-4b59-aa47-f987c5b61a28",
   "metadata": {},
   "outputs": [
    {
     "name": "stdout",
     "output_type": "stream",
     "text": [
      "found 5163 unique files\n"
     ]
    }
   ],
   "source": [
    "print(f\"found {len(songs)} unique files\") "
   ]
  },
  {
   "cell_type": "code",
   "execution_count": null,
   "id": "e6de739f-30b6-46d9-82f1-08ee26a43c31",
   "metadata": {},
   "outputs": [],
   "source": []
  },
  {
   "cell_type": "markdown",
   "id": "a2fabd85-ede8-4da8-b4cf-4b88d8a93822",
   "metadata": {},
   "source": [
    "## String Processing and Tokenization"
   ]
  },
  {
   "cell_type": "markdown",
   "id": "e4645980-b624-4472-a5e7-d3d27447cbf4",
   "metadata": {},
   "source": [
    "We extract tokens, bigrams and trigrams from each lyrics"
   ]
  },
  {
   "cell_type": "code",
   "execution_count": 7,
   "id": "0174f8c2-2ae3-4f9c-a9b5-08ad3108cee1",
   "metadata": {},
   "outputs": [],
   "source": [
    "def get_grams(text):\n",
    "    toks = word_tokenize(text)\n",
    "    bigs = [a + \"_\" + b for a,b in nltk.bigrams(toks)]\n",
    "    trigs = [a + \"_\" + b + \"_\" + c for a,b,c in nltk.trigrams(toks)]\n",
    "    return toks + bigs + trigs"
   ]
  },
  {
   "cell_type": "code",
   "execution_count": 8,
   "id": "76115755-2dc2-45e6-aa5c-70d9a72b547a",
   "metadata": {},
   "outputs": [],
   "source": [
    "data = list()\n",
    "for song in df[\"filename\"]:\n",
    "    with open(os.path.join(DATA,song),\"r\",encoding='utf-8') as file:\n",
    "        lyrics = get_grams(file.read().lower())\n",
    "        data.append(TaggedDocument(lyrics ,(song,)))"
   ]
  },
  {
   "cell_type": "code",
   "execution_count": null,
   "id": "5233f65c-ea82-4bf2-a3e6-0ad9f67d5f9d",
   "metadata": {},
   "outputs": [],
   "source": []
  },
  {
   "cell_type": "markdown",
   "id": "0f581a30-82a0-4d79-9060-63ea4a86b719",
   "metadata": {},
   "source": [
    "## Word2Vec model training on extracted features"
   ]
  },
  {
   "cell_type": "code",
   "execution_count": 11,
   "id": "6558288b-71e9-466b-816e-6de5773c8d58",
   "metadata": {},
   "outputs": [
    {
     "name": "stderr",
     "output_type": "stream",
     "text": [
      "2021-05-25 11:38:47,701 : INFO : collecting all words and their counts\n",
      "2021-05-25 11:38:47,702 : INFO : PROGRESS: at example #0, processed 0 words (0/s), 0 word types, 0 tags\n",
      "2021-05-25 11:38:53,433 : INFO : collected 4160895 word types and 5163 unique tags from a corpus of 5183 examples and 18486903 words\n",
      "2021-05-25 11:38:53,434 : INFO : Creating a fresh vocabulary\n",
      "2021-05-25 11:38:56,023 : INFO : Doc2Vec lifecycle event {'msg': 'effective_min_count=5 retains 366107 unique words (8.798756036862262%% of original 4160895, drops 3794788)', 'datetime': '2021-05-25T11:38:56.023143', 'gensim': '4.0.1', 'python': '3.8.10 (default, May 19 2021, 18:05:58) \\n[GCC 7.3.0]', 'platform': 'Linux-5.11.0-7614-generic-x86_64-with-glibc2.10', 'event': 'prepare_vocab'}\n",
      "2021-05-25 11:38:56,023 : INFO : Doc2Vec lifecycle event {'msg': 'effective_min_count=5 leaves 12693570 word corpus (68.66250123127708%% of original 18486903, drops 5793333)', 'datetime': '2021-05-25T11:38:56.023905', 'gensim': '4.0.1', 'python': '3.8.10 (default, May 19 2021, 18:05:58) \\n[GCC 7.3.0]', 'platform': 'Linux-5.11.0-7614-generic-x86_64-with-glibc2.10', 'event': 'prepare_vocab'}\n",
      "2021-05-25 11:38:58,149 : INFO : deleting the raw counts dictionary of 4160895 items\n",
      "2021-05-25 11:38:58,202 : INFO : sample=0.001 downsamples 23 most-common words\n",
      "2021-05-25 11:38:58,203 : INFO : Doc2Vec lifecycle event {'msg': 'downsampling leaves estimated 11813228.009491326 word corpus (93.1%% of prior 12693570)', 'datetime': '2021-05-25T11:38:58.203236', 'gensim': '4.0.1', 'python': '3.8.10 (default, May 19 2021, 18:05:58) \\n[GCC 7.3.0]', 'platform': 'Linux-5.11.0-7614-generic-x86_64-with-glibc2.10', 'event': 'prepare_vocab'}\n",
      "2021-05-25 11:39:02,065 : INFO : estimated required memory for 366107 words and 100 dimensions: 479036900 bytes\n",
      "2021-05-25 11:39:02,065 : INFO : resetting layer weights\n",
      "2021-05-25 11:39:02,244 : INFO : Doc2Vec lifecycle event {'msg': 'training model with 8 workers on 366107 vocabulary and 100 features, using sg=0 hs=0 sample=0.001 negative=5 window=10', 'datetime': '2021-05-25T11:39:02.244316', 'gensim': '4.0.1', 'python': '3.8.10 (default, May 19 2021, 18:05:58) \\n[GCC 7.3.0]', 'platform': 'Linux-5.11.0-7614-generic-x86_64-with-glibc2.10', 'event': 'train'}\n",
      "2021-05-25 11:39:03,255 : INFO : EPOCH 1 - PROGRESS: at 15.96% examples, 966953 words/s, in_qsize 15, out_qsize 0\n",
      "2021-05-25 11:39:04,260 : INFO : EPOCH 1 - PROGRESS: at 31.80% examples, 1005027 words/s, in_qsize 15, out_qsize 0\n",
      "2021-05-25 11:39:05,260 : INFO : EPOCH 1 - PROGRESS: at 49.14% examples, 1021882 words/s, in_qsize 15, out_qsize 0\n",
      "2021-05-25 11:39:06,264 : INFO : EPOCH 1 - PROGRESS: at 68.44% examples, 1002223 words/s, in_qsize 16, out_qsize 0\n",
      "2021-05-25 11:39:07,265 : INFO : EPOCH 1 - PROGRESS: at 86.19% examples, 1002182 words/s, in_qsize 15, out_qsize 0\n",
      "2021-05-25 11:39:07,959 : INFO : worker thread finished; awaiting finish of 7 more threads\n",
      "2021-05-25 11:39:07,967 : INFO : worker thread finished; awaiting finish of 6 more threads\n",
      "2021-05-25 11:39:07,976 : INFO : worker thread finished; awaiting finish of 5 more threads\n",
      "2021-05-25 11:39:07,982 : INFO : worker thread finished; awaiting finish of 4 more threads\n",
      "2021-05-25 11:39:07,986 : INFO : worker thread finished; awaiting finish of 3 more threads\n",
      "2021-05-25 11:39:07,990 : INFO : worker thread finished; awaiting finish of 2 more threads\n",
      "2021-05-25 11:39:07,991 : INFO : worker thread finished; awaiting finish of 1 more threads\n",
      "2021-05-25 11:39:07,992 : INFO : worker thread finished; awaiting finish of 0 more threads\n",
      "2021-05-25 11:39:07,992 : INFO : EPOCH - 1 : training on 18486903 raw words (5722614 effective words) took 5.7s, 996034 effective words/s\n",
      "2021-05-25 11:39:09,012 : INFO : EPOCH 2 - PROGRESS: at 16.69% examples, 999090 words/s, in_qsize 15, out_qsize 0\n",
      "2021-05-25 11:39:10,028 : INFO : EPOCH 2 - PROGRESS: at 31.83% examples, 1005218 words/s, in_qsize 16, out_qsize 0\n",
      "2021-05-25 11:39:11,031 : INFO : EPOCH 2 - PROGRESS: at 49.14% examples, 1011433 words/s, in_qsize 15, out_qsize 0\n",
      "2021-05-25 11:39:12,033 : INFO : EPOCH 2 - PROGRESS: at 68.76% examples, 1003799 words/s, in_qsize 15, out_qsize 0\n",
      "2021-05-25 11:39:13,037 : INFO : EPOCH 2 - PROGRESS: at 86.69% examples, 1002620 words/s, in_qsize 15, out_qsize 0\n",
      "2021-05-25 11:39:13,700 : INFO : worker thread finished; awaiting finish of 7 more threads\n",
      "2021-05-25 11:39:13,701 : INFO : worker thread finished; awaiting finish of 6 more threads\n",
      "2021-05-25 11:39:13,703 : INFO : worker thread finished; awaiting finish of 5 more threads\n",
      "2021-05-25 11:39:13,704 : INFO : worker thread finished; awaiting finish of 4 more threads\n",
      "2021-05-25 11:39:13,706 : INFO : worker thread finished; awaiting finish of 3 more threads\n",
      "2021-05-25 11:39:13,716 : INFO : worker thread finished; awaiting finish of 2 more threads\n",
      "2021-05-25 11:39:13,717 : INFO : worker thread finished; awaiting finish of 1 more threads\n",
      "2021-05-25 11:39:13,719 : INFO : worker thread finished; awaiting finish of 0 more threads\n",
      "2021-05-25 11:39:13,720 : INFO : EPOCH - 2 : training on 18486903 raw words (5722279 effective words) took 5.7s, 999854 effective words/s\n",
      "2021-05-25 11:39:14,728 : INFO : EPOCH 3 - PROGRESS: at 16.50% examples, 1001741 words/s, in_qsize 15, out_qsize 0\n",
      "2021-05-25 11:39:15,729 : INFO : EPOCH 3 - PROGRESS: at 31.10% examples, 980816 words/s, in_qsize 16, out_qsize 0\n",
      "2021-05-25 11:39:16,733 : INFO : EPOCH 3 - PROGRESS: at 47.35% examples, 985128 words/s, in_qsize 15, out_qsize 0\n",
      "2021-05-25 11:39:17,743 : INFO : EPOCH 3 - PROGRESS: at 63.42% examples, 943285 words/s, in_qsize 16, out_qsize 0\n",
      "2021-05-25 11:39:18,747 : INFO : EPOCH 3 - PROGRESS: at 81.17% examples, 948047 words/s, in_qsize 15, out_qsize 0\n",
      "2021-05-25 11:39:19,722 : INFO : worker thread finished; awaiting finish of 7 more threads\n",
      "2021-05-25 11:39:19,724 : INFO : worker thread finished; awaiting finish of 6 more threads\n",
      "2021-05-25 11:39:19,726 : INFO : worker thread finished; awaiting finish of 5 more threads\n",
      "2021-05-25 11:39:19,727 : INFO : worker thread finished; awaiting finish of 4 more threads\n",
      "2021-05-25 11:39:19,736 : INFO : worker thread finished; awaiting finish of 3 more threads\n",
      "2021-05-25 11:39:19,737 : INFO : worker thread finished; awaiting finish of 2 more threads\n",
      "2021-05-25 11:39:19,744 : INFO : worker thread finished; awaiting finish of 1 more threads\n",
      "2021-05-25 11:39:19,745 : INFO : worker thread finished; awaiting finish of 0 more threads\n",
      "2021-05-25 11:39:19,746 : INFO : EPOCH - 3 : training on 18486903 raw words (5722233 effective words) took 6.0s, 950038 effective words/s\n",
      "2021-05-25 11:39:20,757 : INFO : EPOCH 4 - PROGRESS: at 16.71% examples, 1012913 words/s, in_qsize 15, out_qsize 0\n",
      "2021-05-25 11:39:21,764 : INFO : EPOCH 4 - PROGRESS: at 32.65% examples, 1026266 words/s, in_qsize 14, out_qsize 1\n",
      "2021-05-25 11:39:22,766 : INFO : EPOCH 4 - PROGRESS: at 50.11% examples, 1035053 words/s, in_qsize 15, out_qsize 0\n",
      "2021-05-25 11:39:23,770 : INFO : EPOCH 4 - PROGRESS: at 68.92% examples, 1010933 words/s, in_qsize 15, out_qsize 0\n",
      "2021-05-25 11:39:24,777 : INFO : EPOCH 4 - PROGRESS: at 86.19% examples, 1000052 words/s, in_qsize 15, out_qsize 0\n",
      "2021-05-25 11:39:25,481 : INFO : worker thread finished; awaiting finish of 7 more threads\n",
      "2021-05-25 11:39:25,482 : INFO : worker thread finished; awaiting finish of 6 more threads\n",
      "2021-05-25 11:39:25,485 : INFO : worker thread finished; awaiting finish of 5 more threads\n",
      "2021-05-25 11:39:25,495 : INFO : worker thread finished; awaiting finish of 4 more threads\n",
      "2021-05-25 11:39:25,497 : INFO : worker thread finished; awaiting finish of 3 more threads\n",
      "2021-05-25 11:39:25,500 : INFO : worker thread finished; awaiting finish of 2 more threads\n",
      "2021-05-25 11:39:25,504 : INFO : worker thread finished; awaiting finish of 1 more threads\n",
      "2021-05-25 11:39:25,506 : INFO : worker thread finished; awaiting finish of 0 more threads\n",
      "2021-05-25 11:39:25,507 : INFO : EPOCH - 4 : training on 18486903 raw words (5722095 effective words) took 5.8s, 993801 effective words/s\n",
      "2021-05-25 11:39:26,513 : INFO : EPOCH 5 - PROGRESS: at 16.19% examples, 984623 words/s, in_qsize 15, out_qsize 0\n",
      "2021-05-25 11:39:27,516 : INFO : EPOCH 5 - PROGRESS: at 31.66% examples, 1005187 words/s, in_qsize 16, out_qsize 0\n",
      "2021-05-25 11:39:28,534 : INFO : EPOCH 5 - PROGRESS: at 47.68% examples, 987562 words/s, in_qsize 15, out_qsize 0\n",
      "2021-05-25 11:39:29,541 : INFO : EPOCH 5 - PROGRESS: at 67.86% examples, 991460 words/s, in_qsize 15, out_qsize 0\n",
      "2021-05-25 11:39:30,543 : INFO : EPOCH 5 - PROGRESS: at 85.14% examples, 988477 words/s, in_qsize 15, out_qsize 0\n",
      "2021-05-25 11:39:31,304 : INFO : worker thread finished; awaiting finish of 7 more threads\n",
      "2021-05-25 11:39:31,305 : INFO : worker thread finished; awaiting finish of 6 more threads\n",
      "2021-05-25 11:39:31,316 : INFO : worker thread finished; awaiting finish of 5 more threads\n",
      "2021-05-25 11:39:31,318 : INFO : worker thread finished; awaiting finish of 4 more threads\n",
      "2021-05-25 11:39:31,320 : INFO : worker thread finished; awaiting finish of 3 more threads\n",
      "2021-05-25 11:39:31,321 : INFO : worker thread finished; awaiting finish of 2 more threads\n",
      "2021-05-25 11:39:31,322 : INFO : worker thread finished; awaiting finish of 1 more threads\n",
      "2021-05-25 11:39:31,324 : INFO : worker thread finished; awaiting finish of 0 more threads\n",
      "2021-05-25 11:39:31,324 : INFO : EPOCH - 5 : training on 18486903 raw words (5722346 effective words) took 5.8s, 984065 effective words/s\n",
      "2021-05-25 11:39:32,333 : INFO : EPOCH 6 - PROGRESS: at 15.76% examples, 942906 words/s, in_qsize 15, out_qsize 0\n",
      "2021-05-25 11:39:33,334 : INFO : EPOCH 6 - PROGRESS: at 31.20% examples, 989685 words/s, in_qsize 15, out_qsize 0\n",
      "2021-05-25 11:39:34,340 : INFO : EPOCH 6 - PROGRESS: at 47.68% examples, 991892 words/s, in_qsize 15, out_qsize 0\n",
      "2021-05-25 11:39:35,345 : INFO : EPOCH 6 - PROGRESS: at 66.27% examples, 978066 words/s, in_qsize 15, out_qsize 0\n",
      "2021-05-25 11:39:36,346 : INFO : EPOCH 6 - PROGRESS: at 82.92% examples, 968397 words/s, in_qsize 15, out_qsize 0\n",
      "2021-05-25 11:39:37,237 : INFO : worker thread finished; awaiting finish of 7 more threads\n",
      "2021-05-25 11:39:37,238 : INFO : worker thread finished; awaiting finish of 6 more threads\n",
      "2021-05-25 11:39:37,239 : INFO : worker thread finished; awaiting finish of 5 more threads\n",
      "2021-05-25 11:39:37,251 : INFO : worker thread finished; awaiting finish of 4 more threads\n",
      "2021-05-25 11:39:37,257 : INFO : worker thread finished; awaiting finish of 3 more threads\n",
      "2021-05-25 11:39:37,258 : INFO : worker thread finished; awaiting finish of 2 more threads\n",
      "2021-05-25 11:39:37,260 : INFO : worker thread finished; awaiting finish of 1 more threads\n",
      "2021-05-25 11:39:37,261 : INFO : worker thread finished; awaiting finish of 0 more threads\n",
      "2021-05-25 11:39:37,262 : INFO : EPOCH - 6 : training on 18486903 raw words (5722684 effective words) took 5.9s, 964390 effective words/s\n",
      "2021-05-25 11:39:38,275 : INFO : EPOCH 7 - PROGRESS: at 16.34% examples, 979857 words/s, in_qsize 15, out_qsize 0\n",
      "2021-05-25 11:39:39,285 : INFO : EPOCH 7 - PROGRESS: at 31.68% examples, 1002288 words/s, in_qsize 15, out_qsize 0\n",
      "2021-05-25 11:39:40,291 : INFO : EPOCH 7 - PROGRESS: at 48.27% examples, 1003167 words/s, in_qsize 15, out_qsize 0\n",
      "2021-05-25 11:39:41,294 : INFO : EPOCH 7 - PROGRESS: at 67.66% examples, 989484 words/s, in_qsize 15, out_qsize 0\n",
      "2021-05-25 11:39:42,299 : INFO : EPOCH 7 - PROGRESS: at 85.16% examples, 988355 words/s, in_qsize 15, out_qsize 0\n",
      "2021-05-25 11:39:43,037 : INFO : worker thread finished; awaiting finish of 7 more threads\n",
      "2021-05-25 11:39:43,047 : INFO : worker thread finished; awaiting finish of 6 more threads\n",
      "2021-05-25 11:39:43,050 : INFO : worker thread finished; awaiting finish of 5 more threads\n",
      "2021-05-25 11:39:43,056 : INFO : worker thread finished; awaiting finish of 4 more threads\n",
      "2021-05-25 11:39:43,060 : INFO : worker thread finished; awaiting finish of 3 more threads\n",
      "2021-05-25 11:39:43,062 : INFO : worker thread finished; awaiting finish of 2 more threads\n",
      "2021-05-25 11:39:43,064 : INFO : worker thread finished; awaiting finish of 1 more threads\n",
      "2021-05-25 11:39:43,065 : INFO : worker thread finished; awaiting finish of 0 more threads\n",
      "2021-05-25 11:39:43,066 : INFO : EPOCH - 7 : training on 18486903 raw words (5722297 effective words) took 5.8s, 986317 effective words/s\n",
      "2021-05-25 11:39:44,082 : INFO : EPOCH 8 - PROGRESS: at 16.69% examples, 1001043 words/s, in_qsize 15, out_qsize 0\n",
      "2021-05-25 11:39:45,096 : INFO : EPOCH 8 - PROGRESS: at 32.65% examples, 1020756 words/s, in_qsize 15, out_qsize 0\n",
      "2021-05-25 11:39:46,102 : INFO : EPOCH 8 - PROGRESS: at 49.64% examples, 1020439 words/s, in_qsize 15, out_qsize 0\n",
      "2021-05-25 11:39:47,119 : INFO : EPOCH 8 - PROGRESS: at 68.44% examples, 993864 words/s, in_qsize 14, out_qsize 1\n",
      "2021-05-25 11:39:48,119 : INFO : EPOCH 8 - PROGRESS: at 86.03% examples, 994451 words/s, in_qsize 15, out_qsize 0\n",
      "2021-05-25 11:39:48,843 : INFO : worker thread finished; awaiting finish of 7 more threads\n",
      "2021-05-25 11:39:48,845 : INFO : worker thread finished; awaiting finish of 6 more threads\n",
      "2021-05-25 11:39:48,846 : INFO : worker thread finished; awaiting finish of 5 more threads\n",
      "2021-05-25 11:39:48,853 : INFO : worker thread finished; awaiting finish of 4 more threads\n",
      "2021-05-25 11:39:48,855 : INFO : worker thread finished; awaiting finish of 3 more threads\n",
      "2021-05-25 11:39:48,861 : INFO : worker thread finished; awaiting finish of 2 more threads\n",
      "2021-05-25 11:39:48,862 : INFO : worker thread finished; awaiting finish of 1 more threads\n",
      "2021-05-25 11:39:48,864 : INFO : worker thread finished; awaiting finish of 0 more threads\n",
      "2021-05-25 11:39:48,864 : INFO : EPOCH - 8 : training on 18486903 raw words (5722218 effective words) took 5.8s, 987360 effective words/s\n",
      "2021-05-25 11:39:49,871 : INFO : EPOCH 9 - PROGRESS: at 16.71% examples, 1017703 words/s, in_qsize 15, out_qsize 0\n",
      "2021-05-25 11:39:50,874 : INFO : EPOCH 9 - PROGRESS: at 32.24% examples, 1024228 words/s, in_qsize 15, out_qsize 0\n",
      "2021-05-25 11:39:51,878 : INFO : EPOCH 9 - PROGRESS: at 49.30% examples, 1024955 words/s, in_qsize 15, out_qsize 0\n",
      "2021-05-25 11:39:52,883 : INFO : EPOCH 9 - PROGRESS: at 68.44% examples, 1005503 words/s, in_qsize 14, out_qsize 1\n",
      "2021-05-25 11:39:53,886 : INFO : EPOCH 9 - PROGRESS: at 86.09% examples, 1000798 words/s, in_qsize 15, out_qsize 0\n",
      "2021-05-25 11:39:54,597 : INFO : worker thread finished; awaiting finish of 7 more threads\n",
      "2021-05-25 11:39:54,598 : INFO : worker thread finished; awaiting finish of 6 more threads\n",
      "2021-05-25 11:39:54,599 : INFO : worker thread finished; awaiting finish of 5 more threads\n",
      "2021-05-25 11:39:54,607 : INFO : worker thread finished; awaiting finish of 4 more threads\n",
      "2021-05-25 11:39:54,617 : INFO : worker thread finished; awaiting finish of 3 more threads\n",
      "2021-05-25 11:39:54,620 : INFO : worker thread finished; awaiting finish of 2 more threads\n",
      "2021-05-25 11:39:54,622 : INFO : worker thread finished; awaiting finish of 1 more threads\n",
      "2021-05-25 11:39:54,623 : INFO : worker thread finished; awaiting finish of 0 more threads\n",
      "2021-05-25 11:39:54,623 : INFO : EPOCH - 9 : training on 18486903 raw words (5723004 effective words) took 5.8s, 994215 effective words/s\n",
      "2021-05-25 11:39:55,634 : INFO : EPOCH 10 - PROGRESS: at 16.36% examples, 997886 words/s, in_qsize 15, out_qsize 0\n",
      "2021-05-25 11:39:56,639 : INFO : EPOCH 10 - PROGRESS: at 32.03% examples, 1013214 words/s, in_qsize 15, out_qsize 0\n",
      "2021-05-25 11:39:57,641 : INFO : EPOCH 10 - PROGRESS: at 49.08% examples, 1021433 words/s, in_qsize 16, out_qsize 0\n",
      "2021-05-25 11:39:58,644 : INFO : EPOCH 10 - PROGRESS: at 68.57% examples, 1006431 words/s, in_qsize 16, out_qsize 0\n",
      "2021-05-25 11:39:59,644 : INFO : EPOCH 10 - PROGRESS: at 86.09% examples, 1001172 words/s, in_qsize 14, out_qsize 1\n",
      "2021-05-25 11:40:00,340 : INFO : worker thread finished; awaiting finish of 7 more threads\n",
      "2021-05-25 11:40:00,348 : INFO : worker thread finished; awaiting finish of 6 more threads\n",
      "2021-05-25 11:40:00,349 : INFO : worker thread finished; awaiting finish of 5 more threads\n",
      "2021-05-25 11:40:00,361 : INFO : worker thread finished; awaiting finish of 4 more threads\n",
      "2021-05-25 11:40:00,366 : INFO : worker thread finished; awaiting finish of 3 more threads\n",
      "2021-05-25 11:40:00,374 : INFO : worker thread finished; awaiting finish of 2 more threads\n",
      "2021-05-25 11:40:00,376 : INFO : worker thread finished; awaiting finish of 1 more threads\n",
      "2021-05-25 11:40:00,377 : INFO : worker thread finished; awaiting finish of 0 more threads\n",
      "2021-05-25 11:40:00,377 : INFO : EPOCH - 10 : training on 18486903 raw words (5722651 effective words) took 5.8s, 995169 effective words/s\n",
      "2021-05-25 11:40:00,378 : INFO : Doc2Vec lifecycle event {'msg': 'training on 184869030 raw words (57224421 effective words) took 58.1s, 984359 effective words/s', 'datetime': '2021-05-25T11:40:00.378683', 'gensim': '4.0.1', 'python': '3.8.10 (default, May 19 2021, 18:05:58) \\n[GCC 7.3.0]', 'platform': 'Linux-5.11.0-7614-generic-x86_64-with-glibc2.10', 'event': 'train'}\n",
      "2021-05-25 11:40:00,379 : INFO : Doc2Vec lifecycle event {'params': 'Doc2Vec(dm/m,d100,n5,w10,mc5,s0.001,t8)', 'datetime': '2021-05-25T11:40:00.379287', 'gensim': '4.0.1', 'python': '3.8.10 (default, May 19 2021, 18:05:58) \\n[GCC 7.3.0]', 'platform': 'Linux-5.11.0-7614-generic-x86_64-with-glibc2.10', 'event': 'created'}\n"
     ]
    }
   ],
   "source": [
    "from gensim.models import Doc2Vec\n",
    "model = Doc2Vec(data, vector_size=100, window=10, min_count=5, workers=8)"
   ]
  },
  {
   "cell_type": "markdown",
   "id": "2e90d3b8-38e8-472c-8cc4-b92e772928b8",
   "metadata": {},
   "source": [
    "## We save the Doc2Vec vectors to file for further analysis "
   ]
  },
  {
   "cell_type": "code",
   "execution_count": 13,
   "id": "a39cb355-5686-47d0-a3ff-dfcf9bcf062f",
   "metadata": {},
   "outputs": [],
   "source": [
    "doc2vec_vectors = model.dv"
   ]
  },
  {
   "cell_type": "code",
   "execution_count": 16,
   "id": "75fab19d-5e62-4e36-9cb1-ef2453d1cbca",
   "metadata": {},
   "outputs": [
    {
     "name": "stderr",
     "output_type": "stream",
     "text": [
      "2021-05-25 11:45:56,098 : INFO : KeyedVectors lifecycle event {'fname_or_handle': 'aa.model', 'separately': 'None', 'sep_limit': 10485760, 'ignore': frozenset(), 'datetime': '2021-05-25T11:45:56.098266', 'gensim': '4.0.1', 'python': '3.8.10 (default, May 19 2021, 18:05:58) \\n[GCC 7.3.0]', 'platform': 'Linux-5.11.0-7614-generic-x86_64-with-glibc2.10', 'event': 'saving'}\n",
      "2021-05-25 11:45:56,110 : INFO : saved aa.model\n"
     ]
    }
   ],
   "source": [
    "doc2vec_vectors.save(\"docs_grams.model\")"
   ]
  },
  {
   "cell_type": "code",
   "execution_count": null,
   "id": "81ed6cd5-22db-46d5-86a1-0e57dd7cf4a0",
   "metadata": {},
   "outputs": [],
   "source": []
  },
  {
   "cell_type": "code",
   "execution_count": null,
   "id": "deea13ec-7f68-4d69-8de3-ed06850551f9",
   "metadata": {},
   "outputs": [],
   "source": []
  }
 ],
 "metadata": {
  "kernelspec": {
   "display_name": "Python 3",
   "language": "python",
   "name": "python3"
  },
  "language_info": {
   "codemirror_mode": {
    "name": "ipython",
    "version": 3
   },
   "file_extension": ".py",
   "mimetype": "text/x-python",
   "name": "python",
   "nbconvert_exporter": "python",
   "pygments_lexer": "ipython3",
   "version": "3.8.10"
  }
 },
 "nbformat": 4,
 "nbformat_minor": 5
}
