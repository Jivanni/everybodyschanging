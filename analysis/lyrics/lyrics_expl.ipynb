{
 "cells": [
  {
   "cell_type": "code",
   "execution_count": 1,
   "id": "fd69750b-39e9-4433-bb87-328980f4c64e",
   "metadata": {},
   "outputs": [],
   "source": [
    "import os\n",
    "import pandas as pd\n",
    "import csv\n",
    "import re\n",
    "\n",
    "import nltk\n",
    "#nltk.download('punkt')\n",
    "from nltk import word_tokenize\n",
    "from nltk import sent_tokenize\n",
    "from gensim.models.doc2vec import TaggedDocument"
   ]
  },
  {
   "cell_type": "code",
   "execution_count": 2,
   "id": "e7db39a7-5251-41a3-90f9-0a3178aa6087",
   "metadata": {},
   "outputs": [],
   "source": [
    "import logging\n",
    "logging.basicConfig(format='%(asctime)s : %(levelname)s : %(message)s', level=logging.INFO)"
   ]
  },
  {
   "cell_type": "code",
   "execution_count": null,
   "id": "33447177-1528-4e97-9fff-3e43d0755f4e",
   "metadata": {},
   "outputs": [],
   "source": []
  },
  {
   "cell_type": "markdown",
   "id": "2ab2610d-b243-4be2-b508-e80f0a7cd9ed",
   "metadata": {},
   "source": [
    "## Loading files and removing NaNs"
   ]
  },
  {
   "cell_type": "code",
   "execution_count": 3,
   "id": "c704474e-2946-452f-9ad3-42f6baf27298",
   "metadata": {},
   "outputs": [],
   "source": [
    "df = pd.read_csv(\"songlyrics/songs_with_filenames_and_feats_4.csv\", delimiter=\";\")\n",
    "df = df[df['filename'].notna()]"
   ]
  },
  {
   "cell_type": "code",
   "execution_count": 4,
   "id": "7d1c9ad9-307c-430c-9eba-fd5554458b62",
   "metadata": {},
   "outputs": [],
   "source": [
    "DATA = \"songlyrics/lyrics\""
   ]
  },
  {
   "cell_type": "code",
   "execution_count": 5,
   "id": "823c202c-59c6-414c-a5df-0a1adc8a2904",
   "metadata": {},
   "outputs": [],
   "source": [
    "songs = os.listdir(DATA)"
   ]
  },
  {
   "cell_type": "code",
   "execution_count": 6,
   "id": "080dc7d2-40fd-4b59-aa47-f987c5b61a28",
   "metadata": {},
   "outputs": [
    {
     "name": "stdout",
     "output_type": "stream",
     "text": [
      "found 5809 unique files\n"
     ]
    }
   ],
   "source": [
    "print(f\"found {len(songs)} unique files\") "
   ]
  },
  {
   "cell_type": "code",
   "execution_count": null,
   "id": "e6de739f-30b6-46d9-82f1-08ee26a43c31",
   "metadata": {},
   "outputs": [],
   "source": []
  },
  {
   "cell_type": "markdown",
   "id": "a2fabd85-ede8-4da8-b4cf-4b88d8a93822",
   "metadata": {},
   "source": [
    "## String Processing and Tokenization"
   ]
  },
  {
   "cell_type": "markdown",
   "id": "e4645980-b624-4472-a5e7-d3d27447cbf4",
   "metadata": {},
   "source": [
    "We extract tokens, bigrams and trigrams from each lyrics"
   ]
  },
  {
   "cell_type": "code",
   "execution_count": 7,
   "id": "0174f8c2-2ae3-4f9c-a9b5-08ad3108cee1",
   "metadata": {},
   "outputs": [],
   "source": [
    "def get_grams(text):\n",
    "    toks = word_tokenize(text)\n",
    "    bigs = [a + \"_\" + b for a,b in nltk.bigrams(toks)]\n",
    "    trigs = [a + \"_\" + b + \"_\" + c for a,b,c in nltk.trigrams(toks)]\n",
    "    return toks + bigs + trigs"
   ]
  },
  {
   "cell_type": "code",
   "execution_count": 8,
   "id": "76115755-2dc2-45e6-aa5c-70d9a72b547a",
   "metadata": {},
   "outputs": [],
   "source": [
    "data = list()\n",
    "for song in df[\"filename\"]:\n",
    "    with open(os.path.join(DATA,song),\"r\",encoding='utf-8') as file:\n",
    "        lyrics = get_grams(file.read().lower())\n",
    "        data.append(TaggedDocument(lyrics ,(song,)))"
   ]
  },
  {
   "cell_type": "code",
   "execution_count": null,
   "id": "5233f65c-ea82-4bf2-a3e6-0ad9f67d5f9d",
   "metadata": {},
   "outputs": [],
   "source": []
  },
  {
   "cell_type": "markdown",
   "id": "0f581a30-82a0-4d79-9060-63ea4a86b719",
   "metadata": {},
   "source": [
    "## Word2Vec model training on extracted features"
   ]
  },
  {
   "cell_type": "code",
   "execution_count": 12,
   "id": "6558288b-71e9-466b-816e-6de5773c8d58",
   "metadata": {},
   "outputs": [
    {
     "name": "stderr",
     "output_type": "stream",
     "text": [
      "2021-05-31 16:56:48,638 : INFO : collecting all words and their counts\n",
      "2021-05-31 16:56:48,640 : INFO : PROGRESS: at example #0, processed 0 words (0/s), 0 word types, 0 tags\n",
      "2021-05-31 16:56:52,026 : INFO : collected 2196567 word types and 5715 unique tags from a corpus of 5738 examples and 8199708 words\n",
      "2021-05-31 16:56:52,026 : INFO : Creating a fresh vocabulary\n",
      "2021-05-31 16:56:53,604 : INFO : Doc2Vec lifecycle event {'msg': 'effective_min_count=5 retains 178277 unique words (8.11616490641988%% of original 2196567, drops 2018290)', 'datetime': '2021-05-31T16:56:53.604652', 'gensim': '4.0.1', 'python': '3.8.10 (default, May 19 2021, 18:05:58) \\n[GCC 7.3.0]', 'platform': 'Linux-5.11.0-7614-generic-x86_64-with-glibc2.10', 'event': 'prepare_vocab'}\n",
      "2021-05-31 16:56:53,605 : INFO : Doc2Vec lifecycle event {'msg': 'effective_min_count=5 leaves 5413500 word corpus (66.02064366194503%% of original 8199708, drops 2786208)', 'datetime': '2021-05-31T16:56:53.605572', 'gensim': '4.0.1', 'python': '3.8.10 (default, May 19 2021, 18:05:58) \\n[GCC 7.3.0]', 'platform': 'Linux-5.11.0-7614-generic-x86_64-with-glibc2.10', 'event': 'prepare_vocab'}\n",
      "2021-05-31 16:56:55,059 : INFO : deleting the raw counts dictionary of 2196567 items\n",
      "2021-05-31 16:56:55,098 : INFO : sample=0.001 downsamples 22 most-common words\n",
      "2021-05-31 16:56:55,099 : INFO : Doc2Vec lifecycle event {'msg': 'downsampling leaves estimated 5070281.748910482 word corpus (93.7%% of prior 5413500)', 'datetime': '2021-05-31T16:56:55.099642', 'gensim': '4.0.1', 'python': '3.8.10 (default, May 19 2021, 18:05:58) \\n[GCC 7.3.0]', 'platform': 'Linux-5.11.0-7614-generic-x86_64-with-glibc2.10', 'event': 'prepare_vocab'}\n",
      "2021-05-31 16:56:57,565 : INFO : estimated required memory for 178277 words and 100 dimensions: 235189100 bytes\n",
      "2021-05-31 16:56:57,566 : INFO : resetting layer weights\n",
      "2021-05-31 16:56:57,682 : INFO : Doc2Vec lifecycle event {'msg': 'training model with 8 workers on 178277 vocabulary and 100 features, using sg=0 hs=0 sample=0.001 negative=5 window=5', 'datetime': '2021-05-31T16:56:57.682659', 'gensim': '4.0.1', 'python': '3.8.10 (default, May 19 2021, 18:05:58) \\n[GCC 7.3.0]', 'platform': 'Linux-5.11.0-7614-generic-x86_64-with-glibc2.10', 'event': 'train'}\n",
      "2021-05-31 16:56:58,688 : INFO : EPOCH 1 - PROGRESS: at 12.44% examples, 540510 words/s, in_qsize 15, out_qsize 0\n",
      "2021-05-31 16:56:59,689 : INFO : EPOCH 1 - PROGRESS: at 27.68% examples, 618686 words/s, in_qsize 16, out_qsize 0\n",
      "2021-05-31 16:57:00,704 : INFO : EPOCH 1 - PROGRESS: at 45.00% examples, 654041 words/s, in_qsize 16, out_qsize 0\n",
      "2021-05-31 16:57:01,706 : INFO : EPOCH 1 - PROGRESS: at 61.68% examples, 678583 words/s, in_qsize 15, out_qsize 0\n",
      "2021-05-31 16:57:02,715 : INFO : EPOCH 1 - PROGRESS: at 76.79% examples, 692335 words/s, in_qsize 15, out_qsize 0\n",
      "2021-05-31 16:57:03,716 : INFO : EPOCH 1 - PROGRESS: at 91.11% examples, 703963 words/s, in_qsize 15, out_qsize 0\n",
      "2021-05-31 16:57:04,268 : INFO : worker thread finished; awaiting finish of 7 more threads\n",
      "2021-05-31 16:57:04,287 : INFO : worker thread finished; awaiting finish of 6 more threads\n",
      "2021-05-31 16:57:04,293 : INFO : worker thread finished; awaiting finish of 5 more threads\n",
      "2021-05-31 16:57:04,298 : INFO : worker thread finished; awaiting finish of 4 more threads\n",
      "2021-05-31 16:57:04,307 : INFO : worker thread finished; awaiting finish of 3 more threads\n",
      "2021-05-31 16:57:04,311 : INFO : worker thread finished; awaiting finish of 2 more threads\n",
      "2021-05-31 16:57:04,320 : INFO : worker thread finished; awaiting finish of 1 more threads\n",
      "2021-05-31 16:57:04,325 : INFO : worker thread finished; awaiting finish of 0 more threads\n",
      "2021-05-31 16:57:04,326 : INFO : EPOCH - 1 : training on 8199708 raw words (4676746 effective words) took 6.6s, 704371 effective words/s\n",
      "2021-05-31 16:57:05,335 : INFO : EPOCH 2 - PROGRESS: at 16.38% examples, 734550 words/s, in_qsize 15, out_qsize 0\n",
      "2021-05-31 16:57:06,341 : INFO : EPOCH 2 - PROGRESS: at 34.68% examples, 755132 words/s, in_qsize 16, out_qsize 0\n",
      "2021-05-31 16:57:07,360 : INFO : EPOCH 2 - PROGRESS: at 52.34% examples, 757201 words/s, in_qsize 15, out_qsize 0\n",
      "2021-05-31 16:57:08,373 : INFO : EPOCH 2 - PROGRESS: at 68.82% examples, 763459 words/s, in_qsize 16, out_qsize 0\n",
      "2021-05-31 16:57:09,383 : INFO : EPOCH 2 - PROGRESS: at 83.36% examples, 758896 words/s, in_qsize 15, out_qsize 0\n",
      "2021-05-31 16:57:10,384 : INFO : EPOCH 2 - PROGRESS: at 98.10% examples, 755779 words/s, in_qsize 15, out_qsize 0\n",
      "2021-05-31 16:57:10,479 : INFO : worker thread finished; awaiting finish of 7 more threads\n",
      "2021-05-31 16:57:10,482 : INFO : worker thread finished; awaiting finish of 6 more threads\n",
      "2021-05-31 16:57:10,484 : INFO : worker thread finished; awaiting finish of 5 more threads\n",
      "2021-05-31 16:57:10,487 : INFO : worker thread finished; awaiting finish of 4 more threads\n",
      "2021-05-31 16:57:10,501 : INFO : worker thread finished; awaiting finish of 3 more threads\n",
      "2021-05-31 16:57:10,509 : INFO : worker thread finished; awaiting finish of 2 more threads\n",
      "2021-05-31 16:57:10,512 : INFO : worker thread finished; awaiting finish of 1 more threads\n",
      "2021-05-31 16:57:10,518 : INFO : worker thread finished; awaiting finish of 0 more threads\n",
      "2021-05-31 16:57:10,519 : INFO : EPOCH - 2 : training on 8199708 raw words (4676365 effective words) took 6.2s, 755510 effective words/s\n",
      "2021-05-31 16:57:11,526 : INFO : EPOCH 3 - PROGRESS: at 16.54% examples, 732538 words/s, in_qsize 15, out_qsize 0\n",
      "2021-05-31 16:57:12,538 : INFO : EPOCH 3 - PROGRESS: at 33.95% examples, 737731 words/s, in_qsize 15, out_qsize 0\n",
      "2021-05-31 16:57:13,571 : INFO : EPOCH 3 - PROGRESS: at 51.59% examples, 741354 words/s, in_qsize 15, out_qsize 0\n",
      "2021-05-31 16:57:14,573 : INFO : EPOCH 3 - PROGRESS: at 67.67% examples, 745138 words/s, in_qsize 16, out_qsize 0\n",
      "2021-05-31 16:57:15,586 : INFO : EPOCH 3 - PROGRESS: at 82.12% examples, 744308 words/s, in_qsize 15, out_qsize 0\n",
      "2021-05-31 16:57:16,586 : INFO : EPOCH 3 - PROGRESS: at 96.67% examples, 742954 words/s, in_qsize 15, out_qsize 0\n",
      "2021-05-31 16:57:16,770 : INFO : worker thread finished; awaiting finish of 7 more threads\n",
      "2021-05-31 16:57:16,771 : INFO : worker thread finished; awaiting finish of 6 more threads\n",
      "2021-05-31 16:57:16,777 : INFO : worker thread finished; awaiting finish of 5 more threads\n",
      "2021-05-31 16:57:16,788 : INFO : worker thread finished; awaiting finish of 4 more threads\n",
      "2021-05-31 16:57:16,803 : INFO : worker thread finished; awaiting finish of 3 more threads\n",
      "2021-05-31 16:57:16,819 : INFO : worker thread finished; awaiting finish of 2 more threads\n",
      "2021-05-31 16:57:16,823 : INFO : worker thread finished; awaiting finish of 1 more threads\n",
      "2021-05-31 16:57:16,834 : INFO : worker thread finished; awaiting finish of 0 more threads\n",
      "2021-05-31 16:57:16,835 : INFO : EPOCH - 3 : training on 8199708 raw words (4675558 effective words) took 6.3s, 740660 effective words/s\n",
      "2021-05-31 16:57:17,849 : INFO : EPOCH 4 - PROGRESS: at 16.24% examples, 717789 words/s, in_qsize 14, out_qsize 1\n",
      "2021-05-31 16:57:18,851 : INFO : EPOCH 4 - PROGRESS: at 33.64% examples, 734607 words/s, in_qsize 14, out_qsize 1\n",
      "2021-05-31 16:57:19,855 : INFO : EPOCH 4 - PROGRESS: at 51.34% examples, 745486 words/s, in_qsize 16, out_qsize 0\n",
      "2021-05-31 16:57:20,857 : INFO : EPOCH 4 - PROGRESS: at 67.39% examples, 747940 words/s, in_qsize 15, out_qsize 0\n",
      "2021-05-31 16:57:21,859 : INFO : EPOCH 4 - PROGRESS: at 81.30% examples, 743396 words/s, in_qsize 15, out_qsize 0\n",
      "2021-05-31 16:57:22,860 : INFO : EPOCH 4 - PROGRESS: at 95.97% examples, 742979 words/s, in_qsize 15, out_qsize 0\n",
      "2021-05-31 16:57:23,160 : INFO : worker thread finished; awaiting finish of 7 more threads\n",
      "2021-05-31 16:57:23,162 : INFO : worker thread finished; awaiting finish of 6 more threads\n",
      "2021-05-31 16:57:23,169 : INFO : worker thread finished; awaiting finish of 5 more threads\n",
      "2021-05-31 16:57:23,175 : INFO : worker thread finished; awaiting finish of 4 more threads\n",
      "2021-05-31 16:57:23,184 : INFO : worker thread finished; awaiting finish of 3 more threads\n",
      "2021-05-31 16:57:23,191 : INFO : worker thread finished; awaiting finish of 2 more threads\n",
      "2021-05-31 16:57:23,209 : INFO : worker thread finished; awaiting finish of 1 more threads\n",
      "2021-05-31 16:57:23,212 : INFO : worker thread finished; awaiting finish of 0 more threads\n",
      "2021-05-31 16:57:23,213 : INFO : EPOCH - 4 : training on 8199708 raw words (4675677 effective words) took 6.4s, 733790 effective words/s\n",
      "2021-05-31 16:57:24,225 : INFO : EPOCH 5 - PROGRESS: at 15.63% examples, 694751 words/s, in_qsize 16, out_qsize 2\n",
      "2021-05-31 16:57:25,228 : INFO : EPOCH 5 - PROGRESS: at 33.16% examples, 723121 words/s, in_qsize 15, out_qsize 0\n",
      "2021-05-31 16:57:26,233 : INFO : EPOCH 5 - PROGRESS: at 48.10% examples, 701234 words/s, in_qsize 16, out_qsize 0\n",
      "2021-05-31 16:57:27,236 : INFO : EPOCH 5 - PROGRESS: at 63.72% examples, 704508 words/s, in_qsize 15, out_qsize 0\n",
      "2021-05-31 16:57:28,237 : INFO : EPOCH 5 - PROGRESS: at 78.48% examples, 710020 words/s, in_qsize 15, out_qsize 0\n",
      "2021-05-31 16:57:29,250 : INFO : EPOCH 5 - PROGRESS: at 91.23% examples, 706286 words/s, in_qsize 16, out_qsize 0\n",
      "2021-05-31 16:57:29,806 : INFO : worker thread finished; awaiting finish of 7 more threads\n",
      "2021-05-31 16:57:29,817 : INFO : worker thread finished; awaiting finish of 6 more threads\n",
      "2021-05-31 16:57:29,827 : INFO : worker thread finished; awaiting finish of 5 more threads\n",
      "2021-05-31 16:57:29,830 : INFO : worker thread finished; awaiting finish of 4 more threads\n",
      "2021-05-31 16:57:29,841 : INFO : worker thread finished; awaiting finish of 3 more threads\n",
      "2021-05-31 16:57:29,843 : INFO : worker thread finished; awaiting finish of 2 more threads\n",
      "2021-05-31 16:57:29,848 : INFO : worker thread finished; awaiting finish of 1 more threads\n",
      "2021-05-31 16:57:29,856 : INFO : worker thread finished; awaiting finish of 0 more threads\n",
      "2021-05-31 16:57:29,857 : INFO : EPOCH - 5 : training on 8199708 raw words (4676633 effective words) took 6.6s, 704545 effective words/s\n",
      "2021-05-31 16:57:30,869 : INFO : EPOCH 6 - PROGRESS: at 15.32% examples, 671401 words/s, in_qsize 15, out_qsize 0\n",
      "2021-05-31 16:57:31,879 : INFO : EPOCH 6 - PROGRESS: at 31.65% examples, 693306 words/s, in_qsize 15, out_qsize 0\n",
      "2021-05-31 16:57:32,886 : INFO : EPOCH 6 - PROGRESS: at 50.14% examples, 724871 words/s, in_qsize 15, out_qsize 0\n",
      "2021-05-31 16:57:33,904 : INFO : EPOCH 6 - PROGRESS: at 64.34% examples, 707750 words/s, in_qsize 15, out_qsize 0\n",
      "2021-05-31 16:57:34,907 : INFO : EPOCH 6 - PROGRESS: at 79.26% examples, 715640 words/s, in_qsize 15, out_qsize 0\n",
      "2021-05-31 16:57:35,912 : INFO : EPOCH 6 - PROGRESS: at 92.37% examples, 713082 words/s, in_qsize 16, out_qsize 1\n",
      "2021-05-31 16:57:36,354 : INFO : worker thread finished; awaiting finish of 7 more threads\n",
      "2021-05-31 16:57:36,360 : INFO : worker thread finished; awaiting finish of 6 more threads\n",
      "2021-05-31 16:57:36,397 : INFO : worker thread finished; awaiting finish of 5 more threads\n",
      "2021-05-31 16:57:36,410 : INFO : worker thread finished; awaiting finish of 4 more threads\n",
      "2021-05-31 16:57:36,411 : INFO : worker thread finished; awaiting finish of 3 more threads\n",
      "2021-05-31 16:57:36,414 : INFO : worker thread finished; awaiting finish of 2 more threads\n",
      "2021-05-31 16:57:36,419 : INFO : worker thread finished; awaiting finish of 1 more threads\n",
      "2021-05-31 16:57:36,421 : INFO : worker thread finished; awaiting finish of 0 more threads\n",
      "2021-05-31 16:57:36,421 : INFO : EPOCH - 6 : training on 8199708 raw words (4676279 effective words) took 6.6s, 713346 effective words/s\n",
      "2021-05-31 16:57:37,427 : INFO : EPOCH 7 - PROGRESS: at 15.75% examples, 704061 words/s, in_qsize 15, out_qsize 0\n",
      "2021-05-31 16:57:38,429 : INFO : EPOCH 7 - PROGRESS: at 32.97% examples, 721559 words/s, in_qsize 15, out_qsize 0\n",
      "2021-05-31 16:57:39,440 : INFO : EPOCH 7 - PROGRESS: at 49.70% examples, 719386 words/s, in_qsize 16, out_qsize 0\n",
      "2021-05-31 16:57:40,447 : INFO : EPOCH 7 - PROGRESS: at 66.70% examples, 737975 words/s, in_qsize 15, out_qsize 0\n",
      "2021-05-31 16:57:41,467 : INFO : EPOCH 7 - PROGRESS: at 80.64% examples, 733095 words/s, in_qsize 15, out_qsize 0\n",
      "2021-05-31 16:57:42,485 : INFO : EPOCH 7 - PROGRESS: at 94.79% examples, 729640 words/s, in_qsize 15, out_qsize 0\n",
      "2021-05-31 16:57:42,877 : INFO : worker thread finished; awaiting finish of 7 more threads\n",
      "2021-05-31 16:57:42,893 : INFO : worker thread finished; awaiting finish of 6 more threads\n",
      "2021-05-31 16:57:42,909 : INFO : worker thread finished; awaiting finish of 5 more threads\n",
      "2021-05-31 16:57:42,914 : INFO : worker thread finished; awaiting finish of 4 more threads\n",
      "2021-05-31 16:57:42,921 : INFO : worker thread finished; awaiting finish of 3 more threads\n",
      "2021-05-31 16:57:42,930 : INFO : worker thread finished; awaiting finish of 2 more threads\n",
      "2021-05-31 16:57:42,932 : INFO : worker thread finished; awaiting finish of 1 more threads\n",
      "2021-05-31 16:57:42,935 : INFO : worker thread finished; awaiting finish of 0 more threads\n",
      "2021-05-31 16:57:42,936 : INFO : EPOCH - 7 : training on 8199708 raw words (4676396 effective words) took 6.5s, 718283 effective words/s\n",
      "2021-05-31 16:57:43,957 : INFO : EPOCH 8 - PROGRESS: at 15.25% examples, 666797 words/s, in_qsize 15, out_qsize 0\n",
      "2021-05-31 16:57:44,966 : INFO : EPOCH 8 - PROGRESS: at 28.83% examples, 634707 words/s, in_qsize 15, out_qsize 0\n",
      "2021-05-31 16:57:45,969 : INFO : EPOCH 8 - PROGRESS: at 44.48% examples, 646626 words/s, in_qsize 16, out_qsize 0\n",
      "2021-05-31 16:57:46,996 : INFO : EPOCH 8 - PROGRESS: at 61.55% examples, 672179 words/s, in_qsize 15, out_qsize 0\n",
      "2021-05-31 16:57:47,997 : INFO : EPOCH 8 - PROGRESS: at 75.46% examples, 677761 words/s, in_qsize 15, out_qsize 0\n",
      "2021-05-31 16:57:49,000 : INFO : EPOCH 8 - PROGRESS: at 90.73% examples, 696363 words/s, in_qsize 16, out_qsize 0\n",
      "2021-05-31 16:57:49,566 : INFO : worker thread finished; awaiting finish of 7 more threads\n",
      "2021-05-31 16:57:49,569 : INFO : worker thread finished; awaiting finish of 6 more threads\n",
      "2021-05-31 16:57:49,591 : INFO : worker thread finished; awaiting finish of 5 more threads\n",
      "2021-05-31 16:57:49,600 : INFO : worker thread finished; awaiting finish of 4 more threads\n",
      "2021-05-31 16:57:49,608 : INFO : worker thread finished; awaiting finish of 3 more threads\n",
      "2021-05-31 16:57:49,621 : INFO : worker thread finished; awaiting finish of 2 more threads\n",
      "2021-05-31 16:57:49,629 : INFO : worker thread finished; awaiting finish of 1 more threads\n",
      "2021-05-31 16:57:49,631 : INFO : worker thread finished; awaiting finish of 0 more threads\n",
      "2021-05-31 16:57:49,632 : INFO : EPOCH - 8 : training on 8199708 raw words (4675432 effective words) took 6.7s, 699308 effective words/s\n",
      "2021-05-31 16:57:50,656 : INFO : EPOCH 9 - PROGRESS: at 17.32% examples, 763169 words/s, in_qsize 15, out_qsize 0\n",
      "2021-05-31 16:57:51,664 : INFO : EPOCH 9 - PROGRESS: at 35.19% examples, 759500 words/s, in_qsize 15, out_qsize 0\n",
      "2021-05-31 16:57:52,665 : INFO : EPOCH 9 - PROGRESS: at 51.45% examples, 744847 words/s, in_qsize 16, out_qsize 1\n",
      "2021-05-31 16:57:53,669 : INFO : EPOCH 9 - PROGRESS: at 67.55% examples, 747787 words/s, in_qsize 15, out_qsize 1\n",
      "2021-05-31 16:57:54,676 : INFO : EPOCH 9 - PROGRESS: at 81.44% examples, 741810 words/s, in_qsize 15, out_qsize 0\n",
      "2021-05-31 16:57:55,685 : INFO : EPOCH 9 - PROGRESS: at 95.87% examples, 738870 words/s, in_qsize 15, out_qsize 0\n",
      "2021-05-31 16:57:55,969 : INFO : worker thread finished; awaiting finish of 7 more threads\n",
      "2021-05-31 16:57:55,971 : INFO : worker thread finished; awaiting finish of 6 more threads\n",
      "2021-05-31 16:57:55,973 : INFO : worker thread finished; awaiting finish of 5 more threads\n",
      "2021-05-31 16:57:55,976 : INFO : worker thread finished; awaiting finish of 4 more threads\n",
      "2021-05-31 16:57:55,980 : INFO : worker thread finished; awaiting finish of 3 more threads\n",
      "2021-05-31 16:57:55,983 : INFO : worker thread finished; awaiting finish of 2 more threads\n",
      "2021-05-31 16:57:55,990 : INFO : worker thread finished; awaiting finish of 1 more threads\n",
      "2021-05-31 16:57:55,998 : INFO : worker thread finished; awaiting finish of 0 more threads\n",
      "2021-05-31 16:57:55,999 : INFO : EPOCH - 9 : training on 8199708 raw words (4675734 effective words) took 6.4s, 735252 effective words/s\n",
      "2021-05-31 16:57:57,013 : INFO : EPOCH 10 - PROGRESS: at 16.35% examples, 721856 words/s, in_qsize 14, out_qsize 1\n",
      "2021-05-31 16:57:58,016 : INFO : EPOCH 10 - PROGRESS: at 32.61% examples, 711868 words/s, in_qsize 15, out_qsize 0\n",
      "2021-05-31 16:57:59,024 : INFO : EPOCH 10 - PROGRESS: at 50.14% examples, 724374 words/s, in_qsize 16, out_qsize 0\n",
      "2021-05-31 16:58:00,025 : INFO : EPOCH 10 - PROGRESS: at 66.28% examples, 733292 words/s, in_qsize 15, out_qsize 0\n",
      "2021-05-31 16:58:01,027 : INFO : EPOCH 10 - PROGRESS: at 80.86% examples, 737903 words/s, in_qsize 15, out_qsize 0\n",
      "2021-05-31 16:58:02,034 : INFO : EPOCH 10 - PROGRESS: at 95.07% examples, 735016 words/s, in_qsize 15, out_qsize 0\n",
      "2021-05-31 16:58:02,320 : INFO : worker thread finished; awaiting finish of 7 more threads\n",
      "2021-05-31 16:58:02,330 : INFO : worker thread finished; awaiting finish of 6 more threads\n",
      "2021-05-31 16:58:02,332 : INFO : worker thread finished; awaiting finish of 5 more threads\n",
      "2021-05-31 16:58:02,334 : INFO : worker thread finished; awaiting finish of 4 more threads\n",
      "2021-05-31 16:58:02,339 : INFO : worker thread finished; awaiting finish of 3 more threads\n",
      "2021-05-31 16:58:02,353 : INFO : worker thread finished; awaiting finish of 2 more threads\n",
      "2021-05-31 16:58:02,356 : INFO : worker thread finished; awaiting finish of 1 more threads\n",
      "2021-05-31 16:58:02,358 : INFO : worker thread finished; awaiting finish of 0 more threads\n",
      "2021-05-31 16:58:02,359 : INFO : EPOCH - 10 : training on 8199708 raw words (4676347 effective words) took 6.4s, 735694 effective words/s\n",
      "2021-05-31 16:58:02,360 : INFO : Doc2Vec lifecycle event {'msg': 'training on 81997080 raw words (46761167 effective words) took 64.7s, 723001 effective words/s', 'datetime': '2021-05-31T16:58:02.360271', 'gensim': '4.0.1', 'python': '3.8.10 (default, May 19 2021, 18:05:58) \\n[GCC 7.3.0]', 'platform': 'Linux-5.11.0-7614-generic-x86_64-with-glibc2.10', 'event': 'train'}\n",
      "2021-05-31 16:58:02,362 : INFO : Doc2Vec lifecycle event {'params': 'Doc2Vec(dm/m,d100,n5,w5,mc5,s0.001,t8)', 'datetime': '2021-05-31T16:58:02.362039', 'gensim': '4.0.1', 'python': '3.8.10 (default, May 19 2021, 18:05:58) \\n[GCC 7.3.0]', 'platform': 'Linux-5.11.0-7614-generic-x86_64-with-glibc2.10', 'event': 'created'}\n"
     ]
    }
   ],
   "source": [
    "from gensim.models import Doc2Vec\n",
    "model = Doc2Vec(data, vector_size=100, workers=8)"
   ]
  },
  {
   "cell_type": "markdown",
   "id": "2e90d3b8-38e8-472c-8cc4-b92e772928b8",
   "metadata": {},
   "source": [
    "## We save the Doc2Vec vectors to file for further analysis "
   ]
  },
  {
   "cell_type": "code",
   "execution_count": 15,
   "id": "a39cb355-5686-47d0-a3ff-dfcf9bcf062f",
   "metadata": {},
   "outputs": [],
   "source": [
    "doc2vec_vectors = model.dv"
   ]
  },
  {
   "cell_type": "code",
   "execution_count": 16,
   "id": "75fab19d-5e62-4e36-9cb1-ef2453d1cbca",
   "metadata": {},
   "outputs": [
    {
     "name": "stderr",
     "output_type": "stream",
     "text": [
      "2021-05-31 16:58:06,173 : INFO : KeyedVectors lifecycle event {'fname_or_handle': 'word2vecmodels/docs_grams_debug.model', 'separately': 'None', 'sep_limit': 10485760, 'ignore': frozenset(), 'datetime': '2021-05-31T16:58:06.173525', 'gensim': '4.0.1', 'python': '3.8.10 (default, May 19 2021, 18:05:58) \\n[GCC 7.3.0]', 'platform': 'Linux-5.11.0-7614-generic-x86_64-with-glibc2.10', 'event': 'saving'}\n",
      "2021-05-31 16:58:06,182 : INFO : saved word2vecmodels/docs_grams_debug.model\n"
     ]
    }
   ],
   "source": [
    "doc2vec_vectors.save(\"word2vecmodels/docs_grams_debug.model\")"
   ]
  },
  {
   "cell_type": "code",
   "execution_count": null,
   "id": "deea13ec-7f68-4d69-8de3-ed06850551f9",
   "metadata": {},
   "outputs": [],
   "source": []
  },
  {
   "cell_type": "code",
   "execution_count": null,
   "id": "5a3a57c3-816a-4d77-9a41-7585d784b837",
   "metadata": {},
   "outputs": [],
   "source": []
  }
 ],
 "metadata": {
  "kernelspec": {
   "display_name": "Python 3",
   "language": "python",
   "name": "python3"
  },
  "language_info": {
   "codemirror_mode": {
    "name": "ipython",
    "version": 3
   },
   "file_extension": ".py",
   "mimetype": "text/x-python",
   "name": "python",
   "nbconvert_exporter": "python",
   "pygments_lexer": "ipython3",
   "version": "3.8.10"
  }
 },
 "nbformat": 4,
 "nbformat_minor": 5
}
