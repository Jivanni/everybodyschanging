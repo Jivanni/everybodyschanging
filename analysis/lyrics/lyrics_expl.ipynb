{
 "cells": [
  {
   "cell_type": "code",
   "execution_count": 1,
   "id": "fd69750b-39e9-4433-bb87-328980f4c64e",
   "metadata": {},
   "outputs": [],
   "source": [
    "import os\n",
    "import pandas as pd\n",
    "import csv\n",
    "import re\n",
    "\n",
    "import nltk\n",
    "#nltk.download('punkt')\n",
    "from nltk import word_tokenize\n",
    "from nltk import sent_tokenize\n",
    "from gensim.models.doc2vec import TaggedDocument"
   ]
  },
  {
   "cell_type": "code",
   "execution_count": 2,
   "id": "e7db39a7-5251-41a3-90f9-0a3178aa6087",
   "metadata": {},
   "outputs": [],
   "source": [
    "import logging\n",
    "logging.basicConfig(format='%(asctime)s : %(levelname)s : %(message)s', level=logging.INFO)"
   ]
  },
  {
   "cell_type": "code",
   "execution_count": null,
   "id": "33447177-1528-4e97-9fff-3e43d0755f4e",
   "metadata": {},
   "outputs": [],
   "source": []
  },
  {
   "cell_type": "markdown",
   "id": "2ab2610d-b243-4be2-b508-e80f0a7cd9ed",
   "metadata": {},
   "source": [
    "## Loading files and removing NaNs"
   ]
  },
  {
   "cell_type": "code",
   "execution_count": 3,
   "id": "c704474e-2946-452f-9ad3-42f6baf27298",
   "metadata": {},
   "outputs": [],
   "source": [
    "df = pd.read_csv(\"songlyrics/songs_with_filenames_and_feats_6.csv\", delimiter=\";\")\n",
    "df = df[df['filename'].notna()]"
   ]
  },
  {
   "cell_type": "code",
   "execution_count": 4,
   "id": "7d1c9ad9-307c-430c-9eba-fd5554458b62",
   "metadata": {},
   "outputs": [],
   "source": [
    "DATA = \"songlyrics/lyrics\""
   ]
  },
  {
   "cell_type": "code",
   "execution_count": 5,
   "id": "823c202c-59c6-414c-a5df-0a1adc8a2904",
   "metadata": {},
   "outputs": [],
   "source": [
    "songs = os.listdir(DATA)"
   ]
  },
  {
   "cell_type": "code",
   "execution_count": 6,
   "id": "080dc7d2-40fd-4b59-aa47-f987c5b61a28",
   "metadata": {},
   "outputs": [
    {
     "name": "stdout",
     "output_type": "stream",
     "text": [
      "found 6671 unique files\n"
     ]
    }
   ],
   "source": [
    "print(f\"found {len(songs)} unique files\") "
   ]
  },
  {
   "cell_type": "code",
   "execution_count": null,
   "id": "e6de739f-30b6-46d9-82f1-08ee26a43c31",
   "metadata": {},
   "outputs": [],
   "source": []
  },
  {
   "cell_type": "markdown",
   "id": "a2fabd85-ede8-4da8-b4cf-4b88d8a93822",
   "metadata": {},
   "source": [
    "## String Processing and Tokenization"
   ]
  },
  {
   "cell_type": "markdown",
   "id": "e4645980-b624-4472-a5e7-d3d27447cbf4",
   "metadata": {},
   "source": [
    "We extract tokens, bigrams and trigrams from each lyrics"
   ]
  },
  {
   "cell_type": "code",
   "execution_count": 7,
   "id": "0174f8c2-2ae3-4f9c-a9b5-08ad3108cee1",
   "metadata": {},
   "outputs": [],
   "source": [
    "def get_grams(text):\n",
    "    toks = word_tokenize(text)\n",
    "    bigs = [a + \"_\" + b for a,b in nltk.bigrams(toks)]\n",
    "    trigs = [a + \"_\" + b + \"_\" + c for a,b,c in nltk.trigrams(toks)]\n",
    "    return toks + bigs + trigs"
   ]
  },
  {
   "cell_type": "code",
   "execution_count": 8,
   "id": "76115755-2dc2-45e6-aa5c-70d9a72b547a",
   "metadata": {},
   "outputs": [],
   "source": [
    "data = list()\n",
    "for song in df[\"filename\"]:\n",
    "    with open(os.path.join(DATA,song),\"r\",encoding='utf-8') as file:\n",
    "        lyrics = get_grams(file.read().lower())\n",
    "        data.append(TaggedDocument(lyrics ,(song,)))"
   ]
  },
  {
   "cell_type": "code",
   "execution_count": null,
   "id": "5233f65c-ea82-4bf2-a3e6-0ad9f67d5f9d",
   "metadata": {},
   "outputs": [],
   "source": []
  },
  {
   "cell_type": "markdown",
   "id": "0f581a30-82a0-4d79-9060-63ea4a86b719",
   "metadata": {},
   "source": [
    "## Word2Vec model training on extracted features"
   ]
  },
  {
   "cell_type": "code",
   "execution_count": 9,
   "id": "6558288b-71e9-466b-816e-6de5773c8d58",
   "metadata": {},
   "outputs": [
    {
     "name": "stderr",
     "output_type": "stream",
     "text": [
      "2021-06-23 16:11:05,508 : INFO : collecting all words and their counts\n",
      "2021-06-23 16:11:05,509 : INFO : PROGRESS: at example #0, processed 0 words (0/s), 0 word types, 0 tags\n",
      "2021-06-23 16:11:08,803 : INFO : collected 2311575 word types and 6094 unique tags from a corpus of 6137 examples and 8629734 words\n",
      "2021-06-23 16:11:08,804 : INFO : Creating a fresh vocabulary\n",
      "2021-06-23 16:11:10,365 : INFO : Doc2Vec lifecycle event {'msg': 'effective_min_count=5 retains 184790 unique words (7.994116565545137%% of original 2311575, drops 2126785)', 'datetime': '2021-06-23T16:11:10.341207', 'gensim': '4.0.1', 'python': '3.8.10 (default, Jun  4 2021, 15:09:15) \\n[GCC 7.5.0]', 'platform': 'Linux-5.11.0-7614-generic-x86_64-with-glibc2.17', 'event': 'prepare_vocab'}\n",
      "2021-06-23 16:11:10,366 : INFO : Doc2Vec lifecycle event {'msg': 'effective_min_count=5 leaves 5724104 word corpus (66.33001666100022%% of original 8629734, drops 2905630)', 'datetime': '2021-06-23T16:11:10.366803', 'gensim': '4.0.1', 'python': '3.8.10 (default, Jun  4 2021, 15:09:15) \\n[GCC 7.5.0]', 'platform': 'Linux-5.11.0-7614-generic-x86_64-with-glibc2.17', 'event': 'prepare_vocab'}\n",
      "2021-06-23 16:11:11,820 : INFO : deleting the raw counts dictionary of 2311575 items\n",
      "2021-06-23 16:11:11,857 : INFO : sample=0.001 downsamples 23 most-common words\n",
      "2021-06-23 16:11:11,858 : INFO : Doc2Vec lifecycle event {'msg': 'downsampling leaves estimated 5358154.150342099 word corpus (93.6%% of prior 5724104)', 'datetime': '2021-06-23T16:11:11.858482', 'gensim': '4.0.1', 'python': '3.8.10 (default, Jun  4 2021, 15:09:15) \\n[GCC 7.5.0]', 'platform': 'Linux-5.11.0-7614-generic-x86_64-with-glibc2.17', 'event': 'prepare_vocab'}\n",
      "2021-06-23 16:11:14,270 : INFO : estimated required memory for 184790 words and 100 dimensions: 243883400 bytes\n",
      "2021-06-23 16:11:14,271 : INFO : resetting layer weights\n",
      "2021-06-23 16:11:14,388 : INFO : Doc2Vec lifecycle event {'msg': 'training model with 8 workers on 184790 vocabulary and 100 features, using sg=0 hs=0 sample=0.001 negative=5 window=5', 'datetime': '2021-06-23T16:11:14.388603', 'gensim': '4.0.1', 'python': '3.8.10 (default, Jun  4 2021, 15:09:15) \\n[GCC 7.5.0]', 'platform': 'Linux-5.11.0-7614-generic-x86_64-with-glibc2.17', 'event': 'train'}\n",
      "2021-06-23 16:11:15,396 : INFO : EPOCH 1 - PROGRESS: at 15.15% examples, 740092 words/s, in_qsize 15, out_qsize 0\n",
      "2021-06-23 16:11:16,399 : INFO : EPOCH 1 - PROGRESS: at 30.36% examples, 743233 words/s, in_qsize 16, out_qsize 2\n",
      "2021-06-23 16:11:17,400 : INFO : EPOCH 1 - PROGRESS: at 47.06% examples, 764899 words/s, in_qsize 15, out_qsize 0\n",
      "2021-06-23 16:11:18,411 : INFO : EPOCH 1 - PROGRESS: at 62.73% examples, 764788 words/s, in_qsize 16, out_qsize 2\n",
      "2021-06-23 16:11:19,414 : INFO : EPOCH 1 - PROGRESS: at 76.75% examples, 763795 words/s, in_qsize 16, out_qsize 0\n",
      "2021-06-23 16:11:20,422 : INFO : EPOCH 1 - PROGRESS: at 90.99% examples, 767795 words/s, in_qsize 15, out_qsize 0\n",
      "2021-06-23 16:11:21,047 : INFO : worker thread finished; awaiting finish of 7 more threads\n",
      "2021-06-23 16:11:21,059 : INFO : worker thread finished; awaiting finish of 6 more threads\n",
      "2021-06-23 16:11:21,060 : INFO : worker thread finished; awaiting finish of 5 more threads\n",
      "2021-06-23 16:11:21,070 : INFO : worker thread finished; awaiting finish of 4 more threads\n",
      "2021-06-23 16:11:21,086 : INFO : worker thread finished; awaiting finish of 3 more threads\n",
      "2021-06-23 16:11:21,089 : INFO : worker thread finished; awaiting finish of 2 more threads\n",
      "2021-06-23 16:11:21,091 : INFO : worker thread finished; awaiting finish of 1 more threads\n",
      "2021-06-23 16:11:21,096 : INFO : worker thread finished; awaiting finish of 0 more threads\n",
      "2021-06-23 16:11:21,098 : INFO : EPOCH - 1 : training on 8629734 raw words (5106869 effective words) took 6.7s, 761816 effective words/s\n",
      "2021-06-23 16:11:22,118 : INFO : EPOCH 2 - PROGRESS: at 15.61% examples, 759443 words/s, in_qsize 15, out_qsize 0\n",
      "2021-06-23 16:11:23,118 : INFO : EPOCH 2 - PROGRESS: at 31.29% examples, 764037 words/s, in_qsize 16, out_qsize 2\n",
      "2021-06-23 16:11:24,128 : INFO : EPOCH 2 - PROGRESS: at 48.53% examples, 782735 words/s, in_qsize 16, out_qsize 0\n",
      "2021-06-23 16:11:25,134 : INFO : EPOCH 2 - PROGRESS: at 64.10% examples, 780428 words/s, in_qsize 15, out_qsize 0\n",
      "2021-06-23 16:11:26,141 : INFO : EPOCH 2 - PROGRESS: at 78.28% examples, 775480 words/s, in_qsize 15, out_qsize 0\n",
      "2021-06-23 16:11:27,143 : INFO : EPOCH 2 - PROGRESS: at 91.67% examples, 772238 words/s, in_qsize 15, out_qsize 0\n",
      "2021-06-23 16:11:27,757 : INFO : worker thread finished; awaiting finish of 7 more threads\n",
      "2021-06-23 16:11:27,761 : INFO : worker thread finished; awaiting finish of 6 more threads\n",
      "2021-06-23 16:11:27,763 : INFO : worker thread finished; awaiting finish of 5 more threads\n",
      "2021-06-23 16:11:27,767 : INFO : worker thread finished; awaiting finish of 4 more threads\n",
      "2021-06-23 16:11:27,780 : INFO : worker thread finished; awaiting finish of 3 more threads\n",
      "2021-06-23 16:11:27,786 : INFO : worker thread finished; awaiting finish of 2 more threads\n",
      "2021-06-23 16:11:27,789 : INFO : worker thread finished; awaiting finish of 1 more threads\n",
      "2021-06-23 16:11:27,790 : INFO : worker thread finished; awaiting finish of 0 more threads\n",
      "2021-06-23 16:11:27,790 : INFO : EPOCH - 2 : training on 8629734 raw words (5107298 effective words) took 6.7s, 763488 effective words/s\n",
      "2021-06-23 16:11:28,810 : INFO : EPOCH 3 - PROGRESS: at 13.56% examples, 633081 words/s, in_qsize 15, out_qsize 0\n",
      "2021-06-23 16:11:29,818 : INFO : EPOCH 3 - PROGRESS: at 25.53% examples, 635673 words/s, in_qsize 15, out_qsize 0\n",
      "2021-06-23 16:11:30,819 : INFO : EPOCH 3 - PROGRESS: at 40.07% examples, 647801 words/s, in_qsize 15, out_qsize 0\n",
      "2021-06-23 16:11:31,824 : INFO : EPOCH 3 - PROGRESS: at 54.24% examples, 653147 words/s, in_qsize 15, out_qsize 0\n",
      "2021-06-23 16:11:32,832 : INFO : EPOCH 3 - PROGRESS: at 67.83% examples, 663569 words/s, in_qsize 15, out_qsize 0\n",
      "2021-06-23 16:11:33,832 : INFO : EPOCH 3 - PROGRESS: at 82.58% examples, 688555 words/s, in_qsize 15, out_qsize 0\n",
      "2021-06-23 16:11:34,840 : INFO : EPOCH 3 - PROGRESS: at 97.23% examples, 706037 words/s, in_qsize 16, out_qsize 0\n",
      "2021-06-23 16:11:34,975 : INFO : worker thread finished; awaiting finish of 7 more threads\n",
      "2021-06-23 16:11:34,990 : INFO : worker thread finished; awaiting finish of 6 more threads\n",
      "2021-06-23 16:11:34,993 : INFO : worker thread finished; awaiting finish of 5 more threads\n",
      "2021-06-23 16:11:35,006 : INFO : worker thread finished; awaiting finish of 4 more threads\n",
      "2021-06-23 16:11:35,018 : INFO : worker thread finished; awaiting finish of 3 more threads\n",
      "2021-06-23 16:11:35,022 : INFO : worker thread finished; awaiting finish of 2 more threads\n",
      "2021-06-23 16:11:35,022 : INFO : worker thread finished; awaiting finish of 1 more threads\n",
      "2021-06-23 16:11:35,023 : INFO : worker thread finished; awaiting finish of 0 more threads\n",
      "2021-06-23 16:11:35,024 : INFO : EPOCH - 3 : training on 8629734 raw words (5106289 effective words) took 7.2s, 706242 effective words/s\n",
      "2021-06-23 16:11:36,031 : INFO : EPOCH 4 - PROGRESS: at 15.74% examples, 775602 words/s, in_qsize 15, out_qsize 0\n",
      "2021-06-23 16:11:37,031 : INFO : EPOCH 4 - PROGRESS: at 32.49% examples, 800919 words/s, in_qsize 15, out_qsize 0\n",
      "2021-06-23 16:11:38,039 : INFO : EPOCH 4 - PROGRESS: at 49.68% examples, 804066 words/s, in_qsize 16, out_qsize 0\n",
      "2021-06-23 16:11:39,041 : INFO : EPOCH 4 - PROGRESS: at 65.52% examples, 803562 words/s, in_qsize 15, out_qsize 0\n",
      "2021-06-23 16:11:40,046 : INFO : EPOCH 4 - PROGRESS: at 80.80% examples, 805236 words/s, in_qsize 15, out_qsize 0\n",
      "2021-06-23 16:11:41,052 : INFO : EPOCH 4 - PROGRESS: at 94.33% examples, 801749 words/s, in_qsize 15, out_qsize 0\n",
      "2021-06-23 16:11:41,358 : INFO : worker thread finished; awaiting finish of 7 more threads\n",
      "2021-06-23 16:11:41,372 : INFO : worker thread finished; awaiting finish of 6 more threads\n",
      "2021-06-23 16:11:41,378 : INFO : worker thread finished; awaiting finish of 5 more threads\n",
      "2021-06-23 16:11:41,389 : INFO : worker thread finished; awaiting finish of 4 more threads\n",
      "2021-06-23 16:11:41,392 : INFO : worker thread finished; awaiting finish of 3 more threads\n",
      "2021-06-23 16:11:41,394 : INFO : worker thread finished; awaiting finish of 2 more threads\n",
      "2021-06-23 16:11:41,395 : INFO : worker thread finished; awaiting finish of 1 more threads\n",
      "2021-06-23 16:11:41,397 : INFO : worker thread finished; awaiting finish of 0 more threads\n",
      "2021-06-23 16:11:41,402 : INFO : EPOCH - 4 : training on 8629734 raw words (5106414 effective words) took 6.4s, 801090 effective words/s\n",
      "2021-06-23 16:11:42,422 : INFO : EPOCH 5 - PROGRESS: at 16.25% examples, 793193 words/s, in_qsize 15, out_qsize 0\n",
      "2021-06-23 16:11:43,426 : INFO : EPOCH 5 - PROGRESS: at 32.88% examples, 804453 words/s, in_qsize 15, out_qsize 0\n",
      "2021-06-23 16:11:44,433 : INFO : EPOCH 5 - PROGRESS: at 48.67% examples, 785129 words/s, in_qsize 15, out_qsize 0\n",
      "2021-06-23 16:11:45,437 : INFO : EPOCH 5 - PROGRESS: at 63.11% examples, 767692 words/s, in_qsize 15, out_qsize 0\n",
      "2021-06-23 16:11:46,443 : INFO : EPOCH 5 - PROGRESS: at 75.66% examples, 751096 words/s, in_qsize 15, out_qsize 0\n",
      "2021-06-23 16:11:47,457 : INFO : EPOCH 5 - PROGRESS: at 89.12% examples, 747391 words/s, in_qsize 16, out_qsize 0\n",
      "2021-06-23 16:11:48,277 : INFO : worker thread finished; awaiting finish of 7 more threads\n",
      "2021-06-23 16:11:48,289 : INFO : worker thread finished; awaiting finish of 6 more threads\n",
      "2021-06-23 16:11:48,295 : INFO : worker thread finished; awaiting finish of 5 more threads\n",
      "2021-06-23 16:11:48,306 : INFO : worker thread finished; awaiting finish of 4 more threads\n",
      "2021-06-23 16:11:48,312 : INFO : worker thread finished; awaiting finish of 3 more threads\n",
      "2021-06-23 16:11:48,320 : INFO : worker thread finished; awaiting finish of 2 more threads\n",
      "2021-06-23 16:11:48,329 : INFO : worker thread finished; awaiting finish of 1 more threads\n",
      "2021-06-23 16:11:48,333 : INFO : worker thread finished; awaiting finish of 0 more threads\n",
      "2021-06-23 16:11:48,334 : INFO : EPOCH - 5 : training on 8629734 raw words (5107094 effective words) took 6.9s, 737343 effective words/s\n",
      "2021-06-23 16:11:49,348 : INFO : EPOCH 6 - PROGRESS: at 14.45% examples, 682994 words/s, in_qsize 15, out_qsize 0\n",
      "2021-06-23 16:11:50,352 : INFO : EPOCH 6 - PROGRESS: at 27.52% examples, 680636 words/s, in_qsize 15, out_qsize 0\n",
      "2021-06-23 16:11:51,363 : INFO : EPOCH 6 - PROGRESS: at 41.93% examples, 683540 words/s, in_qsize 16, out_qsize 0\n",
      "2021-06-23 16:11:52,366 : INFO : EPOCH 6 - PROGRESS: at 58.79% examples, 710753 words/s, in_qsize 16, out_qsize 0\n",
      "2021-06-23 16:11:53,368 : INFO : EPOCH 6 - PROGRESS: at 73.77% examples, 731631 words/s, in_qsize 16, out_qsize 1\n",
      "2021-06-23 16:11:54,378 : INFO : EPOCH 6 - PROGRESS: at 88.22% examples, 740494 words/s, in_qsize 15, out_qsize 0\n",
      "2021-06-23 16:11:55,114 : INFO : worker thread finished; awaiting finish of 7 more threads\n",
      "2021-06-23 16:11:55,142 : INFO : worker thread finished; awaiting finish of 6 more threads\n",
      "2021-06-23 16:11:55,155 : INFO : worker thread finished; awaiting finish of 5 more threads\n",
      "2021-06-23 16:11:55,159 : INFO : worker thread finished; awaiting finish of 4 more threads\n",
      "2021-06-23 16:11:55,163 : INFO : worker thread finished; awaiting finish of 3 more threads\n",
      "2021-06-23 16:11:55,165 : INFO : worker thread finished; awaiting finish of 2 more threads\n",
      "2021-06-23 16:11:55,166 : INFO : worker thread finished; awaiting finish of 1 more threads\n",
      "2021-06-23 16:11:55,167 : INFO : worker thread finished; awaiting finish of 0 more threads\n",
      "2021-06-23 16:11:55,168 : INFO : EPOCH - 6 : training on 8629734 raw words (5105962 effective words) took 6.8s, 747559 effective words/s\n",
      "2021-06-23 16:11:56,174 : INFO : EPOCH 7 - PROGRESS: at 16.39% examples, 817231 words/s, in_qsize 14, out_qsize 1\n",
      "2021-06-23 16:11:57,188 : INFO : EPOCH 7 - PROGRESS: at 33.70% examples, 827075 words/s, in_qsize 15, out_qsize 0\n",
      "2021-06-23 16:11:58,190 : INFO : EPOCH 7 - PROGRESS: at 50.69% examples, 814710 words/s, in_qsize 15, out_qsize 0\n",
      "2021-06-23 16:11:59,198 : INFO : EPOCH 7 - PROGRESS: at 65.85% examples, 805200 words/s, in_qsize 15, out_qsize 0\n",
      "2021-06-23 16:12:00,202 : INFO : EPOCH 7 - PROGRESS: at 80.12% examples, 795287 words/s, in_qsize 16, out_qsize 1\n",
      "2021-06-23 16:12:01,229 : INFO : EPOCH 7 - PROGRESS: at 92.59% examples, 778771 words/s, in_qsize 15, out_qsize 0\n",
      "2021-06-23 16:12:01,675 : INFO : worker thread finished; awaiting finish of 7 more threads\n",
      "2021-06-23 16:12:01,686 : INFO : worker thread finished; awaiting finish of 6 more threads\n",
      "2021-06-23 16:12:01,689 : INFO : worker thread finished; awaiting finish of 5 more threads\n",
      "2021-06-23 16:12:01,698 : INFO : worker thread finished; awaiting finish of 4 more threads\n",
      "2021-06-23 16:12:01,706 : INFO : worker thread finished; awaiting finish of 3 more threads\n",
      "2021-06-23 16:12:01,708 : INFO : worker thread finished; awaiting finish of 2 more threads\n",
      "2021-06-23 16:12:01,710 : INFO : worker thread finished; awaiting finish of 1 more threads\n",
      "2021-06-23 16:12:01,711 : INFO : worker thread finished; awaiting finish of 0 more threads\n",
      "2021-06-23 16:12:01,712 : INFO : EPOCH - 7 : training on 8629734 raw words (5106676 effective words) took 6.5s, 780749 effective words/s\n",
      "2021-06-23 16:12:02,721 : INFO : EPOCH 8 - PROGRESS: at 15.61% examples, 768092 words/s, in_qsize 15, out_qsize 0\n",
      "2021-06-23 16:12:03,755 : INFO : EPOCH 8 - PROGRESS: at 31.14% examples, 753806 words/s, in_qsize 15, out_qsize 0\n",
      "2021-06-23 16:12:04,780 : INFO : EPOCH 8 - PROGRESS: at 46.16% examples, 737907 words/s, in_qsize 15, out_qsize 0\n",
      "2021-06-23 16:12:05,788 : INFO : EPOCH 8 - PROGRESS: at 59.70% examples, 715357 words/s, in_qsize 16, out_qsize 1\n",
      "2021-06-23 16:12:06,810 : INFO : EPOCH 8 - PROGRESS: at 73.64% examples, 721679 words/s, in_qsize 15, out_qsize 0\n",
      "2021-06-23 16:12:07,810 : INFO : EPOCH 8 - PROGRESS: at 85.69% examples, 711257 words/s, in_qsize 15, out_qsize 0\n",
      "2021-06-23 16:12:08,815 : INFO : EPOCH 8 - PROGRESS: at 96.46% examples, 695173 words/s, in_qsize 15, out_qsize 0\n",
      "2021-06-23 16:12:09,033 : INFO : worker thread finished; awaiting finish of 7 more threads\n",
      "2021-06-23 16:12:09,054 : INFO : worker thread finished; awaiting finish of 6 more threads\n",
      "2021-06-23 16:12:09,058 : INFO : worker thread finished; awaiting finish of 5 more threads\n",
      "2021-06-23 16:12:09,060 : INFO : worker thread finished; awaiting finish of 4 more threads\n",
      "2021-06-23 16:12:09,062 : INFO : worker thread finished; awaiting finish of 3 more threads\n",
      "2021-06-23 16:12:09,064 : INFO : worker thread finished; awaiting finish of 2 more threads\n",
      "2021-06-23 16:12:09,067 : INFO : worker thread finished; awaiting finish of 1 more threads\n",
      "2021-06-23 16:12:09,068 : INFO : worker thread finished; awaiting finish of 0 more threads\n",
      "2021-06-23 16:12:09,068 : INFO : EPOCH - 8 : training on 8629734 raw words (5106921 effective words) took 7.4s, 694571 effective words/s\n",
      "2021-06-23 16:12:10,085 : INFO : EPOCH 9 - PROGRESS: at 14.45% examples, 681974 words/s, in_qsize 15, out_qsize 0\n",
      "2021-06-23 16:12:11,119 : INFO : EPOCH 9 - PROGRESS: at 26.43% examples, 648164 words/s, in_qsize 15, out_qsize 0\n",
      "2021-06-23 16:12:12,122 : INFO : EPOCH 9 - PROGRESS: at 41.93% examples, 678297 words/s, in_qsize 15, out_qsize 0\n",
      "2021-06-23 16:12:13,124 : INFO : EPOCH 9 - PROGRESS: at 59.82% examples, 720675 words/s, in_qsize 16, out_qsize 0\n",
      "2021-06-23 16:12:14,128 : INFO : EPOCH 9 - PROGRESS: at 75.15% examples, 743823 words/s, in_qsize 15, out_qsize 0\n",
      "2021-06-23 16:12:15,150 : INFO : EPOCH 9 - PROGRESS: at 87.80% examples, 732456 words/s, in_qsize 15, out_qsize 0\n",
      "2021-06-23 16:12:15,983 : INFO : worker thread finished; awaiting finish of 7 more threads\n",
      "2021-06-23 16:12:15,994 : INFO : worker thread finished; awaiting finish of 6 more threads\n",
      "2021-06-23 16:12:16,001 : INFO : worker thread finished; awaiting finish of 5 more threads\n",
      "2021-06-23 16:12:16,002 : INFO : worker thread finished; awaiting finish of 4 more threads\n",
      "2021-06-23 16:12:16,007 : INFO : worker thread finished; awaiting finish of 3 more threads\n",
      "2021-06-23 16:12:16,008 : INFO : worker thread finished; awaiting finish of 2 more threads\n",
      "2021-06-23 16:12:16,012 : INFO : worker thread finished; awaiting finish of 1 more threads\n",
      "2021-06-23 16:12:16,014 : INFO : worker thread finished; awaiting finish of 0 more threads\n",
      "2021-06-23 16:12:16,018 : INFO : EPOCH - 9 : training on 8629734 raw words (5106752 effective words) took 6.9s, 735358 effective words/s\n",
      "2021-06-23 16:12:17,024 : INFO : EPOCH 10 - PROGRESS: at 15.17% examples, 738264 words/s, in_qsize 15, out_qsize 0\n",
      "2021-06-23 16:12:18,030 : INFO : EPOCH 10 - PROGRESS: at 29.88% examples, 732603 words/s, in_qsize 16, out_qsize 1\n",
      "2021-06-23 16:12:19,053 : INFO : EPOCH 10 - PROGRESS: at 45.23% examples, 732335 words/s, in_qsize 15, out_qsize 0\n",
      "2021-06-23 16:12:20,063 : INFO : EPOCH 10 - PROGRESS: at 61.02% examples, 737165 words/s, in_qsize 16, out_qsize 0\n",
      "2021-06-23 16:12:21,074 : INFO : EPOCH 10 - PROGRESS: at 73.50% examples, 726120 words/s, in_qsize 13, out_qsize 2\n",
      "2021-06-23 16:12:22,078 : INFO : EPOCH 10 - PROGRESS: at 86.13% examples, 719638 words/s, in_qsize 15, out_qsize 0\n",
      "2021-06-23 16:12:23,081 : INFO : EPOCH 10 - PROGRESS: at 98.04% examples, 709680 words/s, in_qsize 15, out_qsize 0\n",
      "2021-06-23 16:12:23,157 : INFO : worker thread finished; awaiting finish of 7 more threads\n",
      "2021-06-23 16:12:23,168 : INFO : worker thread finished; awaiting finish of 6 more threads\n",
      "2021-06-23 16:12:23,176 : INFO : worker thread finished; awaiting finish of 5 more threads\n",
      "2021-06-23 16:12:23,182 : INFO : worker thread finished; awaiting finish of 4 more threads\n",
      "2021-06-23 16:12:23,191 : INFO : worker thread finished; awaiting finish of 3 more threads\n",
      "2021-06-23 16:12:23,195 : INFO : worker thread finished; awaiting finish of 2 more threads\n",
      "2021-06-23 16:12:23,196 : INFO : worker thread finished; awaiting finish of 1 more threads\n",
      "2021-06-23 16:12:23,198 : INFO : worker thread finished; awaiting finish of 0 more threads\n",
      "2021-06-23 16:12:23,199 : INFO : EPOCH - 10 : training on 8629734 raw words (5106203 effective words) took 7.2s, 711430 effective words/s\n",
      "2021-06-23 16:12:23,200 : INFO : Doc2Vec lifecycle event {'msg': 'training on 86297340 raw words (51066478 effective words) took 68.8s, 742124 effective words/s', 'datetime': '2021-06-23T16:12:23.200773', 'gensim': '4.0.1', 'python': '3.8.10 (default, Jun  4 2021, 15:09:15) \\n[GCC 7.5.0]', 'platform': 'Linux-5.11.0-7614-generic-x86_64-with-glibc2.17', 'event': 'train'}\n",
      "2021-06-23 16:12:23,202 : INFO : Doc2Vec lifecycle event {'params': 'Doc2Vec(dm/m,d100,n5,w5,mc5,s0.001,t8)', 'datetime': '2021-06-23T16:12:23.202021', 'gensim': '4.0.1', 'python': '3.8.10 (default, Jun  4 2021, 15:09:15) \\n[GCC 7.5.0]', 'platform': 'Linux-5.11.0-7614-generic-x86_64-with-glibc2.17', 'event': 'created'}\n"
     ]
    }
   ],
   "source": [
    "from gensim.models import Doc2Vec\n",
    "model = Doc2Vec(data, vector_size=100, workers=8)"
   ]
  },
  {
   "cell_type": "markdown",
   "id": "2e90d3b8-38e8-472c-8cc4-b92e772928b8",
   "metadata": {},
   "source": [
    "## We save the Doc2Vec vectors to file for further analysis "
   ]
  },
  {
   "cell_type": "code",
   "execution_count": 10,
   "id": "a39cb355-5686-47d0-a3ff-dfcf9bcf062f",
   "metadata": {},
   "outputs": [],
   "source": [
    "doc2vec_vectors = model.dv"
   ]
  },
  {
   "cell_type": "code",
   "execution_count": 11,
   "id": "75fab19d-5e62-4e36-9cb1-ef2453d1cbca",
   "metadata": {},
   "outputs": [
    {
     "name": "stderr",
     "output_type": "stream",
     "text": [
      "2021-06-23 16:12:23,214 : INFO : KeyedVectors lifecycle event {'fname_or_handle': 'word2vecmodels/docs_grams_final.model', 'separately': 'None', 'sep_limit': 10485760, 'ignore': frozenset(), 'datetime': '2021-06-23T16:12:23.214456', 'gensim': '4.0.1', 'python': '3.8.10 (default, Jun  4 2021, 15:09:15) \\n[GCC 7.5.0]', 'platform': 'Linux-5.11.0-7614-generic-x86_64-with-glibc2.17', 'event': 'saving'}\n",
      "2021-06-23 16:12:23,221 : INFO : saved word2vecmodels/docs_grams_final.model\n"
     ]
    }
   ],
   "source": [
    "doc2vec_vectors.save(\"word2vecmodels/docs_grams_final.model\")"
   ]
  },
  {
   "cell_type": "code",
   "execution_count": null,
   "id": "deea13ec-7f68-4d69-8de3-ed06850551f9",
   "metadata": {},
   "outputs": [],
   "source": []
  },
  {
   "cell_type": "code",
   "execution_count": null,
   "id": "5a3a57c3-816a-4d77-9a41-7585d784b837",
   "metadata": {},
   "outputs": [],
   "source": []
  }
 ],
 "metadata": {
  "kernelspec": {
   "display_name": "Python 3",
   "language": "python",
   "name": "python3"
  },
  "language_info": {
   "codemirror_mode": {
    "name": "ipython",
    "version": 3
   },
   "file_extension": ".py",
   "mimetype": "text/x-python",
   "name": "python",
   "nbconvert_exporter": "python",
   "pygments_lexer": "ipython3",
   "version": "3.8.10"
  }
 },
 "nbformat": 4,
 "nbformat_minor": 5
}
