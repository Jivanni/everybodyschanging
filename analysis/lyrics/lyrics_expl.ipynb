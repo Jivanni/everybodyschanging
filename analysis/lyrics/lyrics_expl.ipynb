{
 "cells": [
  {
   "cell_type": "code",
   "execution_count": 1,
   "id": "fd69750b-39e9-4433-bb87-328980f4c64e",
   "metadata": {},
   "outputs": [],
   "source": [
    "import os\n",
    "import pandas as pd\n",
    "import csv\n",
    "import re\n",
    "\n",
    "import nltk\n",
    "#nltk.download('punkt')\n",
    "from nltk import word_tokenize\n",
    "from nltk import sent_tokenize\n",
    "from gensim.models.doc2vec import TaggedDocument"
   ]
  },
  {
   "cell_type": "code",
   "execution_count": 2,
   "id": "e7db39a7-5251-41a3-90f9-0a3178aa6087",
   "metadata": {},
   "outputs": [],
   "source": [
    "import logging\n",
    "logging.basicConfig(format='%(asctime)s : %(levelname)s : %(message)s', level=logging.INFO)"
   ]
  },
  {
   "cell_type": "code",
   "execution_count": null,
   "id": "33447177-1528-4e97-9fff-3e43d0755f4e",
   "metadata": {},
   "outputs": [],
   "source": []
  },
  {
   "cell_type": "markdown",
   "id": "2ab2610d-b243-4be2-b508-e80f0a7cd9ed",
   "metadata": {},
   "source": [
    "## Loading files and removing NaNs"
   ]
  },
  {
   "cell_type": "code",
   "execution_count": 3,
   "id": "c704474e-2946-452f-9ad3-42f6baf27298",
   "metadata": {},
   "outputs": [],
   "source": [
    "df = pd.read_csv(\"songlyrics/songs_with_filenames_and_feats_5.csv\", delimiter=\";\")\n",
    "df = df[df['filename'].notna()]"
   ]
  },
  {
   "cell_type": "code",
   "execution_count": 4,
   "id": "7d1c9ad9-307c-430c-9eba-fd5554458b62",
   "metadata": {},
   "outputs": [],
   "source": [
    "DATA = \"songlyrics/lyrics\""
   ]
  },
  {
   "cell_type": "code",
   "execution_count": 5,
   "id": "823c202c-59c6-414c-a5df-0a1adc8a2904",
   "metadata": {},
   "outputs": [],
   "source": [
    "songs = os.listdir(DATA)"
   ]
  },
  {
   "cell_type": "code",
   "execution_count": 6,
   "id": "080dc7d2-40fd-4b59-aa47-f987c5b61a28",
   "metadata": {},
   "outputs": [
    {
     "name": "stdout",
     "output_type": "stream",
     "text": [
      "found 5832 unique files\n"
     ]
    }
   ],
   "source": [
    "print(f\"found {len(songs)} unique files\") "
   ]
  },
  {
   "cell_type": "code",
   "execution_count": null,
   "id": "e6de739f-30b6-46d9-82f1-08ee26a43c31",
   "metadata": {},
   "outputs": [],
   "source": []
  },
  {
   "cell_type": "markdown",
   "id": "a2fabd85-ede8-4da8-b4cf-4b88d8a93822",
   "metadata": {},
   "source": [
    "## String Processing and Tokenization"
   ]
  },
  {
   "cell_type": "markdown",
   "id": "e4645980-b624-4472-a5e7-d3d27447cbf4",
   "metadata": {},
   "source": [
    "We extract tokens, bigrams and trigrams from each lyrics"
   ]
  },
  {
   "cell_type": "code",
   "execution_count": 7,
   "id": "0174f8c2-2ae3-4f9c-a9b5-08ad3108cee1",
   "metadata": {},
   "outputs": [],
   "source": [
    "def get_grams(text):\n",
    "    toks = word_tokenize(text)\n",
    "    bigs = [a + \"_\" + b for a,b in nltk.bigrams(toks)]\n",
    "    trigs = [a + \"_\" + b + \"_\" + c for a,b,c in nltk.trigrams(toks)]\n",
    "    return toks + bigs + trigs"
   ]
  },
  {
   "cell_type": "code",
   "execution_count": 8,
   "id": "76115755-2dc2-45e6-aa5c-70d9a72b547a",
   "metadata": {},
   "outputs": [],
   "source": [
    "data = list()\n",
    "for song in df[\"filename\"]:\n",
    "    with open(os.path.join(DATA,song),\"r\",encoding='utf-8') as file:\n",
    "        lyrics = get_grams(file.read().lower())\n",
    "        data.append(TaggedDocument(lyrics ,(song,)))"
   ]
  },
  {
   "cell_type": "code",
   "execution_count": null,
   "id": "5233f65c-ea82-4bf2-a3e6-0ad9f67d5f9d",
   "metadata": {},
   "outputs": [],
   "source": []
  },
  {
   "cell_type": "markdown",
   "id": "0f581a30-82a0-4d79-9060-63ea4a86b719",
   "metadata": {},
   "source": [
    "## Word2Vec model training on extracted features"
   ]
  },
  {
   "cell_type": "code",
   "execution_count": 9,
   "id": "6558288b-71e9-466b-816e-6de5773c8d58",
   "metadata": {},
   "outputs": [
    {
     "name": "stderr",
     "output_type": "stream",
     "text": [
      "2021-06-05 16:17:59,734 : INFO : collecting all words and their counts\n",
      "2021-06-05 16:17:59,736 : INFO : PROGRESS: at example #0, processed 0 words (0/s), 0 word types, 0 tags\n",
      "2021-06-05 16:18:02,978 : INFO : collected 2347256 word types and 5662 unique tags from a corpus of 5683 examples and 8569926 words\n",
      "2021-06-05 16:18:02,979 : INFO : Creating a fresh vocabulary\n",
      "2021-06-05 16:18:04,765 : INFO : Doc2Vec lifecycle event {'msg': 'effective_min_count=5 retains 182843 unique words (7.789648849550283%% of original 2347256, drops 2164413)', 'datetime': '2021-06-05T16:18:04.730760', 'gensim': '4.0.1', 'python': '3.8.10 (default, May 19 2021, 18:05:58) \\n[GCC 7.3.0]', 'platform': 'Linux-5.11.0-7614-generic-x86_64-with-glibc2.10', 'event': 'prepare_vocab'}\n",
      "2021-06-05 16:18:04,766 : INFO : Doc2Vec lifecycle event {'msg': 'effective_min_count=5 leaves 5585545 word corpus (65.17611703998378%% of original 8569926, drops 2984381)', 'datetime': '2021-06-05T16:18:04.766208', 'gensim': '4.0.1', 'python': '3.8.10 (default, May 19 2021, 18:05:58) \\n[GCC 7.3.0]', 'platform': 'Linux-5.11.0-7614-generic-x86_64-with-glibc2.10', 'event': 'prepare_vocab'}\n",
      "2021-06-05 16:18:06,164 : INFO : deleting the raw counts dictionary of 2347256 items\n",
      "2021-06-05 16:18:06,204 : INFO : sample=0.001 downsamples 22 most-common words\n",
      "2021-06-05 16:18:06,205 : INFO : Doc2Vec lifecycle event {'msg': 'downsampling leaves estimated 5227657.23109627 word corpus (93.6%% of prior 5585545)', 'datetime': '2021-06-05T16:18:06.205812', 'gensim': '4.0.1', 'python': '3.8.10 (default, May 19 2021, 18:05:58) \\n[GCC 7.3.0]', 'platform': 'Linux-5.11.0-7614-generic-x86_64-with-glibc2.10', 'event': 'prepare_vocab'}\n",
      "2021-06-05 16:18:08,503 : INFO : estimated required memory for 182843 words and 100 dimensions: 241093100 bytes\n",
      "2021-06-05 16:18:08,504 : INFO : resetting layer weights\n",
      "2021-06-05 16:18:08,611 : INFO : Doc2Vec lifecycle event {'msg': 'training model with 8 workers on 182843 vocabulary and 100 features, using sg=0 hs=0 sample=0.001 negative=5 window=5', 'datetime': '2021-06-05T16:18:08.611377', 'gensim': '4.0.1', 'python': '3.8.10 (default, May 19 2021, 18:05:58) \\n[GCC 7.3.0]', 'platform': 'Linux-5.11.0-7614-generic-x86_64-with-glibc2.10', 'event': 'train'}\n",
      "2021-06-05 16:18:09,628 : INFO : EPOCH 1 - PROGRESS: at 17.54% examples, 777143 words/s, in_qsize 15, out_qsize 0\n",
      "2021-06-05 16:18:10,634 : INFO : EPOCH 1 - PROGRESS: at 33.03% examples, 722194 words/s, in_qsize 15, out_qsize 0\n",
      "2021-06-05 16:18:11,639 : INFO : EPOCH 1 - PROGRESS: at 50.89% examples, 734910 words/s, in_qsize 15, out_qsize 0\n",
      "2021-06-05 16:18:12,642 : INFO : EPOCH 1 - PROGRESS: at 68.20% examples, 753307 words/s, in_qsize 15, out_qsize 0\n",
      "2021-06-05 16:18:13,645 : INFO : EPOCH 1 - PROGRESS: at 84.81% examples, 777176 words/s, in_qsize 15, out_qsize 0\n",
      "2021-06-05 16:18:14,516 : INFO : worker thread finished; awaiting finish of 7 more threads\n",
      "2021-06-05 16:18:14,525 : INFO : worker thread finished; awaiting finish of 6 more threads\n",
      "2021-06-05 16:18:14,539 : INFO : worker thread finished; awaiting finish of 5 more threads\n",
      "2021-06-05 16:18:14,541 : INFO : worker thread finished; awaiting finish of 4 more threads\n",
      "2021-06-05 16:18:14,546 : INFO : worker thread finished; awaiting finish of 3 more threads\n",
      "2021-06-05 16:18:14,551 : INFO : worker thread finished; awaiting finish of 2 more threads\n",
      "2021-06-05 16:18:14,563 : INFO : worker thread finished; awaiting finish of 1 more threads\n",
      "2021-06-05 16:18:14,565 : INFO : worker thread finished; awaiting finish of 0 more threads\n",
      "2021-06-05 16:18:14,566 : INFO : EPOCH - 1 : training on 8569926 raw words (4663531 effective words) took 6.0s, 783662 effective words/s\n",
      "2021-06-05 16:18:15,580 : INFO : EPOCH 2 - PROGRESS: at 18.69% examples, 835509 words/s, in_qsize 15, out_qsize 0\n",
      "2021-06-05 16:18:16,586 : INFO : EPOCH 2 - PROGRESS: at 35.67% examples, 776461 words/s, in_qsize 15, out_qsize 0\n",
      "2021-06-05 16:18:17,586 : INFO : EPOCH 2 - PROGRESS: at 54.95% examples, 798324 words/s, in_qsize 15, out_qsize 0\n",
      "2021-06-05 16:18:18,587 : INFO : EPOCH 2 - PROGRESS: at 72.06% examples, 809206 words/s, in_qsize 15, out_qsize 0\n",
      "2021-06-05 16:18:19,607 : INFO : EPOCH 2 - PROGRESS: at 87.01% examples, 798322 words/s, in_qsize 15, out_qsize 0\n",
      "2021-06-05 16:18:20,499 : INFO : worker thread finished; awaiting finish of 7 more threads\n",
      "2021-06-05 16:18:20,508 : INFO : worker thread finished; awaiting finish of 6 more threads\n",
      "2021-06-05 16:18:20,516 : INFO : worker thread finished; awaiting finish of 5 more threads\n",
      "2021-06-05 16:18:20,518 : INFO : worker thread finished; awaiting finish of 4 more threads\n",
      "2021-06-05 16:18:20,526 : INFO : worker thread finished; awaiting finish of 3 more threads\n",
      "2021-06-05 16:18:20,527 : INFO : worker thread finished; awaiting finish of 2 more threads\n",
      "2021-06-05 16:18:20,536 : INFO : worker thread finished; awaiting finish of 1 more threads\n",
      "2021-06-05 16:18:20,537 : INFO : worker thread finished; awaiting finish of 0 more threads\n",
      "2021-06-05 16:18:20,538 : INFO : EPOCH - 2 : training on 8569926 raw words (4664525 effective words) took 6.0s, 781776 effective words/s\n",
      "2021-06-05 16:18:21,545 : INFO : EPOCH 3 - PROGRESS: at 18.09% examples, 806309 words/s, in_qsize 15, out_qsize 0\n",
      "2021-06-05 16:18:22,558 : INFO : EPOCH 3 - PROGRESS: at 38.06% examples, 828878 words/s, in_qsize 15, out_qsize 0\n",
      "2021-06-05 16:18:23,558 : INFO : EPOCH 3 - PROGRESS: at 57.49% examples, 836718 words/s, in_qsize 15, out_qsize 0\n",
      "2021-06-05 16:18:24,560 : INFO : EPOCH 3 - PROGRESS: at 74.52% examples, 839253 words/s, in_qsize 15, out_qsize 0\n",
      "2021-06-05 16:18:25,563 : INFO : EPOCH 3 - PROGRESS: at 90.83% examples, 838135 words/s, in_qsize 16, out_qsize 0\n",
      "2021-06-05 16:18:26,075 : INFO : worker thread finished; awaiting finish of 7 more threads\n",
      "2021-06-05 16:18:26,077 : INFO : worker thread finished; awaiting finish of 6 more threads\n",
      "2021-06-05 16:18:26,085 : INFO : worker thread finished; awaiting finish of 5 more threads\n",
      "2021-06-05 16:18:26,088 : INFO : worker thread finished; awaiting finish of 4 more threads\n",
      "2021-06-05 16:18:26,091 : INFO : worker thread finished; awaiting finish of 3 more threads\n",
      "2021-06-05 16:18:26,092 : INFO : worker thread finished; awaiting finish of 2 more threads\n",
      "2021-06-05 16:18:26,100 : INFO : worker thread finished; awaiting finish of 1 more threads\n",
      "2021-06-05 16:18:26,111 : INFO : worker thread finished; awaiting finish of 0 more threads\n",
      "2021-06-05 16:18:26,112 : INFO : EPOCH - 3 : training on 8569926 raw words (4664177 effective words) took 5.6s, 837614 effective words/s\n",
      "2021-06-05 16:18:27,128 : INFO : EPOCH 4 - PROGRESS: at 17.54% examples, 778805 words/s, in_qsize 16, out_qsize 1\n",
      "2021-06-05 16:18:28,140 : INFO : EPOCH 4 - PROGRESS: at 36.16% examples, 781504 words/s, in_qsize 15, out_qsize 0\n",
      "2021-06-05 16:18:29,162 : INFO : EPOCH 4 - PROGRESS: at 53.37% examples, 768460 words/s, in_qsize 15, out_qsize 0\n",
      "2021-06-05 16:18:30,172 : INFO : EPOCH 4 - PROGRESS: at 67.48% examples, 739498 words/s, in_qsize 14, out_qsize 1\n",
      "2021-06-05 16:18:31,177 : INFO : EPOCH 4 - PROGRESS: at 82.35% examples, 748284 words/s, in_qsize 16, out_qsize 0\n",
      "2021-06-05 16:18:32,179 : INFO : EPOCH 4 - PROGRESS: at 98.31% examples, 757269 words/s, in_qsize 14, out_qsize 0\n",
      "2021-06-05 16:18:32,236 : INFO : worker thread finished; awaiting finish of 7 more threads\n",
      "2021-06-05 16:18:32,252 : INFO : worker thread finished; awaiting finish of 6 more threads\n",
      "2021-06-05 16:18:32,259 : INFO : worker thread finished; awaiting finish of 5 more threads\n",
      "2021-06-05 16:18:32,274 : INFO : worker thread finished; awaiting finish of 4 more threads\n",
      "2021-06-05 16:18:32,280 : INFO : worker thread finished; awaiting finish of 3 more threads\n",
      "2021-06-05 16:18:32,282 : INFO : worker thread finished; awaiting finish of 2 more threads\n",
      "2021-06-05 16:18:32,283 : INFO : worker thread finished; awaiting finish of 1 more threads\n",
      "2021-06-05 16:18:32,291 : INFO : worker thread finished; awaiting finish of 0 more threads\n",
      "2021-06-05 16:18:32,292 : INFO : EPOCH - 4 : training on 8569926 raw words (4664783 effective words) took 6.2s, 755410 effective words/s\n",
      "2021-06-05 16:18:33,309 : INFO : EPOCH 5 - PROGRESS: at 18.67% examples, 828626 words/s, in_qsize 15, out_qsize 0\n",
      "2021-06-05 16:18:34,315 : INFO : EPOCH 5 - PROGRESS: at 38.20% examples, 833184 words/s, in_qsize 16, out_qsize 0\n",
      "2021-06-05 16:18:35,324 : INFO : EPOCH 5 - PROGRESS: at 57.86% examples, 841065 words/s, in_qsize 16, out_qsize 0\n",
      "2021-06-05 16:18:36,326 : INFO : EPOCH 5 - PROGRESS: at 74.64% examples, 839512 words/s, in_qsize 15, out_qsize 0\n",
      "2021-06-05 16:18:37,344 : INFO : EPOCH 5 - PROGRESS: at 91.18% examples, 838113 words/s, in_qsize 15, out_qsize 0\n",
      "2021-06-05 16:18:37,818 : INFO : worker thread finished; awaiting finish of 7 more threads\n",
      "2021-06-05 16:18:37,826 : INFO : worker thread finished; awaiting finish of 6 more threads\n",
      "2021-06-05 16:18:37,836 : INFO : worker thread finished; awaiting finish of 5 more threads\n",
      "2021-06-05 16:18:37,845 : INFO : worker thread finished; awaiting finish of 4 more threads\n",
      "2021-06-05 16:18:37,846 : INFO : worker thread finished; awaiting finish of 3 more threads\n",
      "2021-06-05 16:18:37,847 : INFO : worker thread finished; awaiting finish of 2 more threads\n",
      "2021-06-05 16:18:37,848 : INFO : worker thread finished; awaiting finish of 1 more threads\n",
      "2021-06-05 16:18:37,848 : INFO : worker thread finished; awaiting finish of 0 more threads\n",
      "2021-06-05 16:18:37,849 : INFO : EPOCH - 5 : training on 8569926 raw words (4664023 effective words) took 5.5s, 841047 effective words/s\n",
      "2021-06-05 16:18:38,868 : INFO : EPOCH 6 - PROGRESS: at 19.13% examples, 851282 words/s, in_qsize 14, out_qsize 1\n",
      "2021-06-05 16:18:39,872 : INFO : EPOCH 6 - PROGRESS: at 39.40% examples, 856800 words/s, in_qsize 15, out_qsize 0\n",
      "2021-06-05 16:18:40,875 : INFO : EPOCH 6 - PROGRESS: at 59.21% examples, 860681 words/s, in_qsize 16, out_qsize 0\n",
      "2021-06-05 16:18:41,886 : INFO : EPOCH 6 - PROGRESS: at 76.37% examples, 858376 words/s, in_qsize 16, out_qsize 0\n",
      "2021-06-05 16:18:42,888 : INFO : EPOCH 6 - PROGRESS: at 91.59% examples, 845008 words/s, in_qsize 16, out_qsize 1\n",
      "2021-06-05 16:18:43,346 : INFO : worker thread finished; awaiting finish of 7 more threads\n",
      "2021-06-05 16:18:43,362 : INFO : worker thread finished; awaiting finish of 6 more threads\n",
      "2021-06-05 16:18:43,364 : INFO : worker thread finished; awaiting finish of 5 more threads\n",
      "2021-06-05 16:18:43,378 : INFO : worker thread finished; awaiting finish of 4 more threads\n",
      "2021-06-05 16:18:43,380 : INFO : worker thread finished; awaiting finish of 3 more threads\n",
      "2021-06-05 16:18:43,382 : INFO : worker thread finished; awaiting finish of 2 more threads\n",
      "2021-06-05 16:18:43,388 : INFO : worker thread finished; awaiting finish of 1 more threads\n",
      "2021-06-05 16:18:43,395 : INFO : worker thread finished; awaiting finish of 0 more threads\n",
      "2021-06-05 16:18:43,396 : INFO : EPOCH - 6 : training on 8569926 raw words (4663879 effective words) took 5.5s, 841595 effective words/s\n",
      "2021-06-05 16:18:44,411 : INFO : EPOCH 7 - PROGRESS: at 18.79% examples, 844116 words/s, in_qsize 16, out_qsize 0\n",
      "2021-06-05 16:18:45,417 : INFO : EPOCH 7 - PROGRESS: at 38.34% examples, 836108 words/s, in_qsize 16, out_qsize 0\n",
      "2021-06-05 16:18:46,422 : INFO : EPOCH 7 - PROGRESS: at 56.54% examples, 820531 words/s, in_qsize 15, out_qsize 0\n",
      "2021-06-05 16:18:47,430 : INFO : EPOCH 7 - PROGRESS: at 73.52% examples, 825255 words/s, in_qsize 15, out_qsize 0\n",
      "2021-06-05 16:18:48,432 : INFO : EPOCH 7 - PROGRESS: at 90.16% examples, 830390 words/s, in_qsize 15, out_qsize 0\n",
      "2021-06-05 16:18:48,969 : INFO : worker thread finished; awaiting finish of 7 more threads\n",
      "2021-06-05 16:18:48,974 : INFO : worker thread finished; awaiting finish of 6 more threads\n",
      "2021-06-05 16:18:48,981 : INFO : worker thread finished; awaiting finish of 5 more threads\n",
      "2021-06-05 16:18:48,984 : INFO : worker thread finished; awaiting finish of 4 more threads\n",
      "2021-06-05 16:18:49,001 : INFO : worker thread finished; awaiting finish of 3 more threads\n",
      "2021-06-05 16:18:49,001 : INFO : worker thread finished; awaiting finish of 2 more threads\n",
      "2021-06-05 16:18:49,009 : INFO : worker thread finished; awaiting finish of 1 more threads\n",
      "2021-06-05 16:18:49,010 : INFO : worker thread finished; awaiting finish of 0 more threads\n",
      "2021-06-05 16:18:49,010 : INFO : EPOCH - 7 : training on 8569926 raw words (4664768 effective words) took 5.6s, 832194 effective words/s\n",
      "2021-06-05 16:18:50,016 : INFO : EPOCH 8 - PROGRESS: at 18.69% examples, 840761 words/s, in_qsize 15, out_qsize 0\n",
      "2021-06-05 16:18:51,020 : INFO : EPOCH 8 - PROGRESS: at 36.90% examples, 806431 words/s, in_qsize 15, out_qsize 0\n",
      "2021-06-05 16:18:52,024 : INFO : EPOCH 8 - PROGRESS: at 55.83% examples, 811589 words/s, in_qsize 15, out_qsize 0\n",
      "2021-06-05 16:18:53,026 : INFO : EPOCH 8 - PROGRESS: at 72.94% examples, 819813 words/s, in_qsize 15, out_qsize 0\n",
      "2021-06-05 16:18:54,035 : INFO : EPOCH 8 - PROGRESS: at 89.07% examples, 821171 words/s, in_qsize 15, out_qsize 0\n",
      "2021-06-05 16:18:54,662 : INFO : worker thread finished; awaiting finish of 7 more threads\n",
      "2021-06-05 16:18:54,664 : INFO : worker thread finished; awaiting finish of 6 more threads\n",
      "2021-06-05 16:18:54,666 : INFO : worker thread finished; awaiting finish of 5 more threads\n",
      "2021-06-05 16:18:54,687 : INFO : worker thread finished; awaiting finish of 4 more threads\n",
      "2021-06-05 16:18:54,689 : INFO : worker thread finished; awaiting finish of 3 more threads\n",
      "2021-06-05 16:18:54,691 : INFO : worker thread finished; awaiting finish of 2 more threads\n",
      "2021-06-05 16:18:54,691 : INFO : worker thread finished; awaiting finish of 1 more threads\n",
      "2021-06-05 16:18:54,697 : INFO : worker thread finished; awaiting finish of 0 more threads\n",
      "2021-06-05 16:18:54,697 : INFO : EPOCH - 8 : training on 8569926 raw words (4664362 effective words) took 5.7s, 820661 effective words/s\n",
      "2021-06-05 16:18:55,712 : INFO : EPOCH 9 - PROGRESS: at 17.19% examples, 754845 words/s, in_qsize 15, out_qsize 0\n",
      "2021-06-05 16:18:56,729 : INFO : EPOCH 9 - PROGRESS: at 37.08% examples, 800943 words/s, in_qsize 15, out_qsize 0\n",
      "2021-06-05 16:18:57,743 : INFO : EPOCH 9 - PROGRESS: at 57.28% examples, 825190 words/s, in_qsize 15, out_qsize 0\n",
      "2021-06-05 16:18:58,744 : INFO : EPOCH 9 - PROGRESS: at 73.38% examples, 819697 words/s, in_qsize 15, out_qsize 0\n",
      "2021-06-05 16:18:59,752 : INFO : EPOCH 9 - PROGRESS: at 89.30% examples, 818341 words/s, in_qsize 15, out_qsize 0\n",
      "2021-06-05 16:19:00,336 : INFO : worker thread finished; awaiting finish of 7 more threads\n",
      "2021-06-05 16:19:00,352 : INFO : worker thread finished; awaiting finish of 6 more threads\n",
      "2021-06-05 16:19:00,354 : INFO : worker thread finished; awaiting finish of 5 more threads\n",
      "2021-06-05 16:19:00,357 : INFO : worker thread finished; awaiting finish of 4 more threads\n",
      "2021-06-05 16:19:00,366 : INFO : worker thread finished; awaiting finish of 3 more threads\n",
      "2021-06-05 16:19:00,368 : INFO : worker thread finished; awaiting finish of 2 more threads\n",
      "2021-06-05 16:19:00,376 : INFO : worker thread finished; awaiting finish of 1 more threads\n",
      "2021-06-05 16:19:00,377 : INFO : worker thread finished; awaiting finish of 0 more threads\n",
      "2021-06-05 16:19:00,378 : INFO : EPOCH - 9 : training on 8569926 raw words (4664296 effective words) took 5.7s, 821592 effective words/s\n",
      "2021-06-05 16:19:01,409 : INFO : EPOCH 10 - PROGRESS: at 18.86% examples, 826610 words/s, in_qsize 15, out_qsize 0\n",
      "2021-06-05 16:19:02,413 : INFO : EPOCH 10 - PROGRESS: at 39.19% examples, 847937 words/s, in_qsize 16, out_qsize 0\n",
      "2021-06-05 16:19:03,417 : INFO : EPOCH 10 - PROGRESS: at 59.60% examples, 862930 words/s, in_qsize 15, out_qsize 0\n",
      "2021-06-05 16:19:04,424 : INFO : EPOCH 10 - PROGRESS: at 75.98% examples, 852109 words/s, in_qsize 15, out_qsize 0\n",
      "2021-06-05 16:19:05,429 : INFO : EPOCH 10 - PROGRESS: at 91.96% examples, 846311 words/s, in_qsize 15, out_qsize 0\n",
      "2021-06-05 16:19:05,858 : INFO : worker thread finished; awaiting finish of 7 more threads\n",
      "2021-06-05 16:19:05,865 : INFO : worker thread finished; awaiting finish of 6 more threads\n",
      "2021-06-05 16:19:05,869 : INFO : worker thread finished; awaiting finish of 5 more threads\n",
      "2021-06-05 16:19:05,879 : INFO : worker thread finished; awaiting finish of 4 more threads\n",
      "2021-06-05 16:19:05,885 : INFO : worker thread finished; awaiting finish of 3 more threads\n",
      "2021-06-05 16:19:05,887 : INFO : worker thread finished; awaiting finish of 2 more threads\n",
      "2021-06-05 16:19:05,889 : INFO : worker thread finished; awaiting finish of 1 more threads\n",
      "2021-06-05 16:19:05,893 : INFO : worker thread finished; awaiting finish of 0 more threads\n",
      "2021-06-05 16:19:05,894 : INFO : EPOCH - 10 : training on 8569926 raw words (4664295 effective words) took 5.5s, 846215 effective words/s\n",
      "2021-06-05 16:19:05,895 : INFO : Doc2Vec lifecycle event {'msg': 'training on 85699260 raw words (46642639 effective words) took 57.3s, 814250 effective words/s', 'datetime': '2021-06-05T16:19:05.895351', 'gensim': '4.0.1', 'python': '3.8.10 (default, May 19 2021, 18:05:58) \\n[GCC 7.3.0]', 'platform': 'Linux-5.11.0-7614-generic-x86_64-with-glibc2.10', 'event': 'train'}\n",
      "2021-06-05 16:19:05,896 : INFO : Doc2Vec lifecycle event {'params': 'Doc2Vec(dm/m,d100,n5,w5,mc5,s0.001,t8)', 'datetime': '2021-06-05T16:19:05.896420', 'gensim': '4.0.1', 'python': '3.8.10 (default, May 19 2021, 18:05:58) \\n[GCC 7.3.0]', 'platform': 'Linux-5.11.0-7614-generic-x86_64-with-glibc2.10', 'event': 'created'}\n"
     ]
    }
   ],
   "source": [
    "from gensim.models import Doc2Vec\n",
    "model = Doc2Vec(data, vector_size=100, workers=8)"
   ]
  },
  {
   "cell_type": "markdown",
   "id": "2e90d3b8-38e8-472c-8cc4-b92e772928b8",
   "metadata": {},
   "source": [
    "## We save the Doc2Vec vectors to file for further analysis "
   ]
  },
  {
   "cell_type": "code",
   "execution_count": 11,
   "id": "a39cb355-5686-47d0-a3ff-dfcf9bcf062f",
   "metadata": {},
   "outputs": [],
   "source": [
    "doc2vec_vectors = model.dv"
   ]
  },
  {
   "cell_type": "code",
   "execution_count": 12,
   "id": "75fab19d-5e62-4e36-9cb1-ef2453d1cbca",
   "metadata": {},
   "outputs": [
    {
     "name": "stderr",
     "output_type": "stream",
     "text": [
      "2021-06-05 16:19:09,837 : INFO : KeyedVectors lifecycle event {'fname_or_handle': 'word2vecmodels/docs_grams_final.model', 'separately': 'None', 'sep_limit': 10485760, 'ignore': frozenset(), 'datetime': '2021-06-05T16:19:09.837643', 'gensim': '4.0.1', 'python': '3.8.10 (default, May 19 2021, 18:05:58) \\n[GCC 7.3.0]', 'platform': 'Linux-5.11.0-7614-generic-x86_64-with-glibc2.10', 'event': 'saving'}\n",
      "2021-06-05 16:19:09,845 : INFO : saved word2vecmodels/docs_grams_final.model\n"
     ]
    }
   ],
   "source": [
    "doc2vec_vectors.save(\"word2vecmodels/docs_grams_final.model\")"
   ]
  },
  {
   "cell_type": "code",
   "execution_count": null,
   "id": "deea13ec-7f68-4d69-8de3-ed06850551f9",
   "metadata": {},
   "outputs": [],
   "source": []
  },
  {
   "cell_type": "code",
   "execution_count": null,
   "id": "5a3a57c3-816a-4d77-9a41-7585d784b837",
   "metadata": {},
   "outputs": [],
   "source": []
  }
 ],
 "metadata": {
  "kernelspec": {
   "display_name": "Python 3",
   "language": "python",
   "name": "python3"
  },
  "language_info": {
   "codemirror_mode": {
    "name": "ipython",
    "version": 3
   },
   "file_extension": ".py",
   "mimetype": "text/x-python",
   "name": "python",
   "nbconvert_exporter": "python",
   "pygments_lexer": "ipython3",
   "version": "3.8.10"
  }
 },
 "nbformat": 4,
 "nbformat_minor": 5
}
