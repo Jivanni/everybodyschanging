{
 "cells": [
  {
   "cell_type": "code",
   "execution_count": 29,
   "id": "fd69750b-39e9-4433-bb87-328980f4c64e",
   "metadata": {},
   "outputs": [],
   "source": [
    "import os\n",
    "import pandas as pd\n",
    "import csv\n",
    "import re\n",
    "\n",
    "import nltk\n",
    "#nltk.download('punkt')\n",
    "from nltk import word_tokenize\n",
    "from nltk import sent_tokenize\n",
    "from gensim.models.doc2vec import TaggedDocument"
   ]
  },
  {
   "cell_type": "code",
   "execution_count": 30,
   "id": "e7db39a7-5251-41a3-90f9-0a3178aa6087",
   "metadata": {},
   "outputs": [],
   "source": [
    "import logging\n",
    "logging.basicConfig(format='%(asctime)s : %(levelname)s : %(message)s', level=logging.INFO)"
   ]
  },
  {
   "cell_type": "code",
   "execution_count": null,
   "id": "33447177-1528-4e97-9fff-3e43d0755f4e",
   "metadata": {},
   "outputs": [],
   "source": []
  },
  {
   "cell_type": "markdown",
   "id": "2ab2610d-b243-4be2-b508-e80f0a7cd9ed",
   "metadata": {},
   "source": [
    "## Loading files and removing NaNs"
   ]
  },
  {
   "cell_type": "code",
   "execution_count": 31,
   "id": "c704474e-2946-452f-9ad3-42f6baf27298",
   "metadata": {},
   "outputs": [],
   "source": [
    "df = pd.read_csv(\"songs_with_filenames_and_feats.csv\", delimiter=\";\")\n",
    "df = df[df['filename'].notna()]"
   ]
  },
  {
   "cell_type": "code",
   "execution_count": 32,
   "id": "7d1c9ad9-307c-430c-9eba-fd5554458b62",
   "metadata": {},
   "outputs": [],
   "source": [
    "DATA = \"songlyrics/lyrics\""
   ]
  },
  {
   "cell_type": "code",
   "execution_count": 33,
   "id": "823c202c-59c6-414c-a5df-0a1adc8a2904",
   "metadata": {},
   "outputs": [],
   "source": [
    "songs = os.listdir(DATA)"
   ]
  },
  {
   "cell_type": "code",
   "execution_count": 34,
   "id": "080dc7d2-40fd-4b59-aa47-f987c5b61a28",
   "metadata": {},
   "outputs": [
    {
     "name": "stdout",
     "output_type": "stream",
     "text": [
      "found 5163 unique files\n"
     ]
    }
   ],
   "source": [
    "print(f\"found {len(songs)} unique files\") "
   ]
  },
  {
   "cell_type": "code",
   "execution_count": null,
   "id": "e6de739f-30b6-46d9-82f1-08ee26a43c31",
   "metadata": {},
   "outputs": [],
   "source": []
  },
  {
   "cell_type": "markdown",
   "id": "a2fabd85-ede8-4da8-b4cf-4b88d8a93822",
   "metadata": {},
   "source": [
    "## String Processing and Tokenization"
   ]
  },
  {
   "cell_type": "markdown",
   "id": "e4645980-b624-4472-a5e7-d3d27447cbf4",
   "metadata": {},
   "source": [
    "We extract tokens, bigrams and trigrams from each lyrics"
   ]
  },
  {
   "cell_type": "code",
   "execution_count": 35,
   "id": "0174f8c2-2ae3-4f9c-a9b5-08ad3108cee1",
   "metadata": {},
   "outputs": [],
   "source": [
    "def get_grams(text):\n",
    "    toks = word_tokenize(text)\n",
    "    bigs = [a + \"_\" + b for a,b in nltk.bigrams(toks)]\n",
    "    trigs = [a + \"_\" + b + \"_\" + c for a,b,c in nltk.trigrams(toks)]\n",
    "    return toks + bigs + trigs"
   ]
  },
  {
   "cell_type": "code",
   "execution_count": 36,
   "id": "76115755-2dc2-45e6-aa5c-70d9a72b547a",
   "metadata": {},
   "outputs": [],
   "source": [
    "data = list()\n",
    "for song in df[\"filename\"]:\n",
    "    with open(os.path.join(DATA,song),\"r\",encoding='utf-8') as file:\n",
    "        lyrics = get_grams(file.read().lower())\n",
    "        data.append(TaggedDocument(lyrics ,(song,)))"
   ]
  },
  {
   "cell_type": "code",
   "execution_count": null,
   "id": "5233f65c-ea82-4bf2-a3e6-0ad9f67d5f9d",
   "metadata": {},
   "outputs": [],
   "source": []
  },
  {
   "cell_type": "markdown",
   "id": "0f581a30-82a0-4d79-9060-63ea4a86b719",
   "metadata": {},
   "source": [
    "## Word2Vec model training on extracted features"
   ]
  },
  {
   "cell_type": "code",
   "execution_count": 37,
   "id": "6558288b-71e9-466b-816e-6de5773c8d58",
   "metadata": {},
   "outputs": [
    {
     "name": "stderr",
     "output_type": "stream",
     "text": [
      "2021-05-25 12:41:04,766 : INFO : collecting all words and their counts\n",
      "2021-05-25 12:41:04,769 : INFO : PROGRESS: at example #0, processed 0 words (0/s), 0 word types, 0 tags\n",
      "2021-05-25 12:41:10,881 : INFO : collected 4160895 word types and 5163 unique tags from a corpus of 5183 examples and 18486903 words\n",
      "2021-05-25 12:41:10,882 : INFO : Creating a fresh vocabulary\n",
      "2021-05-25 12:41:13,278 : INFO : Doc2Vec lifecycle event {'msg': 'effective_min_count=5 retains 366107 unique words (8.798756036862262%% of original 4160895, drops 3794788)', 'datetime': '2021-05-25T12:41:13.278005', 'gensim': '4.0.1', 'python': '3.8.10 (default, May 19 2021, 18:05:58) \\n[GCC 7.3.0]', 'platform': 'Linux-5.11.0-7614-generic-x86_64-with-glibc2.10', 'event': 'prepare_vocab'}\n",
      "2021-05-25 12:41:13,278 : INFO : Doc2Vec lifecycle event {'msg': 'effective_min_count=5 leaves 12693570 word corpus (68.66250123127708%% of original 18486903, drops 5793333)', 'datetime': '2021-05-25T12:41:13.278870', 'gensim': '4.0.1', 'python': '3.8.10 (default, May 19 2021, 18:05:58) \\n[GCC 7.3.0]', 'platform': 'Linux-5.11.0-7614-generic-x86_64-with-glibc2.10', 'event': 'prepare_vocab'}\n",
      "2021-05-25 12:41:15,480 : INFO : deleting the raw counts dictionary of 4160895 items\n",
      "2021-05-25 12:41:15,538 : INFO : sample=0.001 downsamples 23 most-common words\n",
      "2021-05-25 12:41:15,539 : INFO : Doc2Vec lifecycle event {'msg': 'downsampling leaves estimated 11813228.009491326 word corpus (93.1%% of prior 12693570)', 'datetime': '2021-05-25T12:41:15.539283', 'gensim': '4.0.1', 'python': '3.8.10 (default, May 19 2021, 18:05:58) \\n[GCC 7.3.0]', 'platform': 'Linux-5.11.0-7614-generic-x86_64-with-glibc2.10', 'event': 'prepare_vocab'}\n",
      "2021-05-25 12:41:19,411 : INFO : estimated required memory for 366107 words and 100 dimensions: 479036900 bytes\n",
      "2021-05-25 12:41:19,411 : INFO : resetting layer weights\n",
      "2021-05-25 12:41:19,588 : INFO : Doc2Vec lifecycle event {'msg': 'training model with 8 workers on 366107 vocabulary and 100 features, using sg=0 hs=0 sample=0.001 negative=5 window=5', 'datetime': '2021-05-25T12:41:19.588575', 'gensim': '4.0.1', 'python': '3.8.10 (default, May 19 2021, 18:05:58) \\n[GCC 7.3.0]', 'platform': 'Linux-5.11.0-7614-generic-x86_64-with-glibc2.10', 'event': 'train'}\n",
      "2021-05-25 12:41:20,601 : INFO : EPOCH 1 - PROGRESS: at 16.71% examples, 1011454 words/s, in_qsize 16, out_qsize 0\n",
      "2021-05-25 12:41:21,604 : INFO : EPOCH 1 - PROGRESS: at 34.29% examples, 1067199 words/s, in_qsize 14, out_qsize 1\n",
      "2021-05-25 12:41:22,610 : INFO : EPOCH 1 - PROGRESS: at 52.96% examples, 1081638 words/s, in_qsize 15, out_qsize 0\n",
      "2021-05-25 12:41:23,612 : INFO : EPOCH 1 - PROGRESS: at 72.95% examples, 1063364 words/s, in_qsize 15, out_qsize 0\n",
      "2021-05-25 12:41:24,620 : INFO : EPOCH 1 - PROGRESS: at 91.14% examples, 1051687 words/s, in_qsize 15, out_qsize 0\n",
      "2021-05-25 12:41:25,031 : INFO : worker thread finished; awaiting finish of 7 more threads\n",
      "2021-05-25 12:41:25,038 : INFO : worker thread finished; awaiting finish of 6 more threads\n",
      "2021-05-25 12:41:25,043 : INFO : worker thread finished; awaiting finish of 5 more threads\n",
      "2021-05-25 12:41:25,048 : INFO : worker thread finished; awaiting finish of 4 more threads\n",
      "2021-05-25 12:41:25,054 : INFO : worker thread finished; awaiting finish of 3 more threads\n",
      "2021-05-25 12:41:25,059 : INFO : worker thread finished; awaiting finish of 2 more threads\n",
      "2021-05-25 12:41:25,060 : INFO : worker thread finished; awaiting finish of 1 more threads\n",
      "2021-05-25 12:41:25,063 : INFO : worker thread finished; awaiting finish of 0 more threads\n",
      "2021-05-25 12:41:25,064 : INFO : EPOCH - 1 : training on 18486903 raw words (5722604 effective words) took 5.5s, 1045652 effective words/s\n",
      "2021-05-25 12:41:26,076 : INFO : EPOCH 2 - PROGRESS: at 17.71% examples, 1068832 words/s, in_qsize 15, out_qsize 0\n",
      "2021-05-25 12:41:27,077 : INFO : EPOCH 2 - PROGRESS: at 34.90% examples, 1085481 words/s, in_qsize 14, out_qsize 1\n",
      "2021-05-25 12:41:28,080 : INFO : EPOCH 2 - PROGRESS: at 53.89% examples, 1100685 words/s, in_qsize 16, out_qsize 0\n",
      "2021-05-25 12:41:29,080 : INFO : EPOCH 2 - PROGRESS: at 74.13% examples, 1080896 words/s, in_qsize 16, out_qsize 0\n",
      "2021-05-25 12:41:30,083 : INFO : EPOCH 2 - PROGRESS: at 92.65% examples, 1071874 words/s, in_qsize 15, out_qsize 0\n",
      "2021-05-25 12:41:30,412 : INFO : worker thread finished; awaiting finish of 7 more threads\n",
      "2021-05-25 12:41:30,413 : INFO : worker thread finished; awaiting finish of 6 more threads\n",
      "2021-05-25 12:41:30,415 : INFO : worker thread finished; awaiting finish of 5 more threads\n",
      "2021-05-25 12:41:30,418 : INFO : worker thread finished; awaiting finish of 4 more threads\n",
      "2021-05-25 12:41:30,421 : INFO : worker thread finished; awaiting finish of 3 more threads\n",
      "2021-05-25 12:41:30,428 : INFO : worker thread finished; awaiting finish of 2 more threads\n",
      "2021-05-25 12:41:30,432 : INFO : worker thread finished; awaiting finish of 1 more threads\n",
      "2021-05-25 12:41:30,434 : INFO : worker thread finished; awaiting finish of 0 more threads\n",
      "2021-05-25 12:41:30,435 : INFO : EPOCH - 2 : training on 18486903 raw words (5721812 effective words) took 5.4s, 1065880 effective words/s\n",
      "2021-05-25 12:41:31,442 : INFO : EPOCH 3 - PROGRESS: at 17.63% examples, 1073039 words/s, in_qsize 16, out_qsize 0\n",
      "2021-05-25 12:41:32,450 : INFO : EPOCH 3 - PROGRESS: at 34.69% examples, 1082839 words/s, in_qsize 16, out_qsize 0\n",
      "2021-05-25 12:41:33,477 : INFO : EPOCH 3 - PROGRESS: at 53.25% examples, 1083968 words/s, in_qsize 14, out_qsize 1\n",
      "2021-05-25 12:41:34,479 : INFO : EPOCH 3 - PROGRESS: at 73.68% examples, 1066645 words/s, in_qsize 16, out_qsize 0\n",
      "2021-05-25 12:41:35,487 : INFO : EPOCH 3 - PROGRESS: at 92.03% examples, 1057165 words/s, in_qsize 16, out_qsize 1\n",
      "2021-05-25 12:41:35,834 : INFO : worker thread finished; awaiting finish of 7 more threads\n",
      "2021-05-25 12:41:35,840 : INFO : worker thread finished; awaiting finish of 6 more threads\n",
      "2021-05-25 12:41:35,843 : INFO : worker thread finished; awaiting finish of 5 more threads\n",
      "2021-05-25 12:41:35,844 : INFO : worker thread finished; awaiting finish of 4 more threads\n",
      "2021-05-25 12:41:35,848 : INFO : worker thread finished; awaiting finish of 3 more threads\n",
      "2021-05-25 12:41:35,849 : INFO : worker thread finished; awaiting finish of 2 more threads\n",
      "2021-05-25 12:41:35,859 : INFO : worker thread finished; awaiting finish of 1 more threads\n",
      "2021-05-25 12:41:35,863 : INFO : worker thread finished; awaiting finish of 0 more threads\n",
      "2021-05-25 12:41:35,864 : INFO : EPOCH - 3 : training on 18486903 raw words (5722623 effective words) took 5.4s, 1054982 effective words/s\n",
      "2021-05-25 12:41:36,872 : INFO : EPOCH 4 - PROGRESS: at 17.90% examples, 1083062 words/s, in_qsize 15, out_qsize 0\n",
      "2021-05-25 12:41:37,872 : INFO : EPOCH 4 - PROGRESS: at 35.06% examples, 1097587 words/s, in_qsize 15, out_qsize 0\n",
      "2021-05-25 12:41:38,875 : INFO : EPOCH 4 - PROGRESS: at 53.58% examples, 1099429 words/s, in_qsize 15, out_qsize 0\n",
      "2021-05-25 12:41:39,879 : INFO : EPOCH 4 - PROGRESS: at 73.95% examples, 1077876 words/s, in_qsize 15, out_qsize 0\n",
      "2021-05-25 12:41:40,880 : INFO : EPOCH 4 - PROGRESS: at 92.65% examples, 1072994 words/s, in_qsize 16, out_qsize 0\n",
      "2021-05-25 12:41:41,216 : INFO : worker thread finished; awaiting finish of 7 more threads\n",
      "2021-05-25 12:41:41,222 : INFO : worker thread finished; awaiting finish of 6 more threads\n",
      "2021-05-25 12:41:41,225 : INFO : worker thread finished; awaiting finish of 5 more threads\n",
      "2021-05-25 12:41:41,241 : INFO : worker thread finished; awaiting finish of 4 more threads\n",
      "2021-05-25 12:41:41,242 : INFO : worker thread finished; awaiting finish of 3 more threads\n",
      "2021-05-25 12:41:41,242 : INFO : worker thread finished; awaiting finish of 2 more threads\n",
      "2021-05-25 12:41:41,243 : INFO : worker thread finished; awaiting finish of 1 more threads\n",
      "2021-05-25 12:41:41,249 : INFO : worker thread finished; awaiting finish of 0 more threads\n",
      "2021-05-25 12:41:41,250 : INFO : EPOCH - 4 : training on 18486903 raw words (5721992 effective words) took 5.4s, 1063344 effective words/s\n",
      "2021-05-25 12:41:42,267 : INFO : EPOCH 5 - PROGRESS: at 17.71% examples, 1064963 words/s, in_qsize 15, out_qsize 0\n",
      "2021-05-25 12:41:43,276 : INFO : EPOCH 5 - PROGRESS: at 35.27% examples, 1089543 words/s, in_qsize 15, out_qsize 0\n",
      "2021-05-25 12:41:44,284 : INFO : EPOCH 5 - PROGRESS: at 53.25% examples, 1086652 words/s, in_qsize 15, out_qsize 0\n",
      "2021-05-25 12:41:45,288 : INFO : EPOCH 5 - PROGRESS: at 73.74% examples, 1069844 words/s, in_qsize 15, out_qsize 0\n",
      "2021-05-25 12:41:46,293 : INFO : EPOCH 5 - PROGRESS: at 92.78% examples, 1068097 words/s, in_qsize 15, out_qsize 0\n",
      "2021-05-25 12:41:46,609 : INFO : worker thread finished; awaiting finish of 7 more threads\n",
      "2021-05-25 12:41:46,610 : INFO : worker thread finished; awaiting finish of 6 more threads\n",
      "2021-05-25 12:41:46,612 : INFO : worker thread finished; awaiting finish of 5 more threads\n",
      "2021-05-25 12:41:46,619 : INFO : worker thread finished; awaiting finish of 4 more threads\n",
      "2021-05-25 12:41:46,626 : INFO : worker thread finished; awaiting finish of 3 more threads\n",
      "2021-05-25 12:41:46,629 : INFO : worker thread finished; awaiting finish of 2 more threads\n",
      "2021-05-25 12:41:46,633 : INFO : worker thread finished; awaiting finish of 1 more threads\n",
      "2021-05-25 12:41:46,635 : INFO : worker thread finished; awaiting finish of 0 more threads\n",
      "2021-05-25 12:41:46,636 : INFO : EPOCH - 5 : training on 18486903 raw words (5722639 effective words) took 5.4s, 1063219 effective words/s\n",
      "2021-05-25 12:41:47,640 : INFO : EPOCH 6 - PROGRESS: at 18.06% examples, 1091383 words/s, in_qsize 16, out_qsize 0\n",
      "2021-05-25 12:41:48,651 : INFO : EPOCH 6 - PROGRESS: at 35.64% examples, 1102277 words/s, in_qsize 16, out_qsize 0\n",
      "2021-05-25 12:41:49,653 : INFO : EPOCH 6 - PROGRESS: at 54.04% examples, 1102995 words/s, in_qsize 16, out_qsize 0\n",
      "2021-05-25 12:41:50,666 : INFO : EPOCH 6 - PROGRESS: at 74.51% examples, 1086617 words/s, in_qsize 16, out_qsize 0\n",
      "2021-05-25 12:41:51,667 : INFO : EPOCH 6 - PROGRESS: at 93.42% examples, 1076247 words/s, in_qsize 15, out_qsize 0\n",
      "2021-05-25 12:41:51,931 : INFO : worker thread finished; awaiting finish of 7 more threads\n",
      "2021-05-25 12:41:51,932 : INFO : worker thread finished; awaiting finish of 6 more threads\n",
      "2021-05-25 12:41:51,940 : INFO : worker thread finished; awaiting finish of 5 more threads\n",
      "2021-05-25 12:41:51,949 : INFO : worker thread finished; awaiting finish of 4 more threads\n",
      "2021-05-25 12:41:51,955 : INFO : worker thread finished; awaiting finish of 3 more threads\n",
      "2021-05-25 12:41:51,958 : INFO : worker thread finished; awaiting finish of 2 more threads\n",
      "2021-05-25 12:41:51,960 : INFO : worker thread finished; awaiting finish of 1 more threads\n",
      "2021-05-25 12:41:51,961 : INFO : worker thread finished; awaiting finish of 0 more threads\n",
      "2021-05-25 12:41:51,962 : INFO : EPOCH - 6 : training on 18486903 raw words (5722967 effective words) took 5.3s, 1075030 effective words/s\n",
      "2021-05-25 12:41:52,968 : INFO : EPOCH 7 - PROGRESS: at 17.87% examples, 1081635 words/s, in_qsize 15, out_qsize 0\n",
      "2021-05-25 12:41:53,971 : INFO : EPOCH 7 - PROGRESS: at 36.10% examples, 1120126 words/s, in_qsize 14, out_qsize 1\n",
      "2021-05-25 12:41:54,986 : INFO : EPOCH 7 - PROGRESS: at 54.74% examples, 1113277 words/s, in_qsize 15, out_qsize 0\n",
      "2021-05-25 12:41:55,990 : INFO : EPOCH 7 - PROGRESS: at 74.69% examples, 1097821 words/s, in_qsize 16, out_qsize 0\n",
      "2021-05-25 12:41:56,991 : INFO : EPOCH 7 - PROGRESS: at 94.12% examples, 1083984 words/s, in_qsize 15, out_qsize 0\n",
      "2021-05-25 12:41:57,243 : INFO : worker thread finished; awaiting finish of 7 more threads\n",
      "2021-05-25 12:41:57,244 : INFO : worker thread finished; awaiting finish of 6 more threads\n",
      "2021-05-25 12:41:57,245 : INFO : worker thread finished; awaiting finish of 5 more threads\n",
      "2021-05-25 12:41:57,249 : INFO : worker thread finished; awaiting finish of 4 more threads\n",
      "2021-05-25 12:41:57,257 : INFO : worker thread finished; awaiting finish of 3 more threads\n",
      "2021-05-25 12:41:57,259 : INFO : worker thread finished; awaiting finish of 2 more threads\n",
      "2021-05-25 12:41:57,267 : INFO : worker thread finished; awaiting finish of 1 more threads\n",
      "2021-05-25 12:41:57,268 : INFO : worker thread finished; awaiting finish of 0 more threads\n",
      "2021-05-25 12:41:57,269 : INFO : EPOCH - 7 : training on 18486903 raw words (5721912 effective words) took 5.3s, 1079240 effective words/s\n",
      "2021-05-25 12:41:58,275 : INFO : EPOCH 8 - PROGRESS: at 17.87% examples, 1082724 words/s, in_qsize 16, out_qsize 0\n",
      "2021-05-25 12:41:59,276 : INFO : EPOCH 8 - PROGRESS: at 35.17% examples, 1099681 words/s, in_qsize 16, out_qsize 0\n",
      "2021-05-25 12:42:00,283 : INFO : EPOCH 8 - PROGRESS: at 54.43% examples, 1108561 words/s, in_qsize 15, out_qsize 0\n",
      "2021-05-25 12:42:01,283 : INFO : EPOCH 8 - PROGRESS: at 74.28% examples, 1085699 words/s, in_qsize 16, out_qsize 0\n",
      "2021-05-25 12:42:02,283 : INFO : EPOCH 8 - PROGRESS: at 92.92% examples, 1075022 words/s, in_qsize 16, out_qsize 0\n",
      "2021-05-25 12:42:02,604 : INFO : worker thread finished; awaiting finish of 7 more threads\n",
      "2021-05-25 12:42:02,605 : INFO : worker thread finished; awaiting finish of 6 more threads\n",
      "2021-05-25 12:42:02,610 : INFO : worker thread finished; awaiting finish of 5 more threads\n",
      "2021-05-25 12:42:02,616 : INFO : worker thread finished; awaiting finish of 4 more threads\n",
      "2021-05-25 12:42:02,619 : INFO : worker thread finished; awaiting finish of 3 more threads\n",
      "2021-05-25 12:42:02,621 : INFO : worker thread finished; awaiting finish of 2 more threads\n",
      "2021-05-25 12:42:02,623 : INFO : worker thread finished; awaiting finish of 1 more threads\n",
      "2021-05-25 12:42:02,624 : INFO : worker thread finished; awaiting finish of 0 more threads\n",
      "2021-05-25 12:42:02,627 : INFO : EPOCH - 8 : training on 18486903 raw words (5722902 effective words) took 5.4s, 1068593 effective words/s\n",
      "2021-05-25 12:42:03,631 : INFO : EPOCH 9 - PROGRESS: at 17.83% examples, 1080491 words/s, in_qsize 15, out_qsize 0\n",
      "2021-05-25 12:42:04,631 : INFO : EPOCH 9 - PROGRESS: at 35.71% examples, 1109781 words/s, in_qsize 15, out_qsize 0\n",
      "2021-05-25 12:42:05,634 : INFO : EPOCH 9 - PROGRESS: at 54.89% examples, 1120969 words/s, in_qsize 15, out_qsize 0\n",
      "2021-05-25 12:42:06,641 : INFO : EPOCH 9 - PROGRESS: at 74.78% examples, 1102406 words/s, in_qsize 15, out_qsize 0\n",
      "2021-05-25 12:42:07,646 : INFO : EPOCH 9 - PROGRESS: at 94.66% examples, 1089982 words/s, in_qsize 16, out_qsize 0\n",
      "2021-05-25 12:42:07,859 : INFO : worker thread finished; awaiting finish of 7 more threads\n",
      "2021-05-25 12:42:07,864 : INFO : worker thread finished; awaiting finish of 6 more threads\n",
      "2021-05-25 12:42:07,866 : INFO : worker thread finished; awaiting finish of 5 more threads\n",
      "2021-05-25 12:42:07,875 : INFO : worker thread finished; awaiting finish of 4 more threads\n",
      "2021-05-25 12:42:07,878 : INFO : worker thread finished; awaiting finish of 3 more threads\n",
      "2021-05-25 12:42:07,879 : INFO : worker thread finished; awaiting finish of 2 more threads\n",
      "2021-05-25 12:42:07,881 : INFO : worker thread finished; awaiting finish of 1 more threads\n",
      "2021-05-25 12:42:07,883 : INFO : worker thread finished; awaiting finish of 0 more threads\n",
      "2021-05-25 12:42:07,884 : INFO : EPOCH - 9 : training on 18486903 raw words (5722202 effective words) took 5.3s, 1089149 effective words/s\n",
      "2021-05-25 12:42:08,895 : INFO : EPOCH 10 - PROGRESS: at 17.63% examples, 1066270 words/s, in_qsize 15, out_qsize 0\n",
      "2021-05-25 12:42:09,905 : INFO : EPOCH 10 - PROGRESS: at 35.08% examples, 1089053 words/s, in_qsize 15, out_qsize 0\n",
      "2021-05-25 12:42:10,908 : INFO : EPOCH 10 - PROGRESS: at 54.20% examples, 1103071 words/s, in_qsize 16, out_qsize 0\n",
      "2021-05-25 12:42:11,909 : INFO : EPOCH 10 - PROGRESS: at 74.18% examples, 1085049 words/s, in_qsize 16, out_qsize 0\n",
      "2021-05-25 12:42:12,913 : INFO : EPOCH 10 - PROGRESS: at 93.15% examples, 1074120 words/s, in_qsize 15, out_qsize 0\n",
      "2021-05-25 12:42:13,193 : INFO : worker thread finished; awaiting finish of 7 more threads\n",
      "2021-05-25 12:42:13,199 : INFO : worker thread finished; awaiting finish of 6 more threads\n",
      "2021-05-25 12:42:13,200 : INFO : worker thread finished; awaiting finish of 5 more threads\n",
      "2021-05-25 12:42:13,213 : INFO : worker thread finished; awaiting finish of 4 more threads\n",
      "2021-05-25 12:42:13,214 : INFO : worker thread finished; awaiting finish of 3 more threads\n",
      "2021-05-25 12:42:13,215 : INFO : worker thread finished; awaiting finish of 2 more threads\n",
      "2021-05-25 12:42:13,217 : INFO : worker thread finished; awaiting finish of 1 more threads\n",
      "2021-05-25 12:42:13,218 : INFO : worker thread finished; awaiting finish of 0 more threads\n",
      "2021-05-25 12:42:13,218 : INFO : EPOCH - 10 : training on 18486903 raw words (5722162 effective words) took 5.3s, 1073313 effective words/s\n",
      "2021-05-25 12:42:13,219 : INFO : Doc2Vec lifecycle event {'msg': 'training on 184869030 raw words (57223815 effective words) took 53.6s, 1067001 effective words/s', 'datetime': '2021-05-25T12:42:13.219726', 'gensim': '4.0.1', 'python': '3.8.10 (default, May 19 2021, 18:05:58) \\n[GCC 7.3.0]', 'platform': 'Linux-5.11.0-7614-generic-x86_64-with-glibc2.10', 'event': 'train'}\n",
      "2021-05-25 12:42:13,221 : INFO : Doc2Vec lifecycle event {'params': 'Doc2Vec(dm/m,d100,n5,w5,mc5,s0.001,t8)', 'datetime': '2021-05-25T12:42:13.221482', 'gensim': '4.0.1', 'python': '3.8.10 (default, May 19 2021, 18:05:58) \\n[GCC 7.3.0]', 'platform': 'Linux-5.11.0-7614-generic-x86_64-with-glibc2.10', 'event': 'created'}\n"
     ]
    }
   ],
   "source": [
    "from gensim.models import Doc2Vec\n",
    "model = Doc2Vec(data, vector_size=100, window=5, workers=8)"
   ]
  },
  {
   "cell_type": "markdown",
   "id": "2e90d3b8-38e8-472c-8cc4-b92e772928b8",
   "metadata": {},
   "source": [
    "## We save the Doc2Vec vectors to file for further analysis "
   ]
  },
  {
   "cell_type": "code",
   "execution_count": 38,
   "id": "a39cb355-5686-47d0-a3ff-dfcf9bcf062f",
   "metadata": {},
   "outputs": [],
   "source": [
    "doc2vec_vectors = model.dv"
   ]
  },
  {
   "cell_type": "code",
   "execution_count": 39,
   "id": "75fab19d-5e62-4e36-9cb1-ef2453d1cbca",
   "metadata": {},
   "outputs": [
    {
     "name": "stderr",
     "output_type": "stream",
     "text": [
      "2021-05-25 12:42:13,293 : INFO : KeyedVectors lifecycle event {'fname_or_handle': 'docs_grams_4.model', 'separately': 'None', 'sep_limit': 10485760, 'ignore': frozenset(), 'datetime': '2021-05-25T12:42:13.293842', 'gensim': '4.0.1', 'python': '3.8.10 (default, May 19 2021, 18:05:58) \\n[GCC 7.3.0]', 'platform': 'Linux-5.11.0-7614-generic-x86_64-with-glibc2.10', 'event': 'saving'}\n",
      "2021-05-25 12:42:13,298 : INFO : saved docs_grams_4.model\n"
     ]
    }
   ],
   "source": [
    "doc2vec_vectors.save(\"word2vecmodels/docs_grams_4.model\")"
   ]
  },
  {
   "cell_type": "code",
   "execution_count": null,
   "id": "deea13ec-7f68-4d69-8de3-ed06850551f9",
   "metadata": {},
   "outputs": [],
   "source": []
  }
 ],
 "metadata": {
  "kernelspec": {
   "display_name": "Python 3",
   "language": "python",
   "name": "python3"
  },
  "language_info": {
   "codemirror_mode": {
    "name": "ipython",
    "version": 3
   },
   "file_extension": ".py",
   "mimetype": "text/x-python",
   "name": "python",
   "nbconvert_exporter": "python",
   "pygments_lexer": "ipython3",
   "version": "3.8.10"
  }
 },
 "nbformat": 4,
 "nbformat_minor": 5
}
