{
 "cells": [
  {
   "cell_type": "code",
   "execution_count": 1,
   "id": "cb313e23-18de-414e-bb76-3a03510b978a",
   "metadata": {},
   "outputs": [],
   "source": [
    "import pandas as pd\n",
    "import re\n",
    "import os"
   ]
  },
  {
   "cell_type": "code",
   "execution_count": 2,
   "id": "31a0a5e5-55b5-4575-a09a-edf22e3900f0",
   "metadata": {},
   "outputs": [],
   "source": [
    "df = pd.read_csv(\"../../../data/unique_songs_with_feats_6.csv\", delimiter=\";\")"
   ]
  },
  {
   "cell_type": "code",
   "execution_count": 3,
   "id": "bb6c72f4-322c-44bd-83ed-da67fec1a708",
   "metadata": {},
   "outputs": [
    {
     "data": {
      "text/html": [
       "<div>\n",
       "<style scoped>\n",
       "    .dataframe tbody tr th:only-of-type {\n",
       "        vertical-align: middle;\n",
       "    }\n",
       "\n",
       "    .dataframe tbody tr th {\n",
       "        vertical-align: top;\n",
       "    }\n",
       "\n",
       "    .dataframe thead th {\n",
       "        text-align: right;\n",
       "    }\n",
       "</style>\n",
       "<table border=\"1\" class=\"dataframe\">\n",
       "  <thead>\n",
       "    <tr style=\"text-align: right;\">\n",
       "      <th></th>\n",
       "      <th>id</th>\n",
       "      <th>tag_fimi</th>\n",
       "      <th>publisher</th>\n",
       "      <th>album_release_date</th>\n",
       "      <th>album_type</th>\n",
       "      <th>song_name</th>\n",
       "      <th>album_id</th>\n",
       "      <th>artists_names</th>\n",
       "      <th>artists_id</th>\n",
       "      <th>explicit</th>\n",
       "      <th>...</th>\n",
       "      <th>loudness</th>\n",
       "      <th>mode</th>\n",
       "      <th>speechiness</th>\n",
       "      <th>acousticness</th>\n",
       "      <th>instrumentalness</th>\n",
       "      <th>liveness</th>\n",
       "      <th>valence</th>\n",
       "      <th>tempo</th>\n",
       "      <th>type</th>\n",
       "      <th>duration_ms</th>\n",
       "    </tr>\n",
       "  </thead>\n",
       "  <tbody>\n",
       "    <tr>\n",
       "      <th>0</th>\n",
       "      <td>1ecMdfIXNksJTymYlzsFZ3</td>\n",
       "      <td>sgo</td>\n",
       "      <td>NaN</td>\n",
       "      <td>2006-02-28</td>\n",
       "      <td>single</td>\n",
       "      <td>Svegliarsi la mattina</td>\n",
       "      <td>6d1AvZ3brZ9caD2cFbIbbd</td>\n",
       "      <td>['Zero Assoluto']</td>\n",
       "      <td>['3bf7Y2it29DeOjXpIibCOe']</td>\n",
       "      <td>False</td>\n",
       "      <td>...</td>\n",
       "      <td>-9.350</td>\n",
       "      <td>1.0</td>\n",
       "      <td>0.0423</td>\n",
       "      <td>0.1810</td>\n",
       "      <td>0.000458</td>\n",
       "      <td>0.0737</td>\n",
       "      <td>0.607</td>\n",
       "      <td>171.970</td>\n",
       "      <td>audio_features</td>\n",
       "      <td>4.0</td>\n",
       "    </tr>\n",
       "    <tr>\n",
       "      <th>1</th>\n",
       "      <td>7xtCBkcqlum3X6l7bN3tza</td>\n",
       "      <td>uni</td>\n",
       "      <td>NaN</td>\n",
       "      <td>2021-06-10</td>\n",
       "      <td>compilation</td>\n",
       "      <td>One - Radio Edit</td>\n",
       "      <td>1JTnevVl46CyP8Zj1rcUX4</td>\n",
       "      <td>['Mary J. Blige', 'U2']</td>\n",
       "      <td>['1XkoF8ryArs86LZvFOkbyr', '51Blml2LZPmy7TTiAg...</td>\n",
       "      <td>False</td>\n",
       "      <td>...</td>\n",
       "      <td>-2.595</td>\n",
       "      <td>1.0</td>\n",
       "      <td>0.0813</td>\n",
       "      <td>0.1880</td>\n",
       "      <td>0.000000</td>\n",
       "      <td>0.3780</td>\n",
       "      <td>0.262</td>\n",
       "      <td>185.908</td>\n",
       "      <td>audio_features</td>\n",
       "      <td>243627.0</td>\n",
       "    </tr>\n",
       "    <tr>\n",
       "      <th>2</th>\n",
       "      <td>6shzlUkm7OcnoO4guEiGJ8</td>\n",
       "      <td>uni</td>\n",
       "      <td>NaN</td>\n",
       "      <td>2006-11-27</td>\n",
       "      <td>album</td>\n",
       "      <td>Sei nell'anima</td>\n",
       "      <td>2htq51kTRL2dwMxa2mBfJi</td>\n",
       "      <td>['Gianna Nannini']</td>\n",
       "      <td>['0h0p7RkMjCUMdcf0nXmHjX']</td>\n",
       "      <td>False</td>\n",
       "      <td>...</td>\n",
       "      <td>-5.704</td>\n",
       "      <td>1.0</td>\n",
       "      <td>0.0216</td>\n",
       "      <td>0.4040</td>\n",
       "      <td>0.000002</td>\n",
       "      <td>0.0834</td>\n",
       "      <td>0.468</td>\n",
       "      <td>91.010</td>\n",
       "      <td>audio_features</td>\n",
       "      <td>4.0</td>\n",
       "    </tr>\n",
       "    <tr>\n",
       "      <th>3</th>\n",
       "      <td>3YOigAKOgFTQuLjF9MBmd3</td>\n",
       "      <td>uni</td>\n",
       "      <td>NaN</td>\n",
       "      <td>2006</td>\n",
       "      <td>album</td>\n",
       "      <td>Upside Down</td>\n",
       "      <td>0kYv61g7n6ZPe2TVaIBeeJ</td>\n",
       "      <td>['Jack Johnson']</td>\n",
       "      <td>['3GBPw9NK25X1Wt2OUvOwY3']</td>\n",
       "      <td>False</td>\n",
       "      <td>...</td>\n",
       "      <td>-8.299</td>\n",
       "      <td>0.0</td>\n",
       "      <td>0.0433</td>\n",
       "      <td>0.2280</td>\n",
       "      <td>0.000128</td>\n",
       "      <td>0.1630</td>\n",
       "      <td>0.647</td>\n",
       "      <td>102.476</td>\n",
       "      <td>audio_features</td>\n",
       "      <td>4.0</td>\n",
       "    </tr>\n",
       "    <tr>\n",
       "      <th>4</th>\n",
       "      <td>6vODhpvfWwdsO0i9MBWnEq</td>\n",
       "      <td>wmi</td>\n",
       "      <td>NaN</td>\n",
       "      <td>2006-04-03</td>\n",
       "      <td>single</td>\n",
       "      <td>Dani California</td>\n",
       "      <td>3rrvHWzZCF8TvqT9oJtfVZ</td>\n",
       "      <td>['Red Hot Chili Peppers']</td>\n",
       "      <td>['0L8ExT028jH3ddEcZwqJJ5']</td>\n",
       "      <td>False</td>\n",
       "      <td>...</td>\n",
       "      <td>-2.360</td>\n",
       "      <td>1.0</td>\n",
       "      <td>0.0437</td>\n",
       "      <td>0.0193</td>\n",
       "      <td>0.000009</td>\n",
       "      <td>0.3460</td>\n",
       "      <td>0.730</td>\n",
       "      <td>96.184</td>\n",
       "      <td>audio_features</td>\n",
       "      <td>4.0</td>\n",
       "    </tr>\n",
       "  </tbody>\n",
       "</table>\n",
       "<p>5 rows × 25 columns</p>\n",
       "</div>"
      ],
      "text/plain": [
       "                       id tag_fimi publisher album_release_date   album_type  \\\n",
       "0  1ecMdfIXNksJTymYlzsFZ3      sgo       NaN         2006-02-28       single   \n",
       "1  7xtCBkcqlum3X6l7bN3tza      uni       NaN         2021-06-10  compilation   \n",
       "2  6shzlUkm7OcnoO4guEiGJ8      uni       NaN         2006-11-27        album   \n",
       "3  3YOigAKOgFTQuLjF9MBmd3      uni       NaN               2006        album   \n",
       "4  6vODhpvfWwdsO0i9MBWnEq      wmi       NaN         2006-04-03       single   \n",
       "\n",
       "               song_name                album_id              artists_names  \\\n",
       "0  Svegliarsi la mattina  6d1AvZ3brZ9caD2cFbIbbd          ['Zero Assoluto']   \n",
       "1       One - Radio Edit  1JTnevVl46CyP8Zj1rcUX4    ['Mary J. Blige', 'U2']   \n",
       "2         Sei nell'anima  2htq51kTRL2dwMxa2mBfJi         ['Gianna Nannini']   \n",
       "3            Upside Down  0kYv61g7n6ZPe2TVaIBeeJ           ['Jack Johnson']   \n",
       "4        Dani California  3rrvHWzZCF8TvqT9oJtfVZ  ['Red Hot Chili Peppers']   \n",
       "\n",
       "                                          artists_id explicit  ...  loudness  \\\n",
       "0                         ['3bf7Y2it29DeOjXpIibCOe']    False  ...    -9.350   \n",
       "1  ['1XkoF8ryArs86LZvFOkbyr', '51Blml2LZPmy7TTiAg...    False  ...    -2.595   \n",
       "2                         ['0h0p7RkMjCUMdcf0nXmHjX']    False  ...    -5.704   \n",
       "3                         ['3GBPw9NK25X1Wt2OUvOwY3']    False  ...    -8.299   \n",
       "4                         ['0L8ExT028jH3ddEcZwqJJ5']    False  ...    -2.360   \n",
       "\n",
       "   mode  speechiness  acousticness  instrumentalness  liveness  valence  \\\n",
       "0   1.0       0.0423        0.1810          0.000458    0.0737    0.607   \n",
       "1   1.0       0.0813        0.1880          0.000000    0.3780    0.262   \n",
       "2   1.0       0.0216        0.4040          0.000002    0.0834    0.468   \n",
       "3   0.0       0.0433        0.2280          0.000128    0.1630    0.647   \n",
       "4   1.0       0.0437        0.0193          0.000009    0.3460    0.730   \n",
       "\n",
       "     tempo            type  duration_ms  \n",
       "0  171.970  audio_features          4.0  \n",
       "1  185.908  audio_features     243627.0  \n",
       "2   91.010  audio_features          4.0  \n",
       "3  102.476  audio_features          4.0  \n",
       "4   96.184  audio_features          4.0  \n",
       "\n",
       "[5 rows x 25 columns]"
      ]
     },
     "execution_count": 3,
     "metadata": {},
     "output_type": "execute_result"
    }
   ],
   "source": [
    "df.head()"
   ]
  },
  {
   "cell_type": "code",
   "execution_count": 4,
   "id": "874ea625-23d4-4f50-b607-47ac4ed8320f",
   "metadata": {},
   "outputs": [],
   "source": [
    "def unpack_artist_list(str_repr):\n",
    "    output = []\n",
    "    try:\n",
    "        output.extend(eval(str_repr))\n",
    "    except:\n",
    "        output.append(str_repr)\n",
    "    finally:\n",
    "        return output"
   ]
  },
  {
   "cell_type": "code",
   "execution_count": 5,
   "id": "50c409be-188e-4051-afff-b54ee7e23e90",
   "metadata": {},
   "outputs": [],
   "source": [
    "files = os.listdir(\"lyrics\")"
   ]
  },
  {
   "cell_type": "code",
   "execution_count": 6,
   "id": "1b579df9-2004-42b9-aa17-99ae3ccb0f8d",
   "metadata": {},
   "outputs": [],
   "source": [
    "out = []"
   ]
  },
  {
   "cell_type": "code",
   "execution_count": 7,
   "id": "c14843a0-31ed-4990-903f-a1c0d26c89fd",
   "metadata": {},
   "outputs": [
    {
     "name": "stdout",
     "output_type": "stream",
     "text": [
      "Index(['id', 'tag_fimi', 'publisher', 'album_release_date', 'album_type',\n",
      "       'song_name', 'album_id', 'artists_names', 'artists_id', 'explicit',\n",
      "       'duration', 'popularity', 'danceability', 'energy', 'key', 'loudness',\n",
      "       'mode', 'speechiness', 'acousticness', 'instrumentalness', 'liveness',\n",
      "       'valence', 'tempo', 'type', 'duration_ms'],\n",
      "      dtype='object')\n"
     ]
    }
   ],
   "source": [
    "print(df.columns)"
   ]
  },
  {
   "cell_type": "code",
   "execution_count": 8,
   "id": "b4ae83c7-06cf-4e55-8d9f-7c8d1b55c921",
   "metadata": {},
   "outputs": [],
   "source": [
    "for id_, song_name, artists_names in df[[\"id\", \"song_name\", \"artists_names\"]].itertuples(index=False):\n",
    "    artists = unpack_artist_list(artists_names)\n",
    "    clean_filename = re.sub(r\"[><:\\\"?*|\\\\/]\", \"\", f\"{song_name}_{artists[0]}.txt\")\n",
    "    if os.path.isfile(\"lyrics/\"+clean_filename):\n",
    "        out.append(clean_filename)\n",
    "    else:\n",
    "        out.append(None)"
   ]
  },
  {
   "cell_type": "code",
   "execution_count": null,
   "id": "aec1843d-bcda-4485-9e6b-09184507b577",
   "metadata": {},
   "outputs": [],
   "source": []
  },
  {
   "cell_type": "code",
   "execution_count": 9,
   "id": "a69bfa83-23f7-4fd9-945e-6f16289578b6",
   "metadata": {},
   "outputs": [],
   "source": [
    "df['filename'] = out"
   ]
  },
  {
   "cell_type": "code",
   "execution_count": 10,
   "id": "84dd5d12-6f73-4e00-b741-cc2fce56d51b",
   "metadata": {},
   "outputs": [
    {
     "data": {
      "text/plain": [
       "125"
      ]
     },
     "execution_count": 10,
     "metadata": {},
     "output_type": "execute_result"
    }
   ],
   "source": [
    "df['filename'].isna().sum()"
   ]
  },
  {
   "cell_type": "code",
   "execution_count": 11,
   "id": "1f4b365f-6c76-4934-96aa-6490c86048e9",
   "metadata": {},
   "outputs": [
    {
     "name": "stderr",
     "output_type": "stream",
     "text": [
      "<ipython-input-11-b8abe9352637>:3: FutureWarning: The default value of regex will change from True to False in a future version.\n",
      "  rows_withna[\"song_name_less\"] = rows_withna[\"song_name\"].str.replace(r\"(-.+|\\(.+\\))\", \"\")\n"
     ]
    }
   ],
   "source": [
    "rows_withna = df[df['filename'].isna()]\n",
    "rows_withna = rows_withna[[\"id\", \"song_name\", \"artists_names\"]]\n",
    "rows_withna[\"song_name_less\"] = rows_withna[\"song_name\"].str.replace(r\"(-.+|\\(.+\\))\", \"\")"
   ]
  },
  {
   "cell_type": "code",
   "execution_count": 12,
   "id": "6d672523-771b-4dbd-98c8-434d5ba58335",
   "metadata": {},
   "outputs": [
    {
     "data": {
      "text/html": [
       "<div>\n",
       "<style scoped>\n",
       "    .dataframe tbody tr th:only-of-type {\n",
       "        vertical-align: middle;\n",
       "    }\n",
       "\n",
       "    .dataframe tbody tr th {\n",
       "        vertical-align: top;\n",
       "    }\n",
       "\n",
       "    .dataframe thead th {\n",
       "        text-align: right;\n",
       "    }\n",
       "</style>\n",
       "<table border=\"1\" class=\"dataframe\">\n",
       "  <thead>\n",
       "    <tr style=\"text-align: right;\">\n",
       "      <th></th>\n",
       "      <th>id</th>\n",
       "      <th>song_name</th>\n",
       "      <th>artists_names</th>\n",
       "      <th>song_name_less</th>\n",
       "    </tr>\n",
       "  </thead>\n",
       "  <tbody>\n",
       "    <tr>\n",
       "      <th>46</th>\n",
       "      <td>55lrWl9QxmDf76ddTibZZs</td>\n",
       "      <td>Portsmouth</td>\n",
       "      <td>['Mike Oldfield']</td>\n",
       "      <td>Portsmouth</td>\n",
       "    </tr>\n",
       "    <tr>\n",
       "      <th>49</th>\n",
       "      <td>2XFUn27yMNJt9uXEIHcTzz</td>\n",
       "      <td>Chaiyya Chaiyya Bollywood Joint</td>\n",
       "      <td>['Sukhwinder Singh', 'Sapna Awasthi', 'Panjabi...</td>\n",
       "      <td>Chaiyya Chaiyya Bollywood Joint</td>\n",
       "    </tr>\n",
       "    <tr>\n",
       "      <th>155</th>\n",
       "      <td>4ZQghCWBEnnfLUbev9QlI4</td>\n",
       "      <td>Arrisca</td>\n",
       "      <td>['Lili Rocha']</td>\n",
       "      <td>Arrisca</td>\n",
       "    </tr>\n",
       "    <tr>\n",
       "      <th>161</th>\n",
       "      <td>7EUwNBQHz2j0oak6YO2oZZ</td>\n",
       "      <td>History of a Dream</td>\n",
       "      <td>['Jk Lloyd']</td>\n",
       "      <td>History of a Dream</td>\n",
       "    </tr>\n",
       "    <tr>\n",
       "      <th>229</th>\n",
       "      <td>7qDy6UdOYIbcjtlzgXu6C5</td>\n",
       "      <td>Snappy il piccolo coccodrillo</td>\n",
       "      <td>['Snappy']</td>\n",
       "      <td>Snappy il piccolo coccodrillo</td>\n",
       "    </tr>\n",
       "  </tbody>\n",
       "</table>\n",
       "</div>"
      ],
      "text/plain": [
       "                         id                        song_name  \\\n",
       "46   55lrWl9QxmDf76ddTibZZs                       Portsmouth   \n",
       "49   2XFUn27yMNJt9uXEIHcTzz  Chaiyya Chaiyya Bollywood Joint   \n",
       "155  4ZQghCWBEnnfLUbev9QlI4                          Arrisca   \n",
       "161  7EUwNBQHz2j0oak6YO2oZZ               History of a Dream   \n",
       "229  7qDy6UdOYIbcjtlzgXu6C5    Snappy il piccolo coccodrillo   \n",
       "\n",
       "                                         artists_names  \\\n",
       "46                                   ['Mike Oldfield']   \n",
       "49   ['Sukhwinder Singh', 'Sapna Awasthi', 'Panjabi...   \n",
       "155                                     ['Lili Rocha']   \n",
       "161                                       ['Jk Lloyd']   \n",
       "229                                         ['Snappy']   \n",
       "\n",
       "                      song_name_less  \n",
       "46                        Portsmouth  \n",
       "49   Chaiyya Chaiyya Bollywood Joint  \n",
       "155                          Arrisca  \n",
       "161               History of a Dream  \n",
       "229    Snappy il piccolo coccodrillo  "
      ]
     },
     "execution_count": 12,
     "metadata": {},
     "output_type": "execute_result"
    }
   ],
   "source": [
    "rows_withna.head()"
   ]
  },
  {
   "cell_type": "code",
   "execution_count": 13,
   "id": "cb492d2f-d88b-4c91-88c9-de21fcf87c36",
   "metadata": {},
   "outputs": [],
   "source": [
    "rows_withna.to_csv(\"songs_na_less_6.csv\", index=False, sep=\";\")"
   ]
  },
  {
   "cell_type": "code",
   "execution_count": null,
   "id": "3d9970a6-e087-4112-8139-db57b26f7bba",
   "metadata": {},
   "outputs": [],
   "source": []
  },
  {
   "cell_type": "code",
   "execution_count": null,
   "id": "acc91e36-95ad-43b7-a6a8-8e6fb6d17878",
   "metadata": {},
   "outputs": [],
   "source": []
  },
  {
   "cell_type": "code",
   "execution_count": 15,
   "id": "64b53948-a18b-4dc7-84b9-5f47d3a3e689",
   "metadata": {},
   "outputs": [],
   "source": [
    "df.to_csv(\"songs_with_filenames_and_feats_6.csv\", index=False, sep=\";\")"
   ]
  },
  {
   "cell_type": "code",
   "execution_count": null,
   "id": "01e3edc3-ef44-46a6-96bb-de655abe11cb",
   "metadata": {},
   "outputs": [],
   "source": []
  }
 ],
 "metadata": {
  "kernelspec": {
   "display_name": "Python 3",
   "language": "python",
   "name": "python3"
  },
  "language_info": {
   "codemirror_mode": {
    "name": "ipython",
    "version": 3
   },
   "file_extension": ".py",
   "mimetype": "text/x-python",
   "name": "python",
   "nbconvert_exporter": "python",
   "pygments_lexer": "ipython3",
   "version": "3.8.10"
  }
 },
 "nbformat": 4,
 "nbformat_minor": 5
}
