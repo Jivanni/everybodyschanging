{
 "cells": [
  {
   "cell_type": "markdown",
   "id": "fcf4a1f4-0d7b-41cc-8402-54c5f678c7ba",
   "metadata": {},
   "source": [
    "# Scripts to check integrity of lyrics "
   ]
  },
  {
   "cell_type": "code",
   "execution_count": 1,
   "id": "cb313e23-18de-414e-bb76-3a03510b978a",
   "metadata": {},
   "outputs": [],
   "source": [
    "import pandas as pd\n",
    "import re\n",
    "import os"
   ]
  },
  {
   "cell_type": "code",
   "execution_count": 2,
   "id": "31a0a5e5-55b5-4575-a09a-edf22e3900f0",
   "metadata": {},
   "outputs": [],
   "source": [
    "df = pd.read_csv(\"../../../data/unique_songs_with_feats_6.csv\", delimiter=\";\")"
   ]
  },
  {
   "cell_type": "code",
   "execution_count": 4,
   "id": "874ea625-23d4-4f50-b607-47ac4ed8320f",
   "metadata": {},
   "outputs": [],
   "source": [
    "def unpack_artist_list(str_repr):\n",
    "    output = []\n",
    "    try:\n",
    "        output.extend(eval(str_repr))\n",
    "    except:\n",
    "        output.append(str_repr)\n",
    "    finally:\n",
    "        return output"
   ]
  },
  {
   "cell_type": "code",
   "execution_count": 5,
   "id": "50c409be-188e-4051-afff-b54ee7e23e90",
   "metadata": {},
   "outputs": [],
   "source": [
    "files = os.listdir(\"lyrics\")"
   ]
  },
  {
   "cell_type": "code",
   "execution_count": 6,
   "id": "1b579df9-2004-42b9-aa17-99ae3ccb0f8d",
   "metadata": {},
   "outputs": [],
   "source": [
    "out = []"
   ]
  },
  {
   "cell_type": "code",
   "execution_count": 7,
   "id": "c14843a0-31ed-4990-903f-a1c0d26c89fd",
   "metadata": {},
   "outputs": [
    {
     "name": "stdout",
     "output_type": "stream",
     "text": [
      "Index(['id', 'tag_fimi', 'publisher', 'album_release_date', 'album_type',\n",
      "       'song_name', 'album_id', 'artists_names', 'artists_id', 'explicit',\n",
      "       'duration', 'popularity', 'danceability', 'energy', 'key', 'loudness',\n",
      "       'mode', 'speechiness', 'acousticness', 'instrumentalness', 'liveness',\n",
      "       'valence', 'tempo', 'type', 'duration_ms'],\n",
      "      dtype='object')\n"
     ]
    }
   ],
   "source": [
    "print(df.columns)"
   ]
  },
  {
   "cell_type": "markdown",
   "id": "00a61080-5478-4d3a-8d38-76d5e93a0b26",
   "metadata": {},
   "source": [
    "This checks if we actually have the text of the corresponding song it makes a csv with results"
   ]
  },
  {
   "cell_type": "code",
   "execution_count": 8,
   "id": "b4ae83c7-06cf-4e55-8d9f-7c8d1b55c921",
   "metadata": {},
   "outputs": [],
   "source": [
    "for id_, song_name, artists_names in df[[\"id\", \"song_name\", \"artists_names\"]].itertuples(index=False):\n",
    "    artists = unpack_artist_list(artists_names)\n",
    "    clean_filename = re.sub(r\"[><:\\\"?*|\\\\/]\", \"\", f\"{song_name}_{artists[0]}.txt\")\n",
    "    if os.path.isfile(\"lyrics/\"+clean_filename):\n",
    "        out.append(clean_filename)\n",
    "    else:\n",
    "        out.append(None)"
   ]
  },
  {
   "cell_type": "code",
   "execution_count": 9,
   "id": "a69bfa83-23f7-4fd9-945e-6f16289578b6",
   "metadata": {},
   "outputs": [],
   "source": [
    "df['filename'] = out"
   ]
  },
  {
   "cell_type": "code",
   "execution_count": 10,
   "id": "84dd5d12-6f73-4e00-b741-cc2fce56d51b",
   "metadata": {},
   "outputs": [
    {
     "data": {
      "text/plain": [
       "125"
      ]
     },
     "execution_count": 10,
     "metadata": {},
     "output_type": "execute_result"
    }
   ],
   "source": [
    "df['filename'].isna().sum()"
   ]
  },
  {
   "cell_type": "code",
   "execution_count": null,
   "id": "1f4b365f-6c76-4934-96aa-6490c86048e9",
   "metadata": {},
   "outputs": [],
   "source": [
    "rows_withna = df[df['filename'].isna()]\n",
    "rows_withna = rows_withna[[\"id\", \"song_name\", \"artists_names\"]]\n",
    "rows_withna[\"song_name_less\"] = rows_withna[\"song_name\"].str.replace(r\"(-.+|\\(.+\\))\", \"\")"
   ]
  },
  {
   "cell_type": "code",
   "execution_count": 12,
   "id": "6d672523-771b-4dbd-98c8-434d5ba58335",
   "metadata": {},
   "outputs": [
    {
     "data": {
      "text/html": [
       "<div>\n",
       "<style scoped>\n",
       "    .dataframe tbody tr th:only-of-type {\n",
       "        vertical-align: middle;\n",
       "    }\n",
       "\n",
       "    .dataframe tbody tr th {\n",
       "        vertical-align: top;\n",
       "    }\n",
       "\n",
       "    .dataframe thead th {\n",
       "        text-align: right;\n",
       "    }\n",
       "</style>\n",
       "<table border=\"1\" class=\"dataframe\">\n",
       "  <thead>\n",
       "    <tr style=\"text-align: right;\">\n",
       "      <th></th>\n",
       "      <th>id</th>\n",
       "      <th>song_name</th>\n",
       "      <th>artists_names</th>\n",
       "      <th>song_name_less</th>\n",
       "    </tr>\n",
       "  </thead>\n",
       "  <tbody>\n",
       "    <tr>\n",
       "      <th>46</th>\n",
       "      <td>55lrWl9QxmDf76ddTibZZs</td>\n",
       "      <td>Portsmouth</td>\n",
       "      <td>['Mike Oldfield']</td>\n",
       "      <td>Portsmouth</td>\n",
       "    </tr>\n",
       "    <tr>\n",
       "      <th>49</th>\n",
       "      <td>2XFUn27yMNJt9uXEIHcTzz</td>\n",
       "      <td>Chaiyya Chaiyya Bollywood Joint</td>\n",
       "      <td>['Sukhwinder Singh', 'Sapna Awasthi', 'Panjabi...</td>\n",
       "      <td>Chaiyya Chaiyya Bollywood Joint</td>\n",
       "    </tr>\n",
       "    <tr>\n",
       "      <th>155</th>\n",
       "      <td>4ZQghCWBEnnfLUbev9QlI4</td>\n",
       "      <td>Arrisca</td>\n",
       "      <td>['Lili Rocha']</td>\n",
       "      <td>Arrisca</td>\n",
       "    </tr>\n",
       "    <tr>\n",
       "      <th>161</th>\n",
       "      <td>7EUwNBQHz2j0oak6YO2oZZ</td>\n",
       "      <td>History of a Dream</td>\n",
       "      <td>['Jk Lloyd']</td>\n",
       "      <td>History of a Dream</td>\n",
       "    </tr>\n",
       "    <tr>\n",
       "      <th>229</th>\n",
       "      <td>7qDy6UdOYIbcjtlzgXu6C5</td>\n",
       "      <td>Snappy il piccolo coccodrillo</td>\n",
       "      <td>['Snappy']</td>\n",
       "      <td>Snappy il piccolo coccodrillo</td>\n",
       "    </tr>\n",
       "  </tbody>\n",
       "</table>\n",
       "</div>"
      ],
      "text/plain": [
       "                         id                        song_name  \\\n",
       "46   55lrWl9QxmDf76ddTibZZs                       Portsmouth   \n",
       "49   2XFUn27yMNJt9uXEIHcTzz  Chaiyya Chaiyya Bollywood Joint   \n",
       "155  4ZQghCWBEnnfLUbev9QlI4                          Arrisca   \n",
       "161  7EUwNBQHz2j0oak6YO2oZZ               History of a Dream   \n",
       "229  7qDy6UdOYIbcjtlzgXu6C5    Snappy il piccolo coccodrillo   \n",
       "\n",
       "                                         artists_names  \\\n",
       "46                                   ['Mike Oldfield']   \n",
       "49   ['Sukhwinder Singh', 'Sapna Awasthi', 'Panjabi...   \n",
       "155                                     ['Lili Rocha']   \n",
       "161                                       ['Jk Lloyd']   \n",
       "229                                         ['Snappy']   \n",
       "\n",
       "                      song_name_less  \n",
       "46                        Portsmouth  \n",
       "49   Chaiyya Chaiyya Bollywood Joint  \n",
       "155                          Arrisca  \n",
       "161               History of a Dream  \n",
       "229    Snappy il piccolo coccodrillo  "
      ]
     },
     "execution_count": 12,
     "metadata": {},
     "output_type": "execute_result"
    }
   ],
   "source": [
    "rows_withna.head()"
   ]
  },
  {
   "cell_type": "code",
   "execution_count": 13,
   "id": "cb492d2f-d88b-4c91-88c9-de21fcf87c36",
   "metadata": {},
   "outputs": [],
   "source": [
    "rows_withna.to_csv(\"songs_na_less_6.csv\", index=False, sep=\";\")"
   ]
  },
  {
   "cell_type": "code",
   "execution_count": 15,
   "id": "64b53948-a18b-4dc7-84b9-5f47d3a3e689",
   "metadata": {},
   "outputs": [],
   "source": [
    "df.to_csv(\"songs_with_filenames_and_feats_6.csv\", index=False, sep=\";\")"
   ]
  }
 ],
 "metadata": {
  "kernelspec": {
   "display_name": "Python 3",
   "language": "python",
   "name": "python3"
  },
  "language_info": {
   "codemirror_mode": {
    "name": "ipython",
    "version": 3
   },
   "file_extension": ".py",
   "mimetype": "text/x-python",
   "name": "python",
   "nbconvert_exporter": "python",
   "pygments_lexer": "ipython3",
   "version": "3.8.10"
  }
 },
 "nbformat": 4,
 "nbformat_minor": 5
}
