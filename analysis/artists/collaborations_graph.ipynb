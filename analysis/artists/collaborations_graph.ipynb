{
 "cells": [
  {
   "cell_type": "markdown",
   "id": "1b433168-69c8-41d7-a04b-cdb80b435e30",
   "metadata": {},
   "source": [
    "## Imports"
   ]
  },
  {
   "cell_type": "code",
   "execution_count": 1,
   "id": "4d38356e-46ca-4edb-9674-9a47fd862b25",
   "metadata": {},
   "outputs": [],
   "source": [
    "import pandas as pd\n",
    "from itertools import combinations,permutations\n",
    "from pyvis.network import Network\n",
    "import networkx as nx\n",
    "from networkx.algorithms.community import greedy_modularity_communities, k_clique_communities, girvan_newman"
   ]
  },
  {
   "cell_type": "code",
   "execution_count": 2,
   "id": "2eb8140d-fb1b-4e37-ac42-19a617fd052b",
   "metadata": {},
   "outputs": [],
   "source": [
    "df = pd.read_csv(\"../lyrics/songs_with_filenames_and_feats_and_lang_6.csv\", delimiter=\";\")"
   ]
  },
  {
   "cell_type": "code",
   "execution_count": 3,
   "id": "119ea011-b7d8-4d4a-91f1-ac2463acf724",
   "metadata": {},
   "outputs": [],
   "source": [
    "attrs_df = pd.read_csv(\"artistinfo_extended2.csv\", delimiter=\";\")"
   ]
  },
  {
   "cell_type": "markdown",
   "id": "34db92b7-0808-4352-a2eb-48deb2a08a14",
   "metadata": {},
   "source": [
    "## Graph"
   ]
  },
  {
   "cell_type": "code",
   "execution_count": 4,
   "id": "e4739136-877c-43af-b734-9e97e569f9ea",
   "metadata": {},
   "outputs": [],
   "source": [
    "def unpack_artist_list(str_repr):\n",
    "    output = []\n",
    "    try:\n",
    "        output.extend(eval(str_repr))\n",
    "    except:\n",
    "        output.append(str_repr)\n",
    "    finally:\n",
    "        return output"
   ]
  },
  {
   "cell_type": "code",
   "execution_count": 5,
   "id": "d4aa864d-3cac-4a28-9656-8d786f68ffdf",
   "metadata": {},
   "outputs": [],
   "source": [
    "edges = []\n",
    "allartists = []"
   ]
  },
  {
   "cell_type": "code",
   "execution_count": 6,
   "id": "ec3cda4b-4f65-4287-b4f0-bede1bed0af3",
   "metadata": {},
   "outputs": [],
   "source": [
    "for song, artists in df[[\"song_name\", \"artists_names\"]].itertuples(index=False):\n",
    "    unpackartists = unpack_artist_list(artists)\n",
    "    allartists.extend(unpackartists)\n",
    "    pairs = list(combinations(unpackartists,2))\n",
    "    edges.extend(pairs)\n",
    "allartists = list(set(allartists))"
   ]
  },
  {
   "cell_type": "code",
   "execution_count": 7,
   "id": "3b690fb5-c913-45ca-804e-2e3082413d54",
   "metadata": {},
   "outputs": [],
   "source": [
    "edgedic = {}\n",
    "for key in edges:\n",
    "    if key in edgedic:\n",
    "        edgedic[key] += 0.1\n",
    "    else:\n",
    "        edgedic[key] = 0.1\n",
    "edges = list(edgedic.items())"
   ]
  },
  {
   "cell_type": "code",
   "execution_count": 8,
   "id": "fb4d9a18-fc85-4814-97be-277f84018fd9",
   "metadata": {},
   "outputs": [],
   "source": [
    "G = nx.Graph()"
   ]
  },
  {
   "cell_type": "code",
   "execution_count": 9,
   "id": "8eef38b3-082f-43a4-a359-46c5b783c597",
   "metadata": {},
   "outputs": [],
   "source": [
    "G.add_nodes_from(allartists)"
   ]
  },
  {
   "cell_type": "code",
   "execution_count": 10,
   "id": "056728eb-006f-4321-98dd-afdc432dcc98",
   "metadata": {},
   "outputs": [],
   "source": [
    "relevant = attrs_df[[\"artists_names\", 'country', 'genres', 'type', 'tags', 'gender','end_area','name', 'life_end', 'life_ended', 'life_begin','begin_area', 'area']].fillna('')"
   ]
  },
  {
   "cell_type": "code",
   "execution_count": 11,
   "id": "2175f07a-7e31-4ba7-9207-149a23a847ef",
   "metadata": {},
   "outputs": [],
   "source": [
    "dicts = relevant.groupby('artists_names').apply(lambda relevant: relevant.to_dict(orient='list')).to_dict()\n",
    "nx.set_node_attributes(G, dicts)\n",
    "for edge, count in edges:\n",
    "    G.add_edge(edge[0],edge[1], weight=count)"
   ]
  },
  {
   "cell_type": "code",
   "execution_count": 12,
   "id": "3b5b1e24-4474-45fd-806c-9683e3ca1911",
   "metadata": {},
   "outputs": [],
   "source": [
    "#nx.write_gml(G, \"artisti_coll.gml\")\n",
    "#H = nx.read_gml(\"artisti_coll.gml\")"
   ]
  },
  {
   "cell_type": "code",
   "execution_count": 13,
   "id": "a1b4c988-611d-4d3d-8df1-e1247ee0f2a5",
   "metadata": {},
   "outputs": [],
   "source": [
    "communities = k_clique_communities(G,4)"
   ]
  },
  {
   "cell_type": "code",
   "execution_count": 14,
   "id": "1ffbcd2c-a498-41dd-b70d-6f28fc987f66",
   "metadata": {},
   "outputs": [],
   "source": [
    "comms = []"
   ]
  },
  {
   "cell_type": "code",
   "execution_count": 15,
   "id": "f8fddc2e-718a-4bb4-b048-68c09e50225d",
   "metadata": {},
   "outputs": [
    {
     "name": "stdout",
     "output_type": "stream",
     "text": [
      "136\n",
      "16\n",
      "15\n",
      "24\n",
      "20\n",
      "7\n",
      "6\n",
      "6\n",
      "6\n",
      "8\n",
      "7\n",
      "6\n",
      "6\n",
      "8\n",
      "6\n",
      "8\n",
      "6\n",
      "6\n"
     ]
    }
   ],
   "source": [
    "for i in communities:\n",
    "    if len(i) > 5:\n",
    "        comms.extend(list(i))\n",
    "        print (len(i))"
   ]
  },
  {
   "cell_type": "code",
   "execution_count": 16,
   "id": "04946cd6-f896-493a-a3b3-2ae9d75834a9",
   "metadata": {},
   "outputs": [],
   "source": [
    "largest_cc = max(nx.connected_components(G), key=len)"
   ]
  },
  {
   "cell_type": "code",
   "execution_count": 17,
   "id": "a546b132-10e1-4aa0-9d7c-2da13e94ff3d",
   "metadata": {},
   "outputs": [],
   "source": [
    "H = G.subgraph(comms)"
   ]
  },
  {
   "cell_type": "code",
   "execution_count": 18,
   "id": "ffe6af78-50f8-4c8d-baf1-779072d71cd2",
   "metadata": {},
   "outputs": [],
   "source": [
    "g_degree = H.degree"
   ]
  },
  {
   "cell_type": "code",
   "execution_count": 19,
   "id": "3fa166bc-2a57-4f79-9365-743ee6e93ab1",
   "metadata": {},
   "outputs": [],
   "source": [
    "options = '''\n",
    "var options = {\n",
    "  \"nodes\": {\n",
    "    \"color\": {\n",
    "      \"border\": \"rgba(51, 204,0,1)\",\n",
    "      \"background\": \"rgba(153, 255, 204,1)\",\n",
    "      \"highlight\": {\n",
    "        \"border\": \"rgba(51,233,148,1)\",\n",
    "        \"background\": \"rgba(213,255,242,1)\"\n",
    "      },\n",
    "      \"hover\": {\n",
    "        \"border\": \"rgba(59,233,157,1)\",\n",
    "        \"background\": \"rgba(213,255,243,1)\"\n",
    "      }\n",
    "    }\n",
    "  },\n",
    "  \"edges\": {\n",
    "    \"color\": {\n",
    "      \"inherit\": true\n",
    "    },\n",
    "    \"smooth\": false\n",
    "  },\n",
    "  \"physics\": {\n",
    "    \"hierarchicalRepulsion\": {\n",
    "      \"centralGravity\": 0\n",
    "    },\n",
    "    \"minVelocity\": 0.75,\n",
    "    \"solver\": \"hierarchicalRepulsion\"\n",
    "  }\n",
    "}\n",
    "'''"
   ]
  },
  {
   "cell_type": "code",
   "execution_count": 20,
   "id": "950c1c85-d49e-4c85-85a0-f1e1d9f0ee01",
   "metadata": {},
   "outputs": [],
   "source": [
    "net = Network(height='720px', width='1280px', bgcolor='#2e2f2f', font_color='EADEDA')\n",
    "#net.show_buttons()\n",
    "net.from_nx(H)\n",
    "net.set_options(options)"
   ]
  },
  {
   "cell_type": "code",
   "execution_count": 21,
   "id": "73ffc8a0-0625-4ffa-ad0c-06aa9507a47f",
   "metadata": {},
   "outputs": [],
   "source": [
    "for edge in net.edges:\n",
    "    edge[\"value\"] = edge[\"weight\"]"
   ]
  },
  {
   "cell_type": "code",
   "execution_count": 22,
   "id": "5896b74a-3589-4c07-ac33-dd254de234af",
   "metadata": {},
   "outputs": [],
   "source": [
    "for node in net.nodes:\n",
    "    degree= g_degree[node['id']]\n",
    "    node[\"degree\"] = degree\n",
    "    node['size'] = degree*0.5\n",
    "    genres = node[\"genres\"][0][1:-1].replace(\"'\", \"\")\n",
    "    life_end = node['life_end'][0][:4]\n",
    "    area = \"\"\n",
    "    if not life_end:\n",
    "        life_end = \"alive\"\n",
    "    if node['area'][0]:\n",
    "        area = ' (' + node['area'][0]+')'\n",
    "    quality = node['type'][0]\n",
    "    if node['gender'][0]:\n",
    "        quality = node['gender'][0]\n",
    "    birth = node['life_begin'][0][:4]\n",
    "    if not node['life_begin'][0]:\n",
    "        birth = \"?\"\n",
    "        \n",
    "    tooltip = f\"{node['artists_names'][0]}{area}<br>{quality}<br>{birth}-{life_end}{'<br>'+genres}\"\n",
    "    node['title'] = tooltip"
   ]
  },
  {
   "cell_type": "code",
   "execution_count": 23,
   "id": "9d2d6126-12b3-4590-a741-48abfbf85523",
   "metadata": {},
   "outputs": [],
   "source": [
    "net.show('nx.html')"
   ]
  },
  {
   "cell_type": "code",
   "execution_count": 24,
   "id": "582167e2-764b-4fc5-b670-f14dd279a8e8",
   "metadata": {},
   "outputs": [],
   "source": [
    "#comunita rispetto a un attributo esterp\n",
    "#assortativita rispetto a label"
   ]
  },
  {
   "cell_type": "code",
   "execution_count": null,
   "id": "6acc921a-9432-4d31-90da-5ac729a02f64",
   "metadata": {},
   "outputs": [],
   "source": []
  },
  {
   "cell_type": "code",
   "execution_count": null,
   "id": "165a85f5-93e0-4ee5-a93b-3fabf03ec238",
   "metadata": {},
   "outputs": [],
   "source": []
  },
  {
   "cell_type": "code",
   "execution_count": null,
   "id": "b3756b39-e9b4-4271-9045-5e6227870646",
   "metadata": {},
   "outputs": [],
   "source": []
  },
  {
   "cell_type": "code",
   "execution_count": null,
   "id": "fd696416-fbfe-4533-87e0-bf8ac2c2ffb0",
   "metadata": {},
   "outputs": [],
   "source": []
  },
  {
   "cell_type": "code",
   "execution_count": null,
   "id": "31642b2a-935d-4e30-8f85-d00591684e2f",
   "metadata": {},
   "outputs": [],
   "source": []
  },
  {
   "cell_type": "code",
   "execution_count": null,
   "id": "78170db7-df83-4190-b67a-688e495cc544",
   "metadata": {},
   "outputs": [],
   "source": []
  },
  {
   "cell_type": "code",
   "execution_count": null,
   "id": "577589e5-eeea-49ee-bd40-3a42cddcc7b3",
   "metadata": {},
   "outputs": [],
   "source": []
  }
 ],
 "metadata": {
  "kernelspec": {
   "display_name": "Python 3",
   "language": "python",
   "name": "python3"
  },
  "language_info": {
   "codemirror_mode": {
    "name": "ipython",
    "version": 3
   },
   "file_extension": ".py",
   "mimetype": "text/x-python",
   "name": "python",
   "nbconvert_exporter": "python",
   "pygments_lexer": "ipython3",
   "version": "3.8.10"
  }
 },
 "nbformat": 4,
 "nbformat_minor": 5
}
