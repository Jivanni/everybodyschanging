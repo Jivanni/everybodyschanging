{
 "cells": [
  {
   "cell_type": "code",
   "execution_count": 71,
   "id": "4d38356e-46ca-4edb-9674-9a47fd862b25",
   "metadata": {},
   "outputs": [],
   "source": [
    "import os\n",
    "import pandas as pd\n",
    "import csv\n",
    "import re\n",
    "import matplotlib.pyplot as plt\n",
    "import seaborn as sns"
   ]
  },
  {
   "cell_type": "code",
   "execution_count": 72,
   "id": "8cfde15f-ba09-447f-b1bb-1d8f1c60e6e4",
   "metadata": {},
   "outputs": [],
   "source": [
    "import logging\n",
    "logging.basicConfig(format='%(asctime)s : %(levelname)s : %(message)s', level=logging.INFO)"
   ]
  },
  {
   "cell_type": "code",
   "execution_count": 73,
   "id": "2eb8140d-fb1b-4e37-ac42-19a617fd052b",
   "metadata": {},
   "outputs": [],
   "source": [
    "df = pd.read_csv(\"../lyrics/songs_with_filenames_and_feats_and_lang_6.csv\", delimiter=\";\")"
   ]
  },
  {
   "cell_type": "code",
   "execution_count": 74,
   "id": "e4739136-877c-43af-b734-9e97e569f9ea",
   "metadata": {},
   "outputs": [],
   "source": [
    "def unpack_artist_list(str_repr):\n",
    "    output = []\n",
    "    try:\n",
    "        output.extend(eval(str_repr))\n",
    "    except:\n",
    "        output.append(str_repr)\n",
    "    finally:\n",
    "        return output"
   ]
  },
  {
   "cell_type": "code",
   "execution_count": 75,
   "id": "d7486172-712d-4270-832b-648e1a88ebb9",
   "metadata": {},
   "outputs": [],
   "source": [
    "from itertools import combinations,permutations"
   ]
  },
  {
   "cell_type": "code",
   "execution_count": 76,
   "id": "422848c0-bfda-4ca3-bfc7-8730f8d77957",
   "metadata": {},
   "outputs": [],
   "source": [
    "from igraph import *"
   ]
  },
  {
   "cell_type": "code",
   "execution_count": 77,
   "id": "d4aa864d-3cac-4a28-9656-8d786f68ffdf",
   "metadata": {},
   "outputs": [],
   "source": [
    "edges = []"
   ]
  },
  {
   "cell_type": "code",
   "execution_count": 78,
   "id": "4d676c86-4f40-46ca-814e-e6272c539cd9",
   "metadata": {},
   "outputs": [],
   "source": [
    "allartists = []"
   ]
  },
  {
   "cell_type": "code",
   "execution_count": 79,
   "id": "ec3cda4b-4f65-4287-b4f0-bede1bed0af3",
   "metadata": {},
   "outputs": [],
   "source": [
    "for song, artists in df[[\"song_name\", \"artists_names\"]].itertuples(index=False):\n",
    "    unpackartists = unpack_artist_list(artists)\n",
    "    allartists.extend(unpackartists)\n",
    "    pairs = list(combinations(unpackartists,2))\n",
    "    edges.extend(pairs)\n",
    "allartists = list(set(allartists))"
   ]
  },
  {
   "cell_type": "code",
   "execution_count": null,
   "id": "a3f084fe-b586-458f-8de8-4b1036a9e570",
   "metadata": {},
   "outputs": [],
   "source": []
  },
  {
   "cell_type": "code",
   "execution_count": 44,
   "id": "599000e5-4c57-42f8-908b-fececec21786",
   "metadata": {},
   "outputs": [],
   "source": [
    "g = Graph()"
   ]
  },
  {
   "cell_type": "code",
   "execution_count": 45,
   "id": "deee6a08-2fa0-41fa-8f2a-5c971005a24e",
   "metadata": {},
   "outputs": [],
   "source": [
    "g.add_vertices(allartists)"
   ]
  },
  {
   "cell_type": "code",
   "execution_count": 46,
   "id": "a8861f40-4cb4-4dd8-bbe1-c96ddc4c886e",
   "metadata": {},
   "outputs": [],
   "source": [
    "g.add_edges(edges)"
   ]
  },
  {
   "cell_type": "code",
   "execution_count": 47,
   "id": "bf202aa8-f351-4af6-ada4-f3bfcb4362d7",
   "metadata": {},
   "outputs": [],
   "source": [
    "simple = g.simplify()"
   ]
  },
  {
   "cell_type": "code",
   "execution_count": 48,
   "id": "58798d99-cf80-47a1-912d-545601bef093",
   "metadata": {},
   "outputs": [],
   "source": [
    "largest = g.clusters().giant()"
   ]
  },
  {
   "cell_type": "code",
   "execution_count": 52,
   "id": "acafb864-1b83-4eaa-a32d-36cc9747d8c0",
   "metadata": {},
   "outputs": [
    {
     "data": {
      "text/plain": [
       "<igraph.Graph at 0x7f0ea7742130>"
      ]
     },
     "execution_count": 52,
     "metadata": {},
     "output_type": "execute_result"
    }
   ],
   "source": [
    "g.decompose()[0]"
   ]
  },
  {
   "cell_type": "code",
   "execution_count": 50,
   "id": "e49f8cc3-8320-4e00-8477-a26ec1f10b84",
   "metadata": {},
   "outputs": [],
   "source": [
    "layout = largest.layout(\"large\")"
   ]
  },
  {
   "cell_type": "code",
   "execution_count": null,
   "id": "0ce6790c-573c-4a26-a02c-6cbf8c0b4fe5",
   "metadata": {},
   "outputs": [],
   "source": [
    "fig, ax = plt.subplots(figsize=(20,20))\n",
    "plot(largest, layout=layout, target=ax)"
   ]
  },
  {
   "cell_type": "code",
   "execution_count": 16,
   "id": "ed11baae-6943-490c-891c-77358d491e81",
   "metadata": {},
   "outputs": [],
   "source": [
    "fig.savefig(\"coll.png\", dpi=300)"
   ]
  },
  {
   "cell_type": "code",
   "execution_count": 24,
   "id": "86ffee59-7dfa-41d4-8b53-84687fddff46",
   "metadata": {},
   "outputs": [
    {
     "data": {
      "text/plain": [
       "28"
      ]
     },
     "execution_count": 24,
     "metadata": {},
     "output_type": "execute_result"
    }
   ],
   "source": [
    "g.degree(\"Laura Pausini\")"
   ]
  },
  {
   "cell_type": "code",
   "execution_count": 25,
   "id": "09fd8896-37a8-49c6-9145-c229bdca248f",
   "metadata": {},
   "outputs": [
    {
     "data": {
      "text/plain": [
       "(array([2.25e+03, 8.80e+01, 1.90e+01, 1.20e+01, 8.00e+00, 4.00e+00,\n",
       "        1.00e+00, 0.00e+00, 0.00e+00, 1.00e+00]),\n",
       " array([  0. ,  16.4,  32.8,  49.2,  65.6,  82. ,  98.4, 114.8, 131.2,\n",
       "        147.6, 164. ]),\n",
       " <BarContainer object of 10 artists>)"
      ]
     },
     "execution_count": 25,
     "metadata": {},
     "output_type": "execute_result"
    },
    {
     "data": {
      "image/png": "[encoded data removed]",
      "text/plain": [
       "<Figure size 432x288 with 1 Axes>"
      ]
     },
     "metadata": {
      "needs_background": "light"
     },
     "output_type": "display_data"
    }
   ],
   "source": [
    "plt.hist(g.degree())"
   ]
  },
  {
   "cell_type": "code",
   "execution_count": 26,
   "id": "790732ed-d909-4b7b-9eca-cb3125002013",
   "metadata": {},
   "outputs": [
    {
     "data": {
      "text/plain": [
       "164"
      ]
     },
     "execution_count": 26,
     "metadata": {},
     "output_type": "execute_result"
    }
   ],
   "source": [
    "max(g.degree())"
   ]
  },
  {
   "cell_type": "code",
   "execution_count": 21,
   "id": "857d3c0a-77ec-4f68-905e-17585e08db2e",
   "metadata": {},
   "outputs": [
    {
     "data": {
      "text/plain": [
       "<igraph.VertexSeq at 0x7f0e9ed05b30>"
      ]
     },
     "execution_count": 21,
     "metadata": {},
     "output_type": "execute_result"
    }
   ],
   "source": [
    "g.vs.select(_degree_gt = 2)"
   ]
  },
  {
   "cell_type": "code",
   "execution_count": 22,
   "id": "1919518b-1d8c-4ffa-ab7c-5424ce803c12",
   "metadata": {},
   "outputs": [
    {
     "data": {
      "text/plain": [
       "['Guè Pequeno']"
      ]
     },
     "execution_count": 22,
     "metadata": {},
     "output_type": "execute_result"
    }
   ],
   "source": [
    "g.vs.select(_degree=g.maxdegree())[\"name\"]"
   ]
  },
  {
   "cell_type": "code",
   "execution_count": 23,
   "id": "78a83eb4-0537-4826-98db-eda917931bc7",
   "metadata": {},
   "outputs": [],
   "source": [
    "#g.shortest_paths()"
   ]
  },
  {
   "cell_type": "code",
   "execution_count": null,
   "id": "490cf4eb-bb8f-412e-88d8-9436294c2489",
   "metadata": {},
   "outputs": [],
   "source": []
  },
  {
   "cell_type": "code",
   "execution_count": 66,
   "id": "aa4578b0-2a9e-4f47-9623-b867d4529ee7",
   "metadata": {},
   "outputs": [],
   "source": [
    "from pyvis.network import Network\n",
    "import networkx as nx"
   ]
  },
  {
   "cell_type": "code",
   "execution_count": 102,
   "id": "fb4d9a18-fc85-4814-97be-277f84018fd9",
   "metadata": {},
   "outputs": [],
   "source": [
    "G = nx.Graph()"
   ]
  },
  {
   "cell_type": "code",
   "execution_count": 103,
   "id": "8eef38b3-082f-43a4-a359-46c5b783c597",
   "metadata": {},
   "outputs": [],
   "source": [
    "G.add_nodes_from(allartists)"
   ]
  },
  {
   "cell_type": "code",
   "execution_count": 104,
   "id": "bf4bbdd0-09d8-4bed-ae06-bb98573d821f",
   "metadata": {},
   "outputs": [],
   "source": [
    "G.add_edges_from(edges)"
   ]
  },
  {
   "cell_type": "code",
   "execution_count": 106,
   "id": "13fa9105-8c3a-4e8b-a8d9-727afdd7753f",
   "metadata": {},
   "outputs": [],
   "source": [
    "giant = max(nx.connected_component_subgraphs(G), key=len)"
   ]
  },
  {
   "cell_type": "code",
   "execution_count": 96,
   "id": "3422ff86-f939-44f3-b7c2-ae0e6c57272a",
   "metadata": {
    "jupyter": {
     "source_hidden": true
    },
    "tags": []
   },
   "outputs": [],
   "source": [
    "from networkx.algorithms.components import number_connected_components"
   ]
  },
  {
   "cell_type": "code",
   "execution_count": 105,
   "id": "f5cf44c1-f7a6-4be8-b3d2-6278486189c8",
   "metadata": {},
   "outputs": [
    {
     "data": {
      "text/plain": [
       "{}"
      ]
     },
     "execution_count": 105,
     "metadata": {},
     "output_type": "execute_result"
    }
   ],
   "source": [
    "G.graph"
   ]
  },
  {
   "cell_type": "code",
   "execution_count": null,
   "id": "03111ab7-420e-46e6-a772-4f743f8ab354",
   "metadata": {},
   "outputs": [],
   "source": []
  },
  {
   "cell_type": "code",
   "execution_count": 108,
   "id": "9d2d6126-12b3-4590-a741-48abfbf85523",
   "metadata": {},
   "outputs": [],
   "source": [
    "nt = Network('1280px', '720px')\n",
    "# populates the nodes and edges data structures\n",
    "nt.from_nx(giant)\n",
    "nt.show_buttons()\n",
    "nt.show('nx.html')"
   ]
  },
  {
   "cell_type": "code",
   "execution_count": null,
   "id": "582167e2-764b-4fc5-b670-f14dd279a8e8",
   "metadata": {},
   "outputs": [],
   "source": []
  }
 ],
 "metadata": {
  "kernelspec": {
   "display_name": "Python 3",
   "language": "python",
   "name": "python3"
  },
  "language_info": {
   "codemirror_mode": {
    "name": "ipython",
    "version": 3
   },
   "file_extension": ".py",
   "mimetype": "text/x-python",
   "name": "python",
   "nbconvert_exporter": "python",
   "pygments_lexer": "ipython3",
   "version": "3.8.10"
  }
 },
 "nbformat": 4,
 "nbformat_minor": 5
}
