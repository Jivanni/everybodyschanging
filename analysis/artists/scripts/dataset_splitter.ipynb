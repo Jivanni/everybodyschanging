{
 "cells": [
  {
   "cell_type": "markdown",
   "id": "2de1d2cc-1764-4cc4-88e2-e172ccf10517",
   "metadata": {},
   "source": [
    "# A Script to split the main CSV into smaller files"
   ]
  },
  {
   "cell_type": "code",
   "execution_count": 2,
   "id": "a4226930-e310-4729-824a-fc656704e40a",
   "metadata": {},
   "outputs": [],
   "source": [
    "import re\n",
    "import pandas as pd"
   ]
  },
  {
   "cell_type": "markdown",
   "id": "56ad06cf-b6dc-4217-9db0-ffe0a87aff9e",
   "metadata": {},
   "source": [
    "Reading the big dataset"
   ]
  },
  {
   "cell_type": "code",
   "execution_count": 11,
   "id": "47dd4ce0-6b76-4cb6-a38a-2c561140ae72",
   "metadata": {},
   "outputs": [],
   "source": [
    "df = pd.read_csv(\"../../../data/combined_df_final.csv\", sep=\";\")"
   ]
  },
  {
   "cell_type": "markdown",
   "id": "f55a5d0c-627f-42c4-ab53-e6dfe84cedb0",
   "metadata": {},
   "source": [
    "Removing broken lines"
   ]
  },
  {
   "cell_type": "code",
   "execution_count": 7,
   "id": "7d72f3dc-afe6-492b-8ba0-76fb3d7bbd15",
   "metadata": {},
   "outputs": [],
   "source": [
    "df.to_csv(\"combined_df_final_nospace.csv\", sep=\";\",index=False)"
   ]
  },
  {
   "cell_type": "code",
   "execution_count": 8,
   "id": "52be25d9-e24a-40f0-b226-02cae6248ce1",
   "metadata": {},
   "outputs": [],
   "source": [
    "df = pd.read_csv(\"combined_df_final_nospace.csv\", sep=\";\").drop_duplicates(subset=\"song_id\")"
   ]
  },
  {
   "cell_type": "markdown",
   "id": "3df149d8-faf4-4cba-bcc8-16eaf0bbd0b3",
   "metadata": {},
   "source": [
    "Creating a csv with selected columns and unique songs"
   ]
  },
  {
   "cell_type": "code",
   "execution_count": 10,
   "id": "61fe4b76-909a-4ecd-86cf-548f867e8b58",
   "metadata": {},
   "outputs": [],
   "source": [
    "song_unique = df[['id', 'tag_fimi',\n",
    "       'publisher', 'album_release_date', 'album_type',\n",
    "       'song_name', 'album_id', 'artists_names', 'artists_id', 'explicit',\n",
    "       'duration', 'popularity', 'danceability', 'energy', 'key',\n",
    "       'loudness', 'mode', 'speechiness', 'acousticness', 'instrumentalness',\n",
    "       'liveness', 'valence', 'tempo', 'type',\n",
    "     'duration_ms']]"
   ]
  },
  {
   "cell_type": "code",
   "execution_count": 12,
   "id": "07f4d932-fe34-43dc-882f-5b0cce4b5f60",
   "metadata": {},
   "outputs": [],
   "source": [
    "song_unique.to_csv(\"unique_songs_with_feats_6.csv\",index=False, sep=\";\")"
   ]
  },
  {
   "cell_type": "markdown",
   "id": "a3496f39-2e0c-4492-b202-3e100b51b6e2",
   "metadata": {},
   "source": [
    "Csv of only distinct artists"
   ]
  },
  {
   "cell_type": "code",
   "execution_count": 13,
   "id": "e0cb547d-6621-4b29-8f62-510dfd8734db",
   "metadata": {},
   "outputs": [],
   "source": [
    "artists = df.drop_duplicates(subset=\"artists_names\")[\"artists_names\"].to_list()\n",
    "out = []\n",
    "for artist in artists:\n",
    "    try:\n",
    "        out.extend(eval(artist))\n",
    "    except:\n",
    "        out.append(artist)\n",
    "out_filtered = set([i for i in out])"
   ]
  },
  {
   "cell_type": "code",
   "execution_count": 14,
   "id": "4bb6ba13-f4d8-4df4-990a-4b89cf83bafa",
   "metadata": {},
   "outputs": [],
   "source": [
    "pd.DataFrame(out_filtered, columns = [\"artists_names\"]).to_csv(\"unique_artists_6.csv\",index=False)"
   ]
  }
 ],
 "metadata": {
  "kernelspec": {
   "display_name": "Python 3",
   "language": "python",
   "name": "python3"
  },
  "language_info": {
   "codemirror_mode": {
    "name": "ipython",
    "version": 3
   },
   "file_extension": ".py",
   "mimetype": "text/x-python",
   "name": "python",
   "nbconvert_exporter": "python",
   "pygments_lexer": "ipython3",
   "version": "3.8.10"
  }
 },
 "nbformat": 4,
 "nbformat_minor": 5
}
