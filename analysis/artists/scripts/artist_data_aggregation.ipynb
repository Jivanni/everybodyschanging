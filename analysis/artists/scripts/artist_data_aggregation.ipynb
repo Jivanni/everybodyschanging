{
 "cells": [
  {
   "cell_type": "markdown",
   "id": "5c479906-e189-4139-a4ff-bb4e88d7cef8",
   "metadata": {},
   "source": [
    "## A CSV to aggregate user Data"
   ]
  },
  {
   "cell_type": "code",
   "execution_count": 1,
   "id": "524a3a5b-a512-4c9e-b4cb-a2a966a50f25",
   "metadata": {},
   "outputs": [],
   "source": [
    "import pandas as pd\n",
    "import re\n",
    "import os\n",
    "import json"
   ]
  },
  {
   "cell_type": "code",
   "execution_count": 2,
   "id": "aab94ad3-f980-4c18-a9f8-bf02b27cc3f9",
   "metadata": {},
   "outputs": [],
   "source": [
    "df = pd.read_csv(\"../../data/unique_artists_6.csv\", delimiter=\";\")"
   ]
  },
  {
   "cell_type": "code",
   "execution_count": 7,
   "id": "44da560e-5834-461c-a2c9-e354be56d1bf",
   "metadata": {},
   "outputs": [],
   "source": [
    "folder = \"artist_jsons\""
   ]
  },
  {
   "cell_type": "code",
   "execution_count": 8,
   "id": "2cb146c5-c16d-4fc2-8c2e-b6665acd1ca5",
   "metadata": {},
   "outputs": [],
   "source": [
    "files = os.listdir(folder)"
   ]
  },
  {
   "cell_type": "code",
   "execution_count": 9,
   "id": "c8b19928-3fe5-470f-bd23-1c2a38aa49bb",
   "metadata": {},
   "outputs": [],
   "source": [
    "out = list()"
   ]
  },
  {
   "cell_type": "code",
   "execution_count": 10,
   "id": "cea683c5-0f1e-4d2b-ae09-553c90de402f",
   "metadata": {},
   "outputs": [],
   "source": [
    "jsons = list()"
   ]
  },
  {
   "cell_type": "markdown",
   "id": "725dc90c-5921-4ada-bbbf-c51fbc87dc19",
   "metadata": {},
   "source": [
    "We Unpack artist data from Jsons"
   ]
  },
  {
   "cell_type": "code",
   "execution_count": 11,
   "id": "822f59ff-794a-43d3-bac6-96773513a5b8",
   "metadata": {},
   "outputs": [],
   "source": [
    "# function to unpack jsons\n",
    "def unpack_json(dic):\n",
    "    lifespan = dic[\"life-span\"]\n",
    "    lifespan[\"life_end\"] = lifespan.pop(\"end\")\n",
    "    lifespan[\"life_ended\"] = lifespan.pop(\"ended\")\n",
    "    lifespan[\"life_begin\"] = lifespan.pop(\"begin\")\n",
    "    dic.pop(\"life-span\")\n",
    "    dic.update(lifespan)\n",
    "    for field in [\"begin_area\", \"area\", \"end_area\"]:\n",
    "        if field in dic:\n",
    "            if dic[field]:\n",
    "                new_field = dic[field]\n",
    "                dic.pop(field)\n",
    "                dic[field] = new_field.pop(\"name\")\n",
    "    for field in [\"genres\", \"tags\"]:\n",
    "        if field in dic:\n",
    "            if dic[field]:\n",
    "                array = []\n",
    "                for i in dic[field]:\n",
    "                    array.append(i.pop(\"name\"))\n",
    "                    dic[field] = array\n",
    "            else:\n",
    "                dic[field] = None"
   ]
  },
  {
   "cell_type": "code",
   "execution_count": 12,
   "id": "07b90536-a84e-455c-8d65-74f0e58ecd50",
   "metadata": {},
   "outputs": [],
   "source": [
    "rows_list = []\n",
    "for row in df[\"artists_names\"]:\n",
    "    clean_filename = re.sub(r\"[><:\\\"?*|\\\\/]\", \"\", f\"{row}.json\")\n",
    "    path = os.path.join(folder, clean_filename)\n",
    "    base_info = {\n",
    "        \"artists_names\":row\n",
    "        }\n",
    "    if os.path.isfile(path):\n",
    "        with open(path, \"r\") as js:\n",
    "            json_data = json.load(js)\n",
    "            unpack_json(json_data)\n",
    "            base_info.update({\"json_filename\" : clean_filename})\n",
    "            base_info.update(json_data)\n",
    "            rows_list.append(base_info)\n",
    "    else:\n",
    "        rows_list.append(base_info)\n",
    "\n",
    "out = pd.DataFrame(rows_list)       "
   ]
  },
  {
   "cell_type": "code",
   "execution_count": 13,
   "id": "1712a9f6-e4a0-4701-a42d-2779b3d17c76",
   "metadata": {},
   "outputs": [],
   "source": [
    "out.drop([\"works\", \"releases\", \"release-groups\", \"aliases\", \"type-id\", \"recordings\", \"gender-id\", \"begin-area\", \"end-area\",  \"rating\", \"isnis\", \"ipis\", \"relations\"], axis=1).to_csv(\"artistinfo_extended2.csv\", sep=\";\", index=False)"
   ]
  },
  {
   "cell_type": "code",
   "execution_count": 14,
   "id": "5ecc574b-c31c-4032-aa12-1639c3850f34",
   "metadata": {},
   "outputs": [
    {
     "data": {
      "text/plain": [
       "33"
      ]
     },
     "execution_count": 14,
     "metadata": {},
     "output_type": "execute_result"
    }
   ],
   "source": [
    "out['json_filename'].isnull().sum()"
   ]
  },
  {
   "cell_type": "code",
   "execution_count": 15,
   "id": "bd4b2523-3895-466c-bc8f-fe965af8d2a1",
   "metadata": {},
   "outputs": [],
   "source": [
    "out[out['json_filename'].isnull()][\"artists_names\"].to_csv(\"nas.csv\", sep=\";\", index=False)"
   ]
  }
 ],
 "metadata": {
  "kernelspec": {
   "display_name": "Python 3",
   "language": "python",
   "name": "python3"
  },
  "language_info": {
   "codemirror_mode": {
    "name": "ipython",
    "version": 3
   },
   "file_extension": ".py",
   "mimetype": "text/x-python",
   "name": "python",
   "nbconvert_exporter": "python",
   "pygments_lexer": "ipython3",
   "version": "3.8.10"
  }
 },
 "nbformat": 4,
 "nbformat_minor": 5
}
