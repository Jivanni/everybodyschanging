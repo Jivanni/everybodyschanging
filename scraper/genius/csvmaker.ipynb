{
 "cells": [
  {
   "cell_type": "code",
   "execution_count": 8,
   "id": "cb313e23-18de-414e-bb76-3a03510b978a",
   "metadata": {},
   "outputs": [],
   "source": [
    "import pandas as pd\n",
    "import re\n",
    "import os"
   ]
  },
  {
   "cell_type": "code",
   "execution_count": 47,
   "id": "31a0a5e5-55b5-4575-a09a-edf22e3900f0",
   "metadata": {},
   "outputs": [],
   "source": [
    "df = pd.read_csv(\"unique_songs_FINALISSIMISSIMO_2006_2021.csv\", delimiter=\";\")"
   ]
  },
  {
   "cell_type": "code",
   "execution_count": 48,
   "id": "bb6c72f4-322c-44bd-83ed-da67fec1a708",
   "metadata": {},
   "outputs": [
    {
     "data": {
      "text/html": [
       "<div>\n",
       "<style scoped>\n",
       "    .dataframe tbody tr th:only-of-type {\n",
       "        vertical-align: middle;\n",
       "    }\n",
       "\n",
       "    .dataframe tbody tr th {\n",
       "        vertical-align: top;\n",
       "    }\n",
       "\n",
       "    .dataframe thead th {\n",
       "        text-align: right;\n",
       "    }\n",
       "</style>\n",
       "<table border=\"1\" class=\"dataframe\">\n",
       "  <thead>\n",
       "    <tr style=\"text-align: right;\">\n",
       "      <th></th>\n",
       "      <th>id</th>\n",
       "      <th>song_name</th>\n",
       "      <th>artists_names</th>\n",
       "    </tr>\n",
       "  </thead>\n",
       "  <tbody>\n",
       "    <tr>\n",
       "      <th>0</th>\n",
       "      <td>1ecMdfIXNksJTymYlzsFZ3</td>\n",
       "      <td>Svegliarsi la mattina</td>\n",
       "      <td>['Zero Assoluto']</td>\n",
       "    </tr>\n",
       "    <tr>\n",
       "      <th>1</th>\n",
       "      <td>7nIWJew9BlYm5j0Bc9TUvr</td>\n",
       "      <td>One</td>\n",
       "      <td>['U2']</td>\n",
       "    </tr>\n",
       "    <tr>\n",
       "      <th>2</th>\n",
       "      <td>6shzlUkm7OcnoO4guEiGJ8</td>\n",
       "      <td>Sei nell'anima</td>\n",
       "      <td>['Gianna Nannini']</td>\n",
       "    </tr>\n",
       "    <tr>\n",
       "      <th>3</th>\n",
       "      <td>3YOigAKOgFTQuLjF9MBmd3</td>\n",
       "      <td>Upside Down</td>\n",
       "      <td>['Jack Johnson']</td>\n",
       "    </tr>\n",
       "    <tr>\n",
       "      <th>4</th>\n",
       "      <td>6vODhpvfWwdsO0i9MBWnEq</td>\n",
       "      <td>Dani California</td>\n",
       "      <td>['Red Hot Chili Peppers']</td>\n",
       "    </tr>\n",
       "  </tbody>\n",
       "</table>\n",
       "</div>"
      ],
      "text/plain": [
       "                       id              song_name              artists_names\n",
       "0  1ecMdfIXNksJTymYlzsFZ3  Svegliarsi la mattina          ['Zero Assoluto']\n",
       "1  7nIWJew9BlYm5j0Bc9TUvr                    One                     ['U2']\n",
       "2  6shzlUkm7OcnoO4guEiGJ8         Sei nell'anima         ['Gianna Nannini']\n",
       "3  3YOigAKOgFTQuLjF9MBmd3            Upside Down           ['Jack Johnson']\n",
       "4  6vODhpvfWwdsO0i9MBWnEq        Dani California  ['Red Hot Chili Peppers']"
      ]
     },
     "execution_count": 48,
     "metadata": {},
     "output_type": "execute_result"
    }
   ],
   "source": [
    "df.head()"
   ]
  },
  {
   "cell_type": "code",
   "execution_count": 49,
   "id": "874ea625-23d4-4f50-b607-47ac4ed8320f",
   "metadata": {},
   "outputs": [],
   "source": [
    "def unpack_artist_list(str_repr):\n",
    "    output = []\n",
    "    try:\n",
    "        output.extend(eval(str_repr))\n",
    "    except:\n",
    "        output.append(str_repr)\n",
    "    finally:\n",
    "        return output"
   ]
  },
  {
   "cell_type": "code",
   "execution_count": 50,
   "id": "50c409be-188e-4051-afff-b54ee7e23e90",
   "metadata": {},
   "outputs": [],
   "source": [
    "files = os.listdir(\"lyrics\")"
   ]
  },
  {
   "cell_type": "code",
   "execution_count": 51,
   "id": "1b579df9-2004-42b9-aa17-99ae3ccb0f8d",
   "metadata": {},
   "outputs": [],
   "source": [
    "out = []"
   ]
  },
  {
   "cell_type": "code",
   "execution_count": 52,
   "id": "b4ae83c7-06cf-4e55-8d9f-7c8d1b55c921",
   "metadata": {},
   "outputs": [],
   "source": [
    "for id_, song_name, artists_names in df.itertuples(index=False):\n",
    "    artists = unpack_artist_list(artists_names)\n",
    "    clean_filename = re.sub(r\"[><:\\\"?*|\\\\/]\", \"\", f\"{song_name}_{artists[0]}.txt\")\n",
    "    if os.path.isfile(\"lyrics/\"+clean_filename):\n",
    "        out.append(clean_filename)\n",
    "    else:\n",
    "        out.append(None)"
   ]
  },
  {
   "cell_type": "code",
   "execution_count": null,
   "id": "aec1843d-bcda-4485-9e6b-09184507b577",
   "metadata": {},
   "outputs": [],
   "source": []
  },
  {
   "cell_type": "code",
   "execution_count": 54,
   "id": "a69bfa83-23f7-4fd9-945e-6f16289578b6",
   "metadata": {},
   "outputs": [],
   "source": [
    "df['filename'] = out"
   ]
  },
  {
   "cell_type": "code",
   "execution_count": 55,
   "id": "84dd5d12-6f73-4e00-b741-cc2fce56d51b",
   "metadata": {},
   "outputs": [
    {
     "data": {
      "text/plain": [
       "681"
      ]
     },
     "execution_count": 55,
     "metadata": {},
     "output_type": "execute_result"
    }
   ],
   "source": [
    "df['filename'].isna().sum()"
   ]
  },
  {
   "cell_type": "code",
   "execution_count": 59,
   "id": "64b53948-a18b-4dc7-84b9-5f47d3a3e689",
   "metadata": {},
   "outputs": [],
   "source": [
    "df.to_csv(\"songs_with_filenames.csv\", index=False, sep=\";\")"
   ]
  },
  {
   "cell_type": "code",
   "execution_count": null,
   "id": "01e3edc3-ef44-46a6-96bb-de655abe11cb",
   "metadata": {},
   "outputs": [],
   "source": []
  }
 ],
 "metadata": {
  "kernelspec": {
   "display_name": "Python 3",
   "language": "python",
   "name": "python3"
  },
  "language_info": {
   "codemirror_mode": {
    "name": "ipython",
    "version": 3
   },
   "file_extension": ".py",
   "mimetype": "text/x-python",
   "name": "python",
   "nbconvert_exporter": "python",
   "pygments_lexer": "ipython3",
   "version": "3.8.8"
  }
 },
 "nbformat": 4,
 "nbformat_minor": 5
}
