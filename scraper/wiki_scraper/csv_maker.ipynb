{
 "cells": [
  {
   "cell_type": "code",
   "execution_count": 1,
   "id": "a4226930-e310-4729-824a-fc656704e40a",
   "metadata": {},
   "outputs": [],
   "source": [
    "import re\n",
    "import pandas as pd"
   ]
  },
  {
   "cell_type": "code",
   "execution_count": null,
   "id": "52be25d9-e24a-40f0-b226-02cae6248ce1",
   "metadata": {},
   "outputs": [],
   "source": [
    "df = pd.read_csv(\"cleaned_df_FINALISSIMISSIMO_2006_2021.csv\", sep=\";\").drop_duplicates(subset=\"id\")"
   ]
  },
  {
   "cell_type": "code",
   "execution_count": 2,
   "id": "61fe4b76-909a-4ecd-86cf-548f867e8b58",
   "metadata": {},
   "outputs": [],
   "source": [
    "song_unique = df[[\"id\", \"song_name\", \"artists_names\"]]"
   ]
  },
  {
   "cell_type": "code",
   "execution_count": 3,
   "id": "e0cb547d-6621-4b29-8f62-510dfd8734db",
   "metadata": {},
   "outputs": [],
   "source": [
    "artists = df.drop_duplicates(subset=\"artists_names\")[\"artists_names\"].to_list()\n",
    "out = []\n",
    "for artist in artists:\n",
    "    try:\n",
    "        out.extend(eval(artist))\n",
    "    except:\n",
    "        out.append(artist)\n",
    "#reg = re.compile(r\",.+\")\n",
    "out_filtered = set([i for i in out])"
   ]
  },
  {
   "cell_type": "code",
   "execution_count": 4,
   "id": "cba9bb80-567b-4ae4-a0ea-0d4adec8f714",
   "metadata": {},
   "outputs": [],
   "source": [
    "song_unique.to_csv(\"unique_songs_FINALISSIMISSIMO_2006_2021.csv\",index=False, sep=\";\")"
   ]
  },
  {
   "cell_type": "code",
   "execution_count": 5,
   "id": "4bb6ba13-f4d8-4df4-990a-4b89cf83bafa",
   "metadata": {},
   "outputs": [],
   "source": [
    "pd.DataFrame(out_filtered, columns = [\"artists_names\"]).to_csv(\"unique_artists_FINALISSIMISSIMO_2006_2021.csv\",index=False)"
   ]
  },
  {
   "cell_type": "code",
   "execution_count": null,
   "id": "a34b878e-7e1e-4736-9c68-edebe8b81d84",
   "metadata": {},
   "outputs": [],
   "source": []
  },
  {
   "cell_type": "code",
   "execution_count": 2,
   "id": "f651370b-44e2-4e64-966e-f84fd1a9d666",
   "metadata": {},
   "outputs": [],
   "source": [
    "import re\n",
    "import pandas as pd"
   ]
  },
  {
   "cell_type": "code",
   "execution_count": null,
   "id": "e974de0c-dcfc-4d06-a68b-275950d82b0c",
   "metadata": {
    "jupyter": {
     "source_hidden": true
    },
    "tags": []
   },
   "outputs": [],
   "source": []
  },
  {
   "cell_type": "code",
   "execution_count": 2,
   "id": "3bc9a9ef-775c-49f7-b4c3-cbfba1825101",
   "metadata": {},
   "outputs": [],
   "source": [
    "wiki = pd.read_csv(\"data/wikipages_it.csv\", sep=\";\")"
   ]
  },
  {
   "cell_type": "code",
   "execution_count": 3,
   "id": "44586ed1-a31b-428e-ac69-c0bd4dc98e17",
   "metadata": {},
   "outputs": [],
   "source": [
    "wikieng = pd.read_csv(\"data/wikipages_eng.csv\", sep=\";\")"
   ]
  },
  {
   "cell_type": "code",
   "execution_count": 4,
   "id": "0f8b977d-e653-40d7-8abf-2a3350d135aa",
   "metadata": {},
   "outputs": [],
   "source": [
    "pd.merge(wiki,wikieng,on=\"spotyname\", how=\"outer\").to_csv(\"wikipages_eng_it_finale.csv\",index=False, sep=\";\")"
   ]
  },
  {
   "cell_type": "code",
   "execution_count": 20,
   "id": "1079e781-0fda-4f88-834b-4aed31b8c255",
   "metadata": {},
   "outputs": [],
   "source": [
    "finalarts = pd.read_csv(\"data/pages/unique_artists_FINALISSIMISSIMO_2006_2021.csv\", sep=\";\")"
   ]
  },
  {
   "cell_type": "code",
   "execution_count": 21,
   "id": "ce48efd7-4602-4ac6-99e0-25857d644186",
   "metadata": {},
   "outputs": [],
   "source": [
    "dwnpages = pd.read_csv(\"data/pages/wikipages_eng_it_full.csv\",sep=\";\")"
   ]
  },
  {
   "cell_type": "code",
   "execution_count": 28,
   "id": "3140a0ba-2e6b-49ed-a359-de88db28041a",
   "metadata": {},
   "outputs": [
    {
     "data": {
      "text/plain": [
       "<bound method NDFrame.describe of              spotyname            wikipagename           wikipagename_eng\n",
       "0          Brunori Sas             Brunori Sas                Brunori Sas\n",
       "1            Side Baby                     NaN                  Side Baby\n",
       "2     Michael Marshall  Michael Marshall Smith  Michael Marshall (singer)\n",
       "3     Michael Kiwanuka        Michael Kiwanuka           Michael Kiwanuka\n",
       "4               Fergie                  Fergie            Fergie (singer)\n",
       "...                ...                     ...                        ...\n",
       "1959      Milky Chance            Milky Chance               Milky Chance\n",
       "1960        Maty Noyes              Maty Noyes                 Maty Noyes\n",
       "1961         21 Savage               21 Savage                  21 Savage\n",
       "1962     David Gilmour           David Gilmour              David Gilmour\n",
       "1963         Tom Jones    Tom Jones (cantante)         Tom Jones (singer)\n",
       "\n",
       "[1964 rows x 3 columns]>"
      ]
     },
     "execution_count": 28,
     "metadata": {},
     "output_type": "execute_result"
    }
   ],
   "source": [
    "dwnpages.describe"
   ]
  },
  {
   "cell_type": "code",
   "execution_count": 27,
   "id": "e0e47e0f-4c52-46f9-adb4-98556d85235d",
   "metadata": {},
   "outputs": [
    {
     "data": {
      "text/plain": [
       "<bound method NDFrame.describe of               spotyname\n",
       "0            cmqmartina\n",
       "1     Children Of Bodom\n",
       "2               Ward 21\n",
       "3              Maroon 5\n",
       "4             Rammstein\n",
       "...                 ...\n",
       "2424       Samuel Storm\n",
       "2425  Cast Of Camp Rock\n",
       "2426              JAY-Z\n",
       "2427              Jaden\n",
       "2428      La Differenza\n",
       "\n",
       "[2429 rows x 1 columns]>"
      ]
     },
     "execution_count": 27,
     "metadata": {},
     "output_type": "execute_result"
    }
   ],
   "source": [
    "finalarts.describe"
   ]
  },
  {
   "cell_type": "code",
   "execution_count": 32,
   "id": "04d17d34-3091-4eef-a850-a6195106a4dd",
   "metadata": {},
   "outputs": [],
   "source": [
    "inter = dwnpages.merge(finalarts, how = 'outer')"
   ]
  },
  {
   "cell_type": "code",
   "execution_count": 34,
   "id": "67e5fc47-c0fa-4b98-b09d-b7c2ae3168e7",
   "metadata": {},
   "outputs": [
    {
     "data": {
      "text/plain": [
       "<bound method NDFrame.describe of                spotyname            wikipagename           wikipagename_eng\n",
       "0            Brunori Sas             Brunori Sas                Brunori Sas\n",
       "1              Side Baby                     NaN                  Side Baby\n",
       "2       Michael Marshall  Michael Marshall Smith  Michael Marshall (singer)\n",
       "3       Michael Kiwanuka        Michael Kiwanuka           Michael Kiwanuka\n",
       "4                 Fergie                  Fergie            Fergie (singer)\n",
       "...                  ...                     ...                        ...\n",
       "2436      Enrico Musiani                     NaN                        NaN\n",
       "2437               Nabat                     NaN                        NaN\n",
       "2438                ANNA                     NaN                        NaN\n",
       "2439  Axwell /\\ Ingrosso                     NaN                        NaN\n",
       "2440               Morad                     NaN                        NaN\n",
       "\n",
       "[2441 rows x 3 columns]>"
      ]
     },
     "execution_count": 34,
     "metadata": {},
     "output_type": "execute_result"
    }
   ],
   "source": [
    "inter.describe"
   ]
  },
  {
   "cell_type": "code",
   "execution_count": 35,
   "id": "250b2647-ed36-44ed-a6e2-301c212a73b3",
   "metadata": {},
   "outputs": [],
   "source": [
    "inter.merge(finalarts, how=\"inner\").to_csv(\"wikipages_eng_it_complete.csv\",index=False, sep=\";\")"
   ]
  },
  {
   "cell_type": "code",
   "execution_count": null,
   "id": "7924e98d-d830-4df4-8a3c-11ab092c8db4",
   "metadata": {},
   "outputs": [],
   "source": []
  }
 ],
 "metadata": {
  "kernelspec": {
   "display_name": "Python 3",
   "language": "python",
   "name": "python3"
  },
  "language_info": {
   "codemirror_mode": {
    "name": "ipython",
    "version": 3
   },
   "file_extension": ".py",
   "mimetype": "text/x-python",
   "name": "python",
   "nbconvert_exporter": "python",
   "pygments_lexer": "ipython3",
   "version": "3.8.8"
  }
 },
 "nbformat": 4,
 "nbformat_minor": 5
}
