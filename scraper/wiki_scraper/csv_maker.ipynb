{
 "cells": [
  {
   "cell_type": "code",
   "execution_count": 8,
   "id": "a4226930-e310-4729-824a-fc656704e40a",
   "metadata": {},
   "outputs": [],
   "source": [
    "import re\n",
    "import pandas as pd\n",
    "\n",
    "df = pd.read_csv(\"final_df.csv\", sep=\";\").drop_duplicates(subset=\"id\")"
   ]
  },
  {
   "cell_type": "code",
   "execution_count": 9,
   "id": "61fe4b76-909a-4ecd-86cf-548f867e8b58",
   "metadata": {},
   "outputs": [],
   "source": [
    "song_unique = df[[\"id\", \"original_song_name\", \"original_artists_name\", \"song_name\", \"artists_names\"]]"
   ]
  },
  {
   "cell_type": "code",
   "execution_count": 14,
   "id": "e0cb547d-6621-4b29-8f62-510dfd8734db",
   "metadata": {},
   "outputs": [],
   "source": [
    "artists = df.drop_duplicates(subset=\"artists_names\")[\"artists_names\"].to_list()\n",
    "out = []\n",
    "for artist in artists:\n",
    "    try:\n",
    "        out.extend(eval(artist))\n",
    "    except:\n",
    "        out.append(artist)\n",
    "#reg = re.compile(r\",.+\")\n",
    "out_filtered = set([i for i in out])"
   ]
  },
  {
   "cell_type": "code",
   "execution_count": 15,
   "id": "cba9bb80-567b-4ae4-a0ea-0d4adec8f714",
   "metadata": {},
   "outputs": [],
   "source": [
    "song_unique.to_csv(\"unique_songs.csv\",index=False, sep=\";\")"
   ]
  },
  {
   "cell_type": "code",
   "execution_count": 16,
   "id": "4bb6ba13-f4d8-4df4-990a-4b89cf83bafa",
   "metadata": {},
   "outputs": [],
   "source": [
    "pd.DataFrame(out_filtered, columns = [\"artists_names\"]).to_csv(\"unique_artists.csv\",index=False)"
   ]
  },
  {
   "cell_type": "code",
   "execution_count": null,
   "id": "e974de0c-dcfc-4d06-a68b-275950d82b0c",
   "metadata": {
    "jupyter": {
     "source_hidden": true
    },
    "tags": []
   },
   "outputs": [],
   "source": []
  },
  {
   "cell_type": "code",
   "execution_count": null,
   "id": "3bc9a9ef-775c-49f7-b4c3-cbfba1825101",
   "metadata": {},
   "outputs": [],
   "source": []
  }
 ],
 "metadata": {
  "kernelspec": {
   "display_name": "Python 3",
   "language": "python",
   "name": "python3"
  },
  "language_info": {
   "codemirror_mode": {
    "name": "ipython",
    "version": 3
   },
   "file_extension": ".py",
   "mimetype": "text/x-python",
   "name": "python",
   "nbconvert_exporter": "python",
   "pygments_lexer": "ipython3",
   "version": "3.8.8"
  }
 },
 "nbformat": 4,
 "nbformat_minor": 5
}
